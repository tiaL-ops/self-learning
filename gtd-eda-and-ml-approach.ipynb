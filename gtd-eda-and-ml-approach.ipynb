{
 "cells": [
  {
   "cell_type": "code",
   "execution_count": 1,
   "id": "50253e55",
   "metadata": {
    "_cell_guid": "b1076dfc-b9ad-4769-8c92-a6c4dae69d19",
    "_uuid": "8f2839f25d086af736a60e9eeb907d3b93b6e0e5",
    "execution": {
     "iopub.execute_input": "2023-01-18T02:49:17.479777Z",
     "iopub.status.busy": "2023-01-18T02:49:17.479259Z",
     "iopub.status.idle": "2023-01-18T02:49:17.497367Z",
     "shell.execute_reply": "2023-01-18T02:49:17.496292Z"
    },
    "papermill": {
     "duration": 0.031532,
     "end_time": "2023-01-18T02:49:17.501374",
     "exception": false,
     "start_time": "2023-01-18T02:49:17.469842",
     "status": "completed"
    },
    "tags": []
   },
   "outputs": [
    {
     "name": "stdout",
     "output_type": "stream",
     "text": [
      "/kaggle/input/gtd/globalterrorismdb_0718dist.csv\n"
     ]
    }
   ],
   "source": [
    "# This Python 3 environment comes with many helpful analytics libraries installed\n",
    "# It is defined by the kaggle/python Docker image: https://github.com/kaggle/docker-python\n",
    "# For example, here's several helpful packages to load\n",
    "\n",
    "import numpy as np # linear algebra\n",
    "import pandas as pd # data processing, CSV file I/O (e.g. pd.read_csv)\n",
    "\n",
    "# Input data files are available in the read-only \"../input/\" directory\n",
    "# For example, running this (by clicking run or pressing Shift+Enter) will list all files under the input directory\n",
    "\n",
    "import os\n",
    "for dirname, _, filenames in os.walk('/kaggle/input'):\n",
    "    for filename in filenames:\n",
    "        print(os.path.join(dirname, filename))\n",
    "\n",
    "# You can write up to 20GB to the current directory (/kaggle/working/) that gets preserved as output when you create a version using \"Save & Run All\" \n",
    "# You can also write temporary files to /kaggle/temp/, but they won't be saved outside of the current session"
   ]
  },
  {
   "cell_type": "markdown",
   "id": "34f96278",
   "metadata": {
    "papermill": {
     "duration": 0.006452,
     "end_time": "2023-01-18T02:49:17.515067",
     "exception": false,
     "start_time": "2023-01-18T02:49:17.508615",
     "status": "completed"
    },
    "tags": []
   },
   "source": [
    "I - Data prepocessing and data cleaning.\n",
    "\n",
    "1. 1- Where are the countries most targeted by terrorism?\n",
    "1. 2-Who or what are the most targeted? \n",
    "1. 3- Is there a relationship between success and countries? \n",
    "1. 4-Did terrorism increase or decrease over time?\n"
   ]
  },
  {
   "cell_type": "code",
   "execution_count": 2,
   "id": "a7f9d293",
   "metadata": {
    "execution": {
     "iopub.execute_input": "2023-01-18T02:49:17.529958Z",
     "iopub.status.busy": "2023-01-18T02:49:17.529531Z",
     "iopub.status.idle": "2023-01-18T02:49:18.954235Z",
     "shell.execute_reply": "2023-01-18T02:49:18.953334Z"
    },
    "papermill": {
     "duration": 1.435253,
     "end_time": "2023-01-18T02:49:18.956807",
     "exception": false,
     "start_time": "2023-01-18T02:49:17.521554",
     "status": "completed"
    },
    "tags": []
   },
   "outputs": [],
   "source": [
    "import matplotlib as plt\n",
    "import plotly.express as px"
   ]
  },
  {
   "cell_type": "code",
   "execution_count": 3,
   "id": "de23ce52",
   "metadata": {
    "execution": {
     "iopub.execute_input": "2023-01-18T02:49:18.972479Z",
     "iopub.status.busy": "2023-01-18T02:49:18.971750Z",
     "iopub.status.idle": "2023-01-18T02:49:24.968296Z",
     "shell.execute_reply": "2023-01-18T02:49:24.967134Z"
    },
    "papermill": {
     "duration": 6.007847,
     "end_time": "2023-01-18T02:49:24.971154",
     "exception": false,
     "start_time": "2023-01-18T02:49:18.963307",
     "status": "completed"
    },
    "tags": []
   },
   "outputs": [
    {
     "name": "stderr",
     "output_type": "stream",
     "text": [
      "/opt/conda/lib/python3.7/site-packages/IPython/core/interactiveshell.py:3552: DtypeWarning: Columns (4,6,31,33,61,62,63,76,79,90,92,94,96,114,115,121) have mixed types.Specify dtype option on import or set low_memory=False.\n",
      "  exec(code_obj, self.user_global_ns, self.user_ns)\n"
     ]
    }
   ],
   "source": [
    "filepath=\"/kaggle/input/gtd/globalterrorismdb_0718dist.csv\"\n",
    "df=pd.read_csv(filepath,encoding='ISO-8859-1')"
   ]
  },
  {
   "cell_type": "code",
   "execution_count": 4,
   "id": "971bb125",
   "metadata": {
    "execution": {
     "iopub.execute_input": "2023-01-18T02:49:24.986041Z",
     "iopub.status.busy": "2023-01-18T02:49:24.985600Z",
     "iopub.status.idle": "2023-01-18T02:49:25.021146Z",
     "shell.execute_reply": "2023-01-18T02:49:25.019977Z"
    },
    "papermill": {
     "duration": 0.046038,
     "end_time": "2023-01-18T02:49:25.023805",
     "exception": false,
     "start_time": "2023-01-18T02:49:24.977767",
     "status": "completed"
    },
    "tags": []
   },
   "outputs": [
    {
     "data": {
      "text/html": [
       "<div>\n",
       "<style scoped>\n",
       "    .dataframe tbody tr th:only-of-type {\n",
       "        vertical-align: middle;\n",
       "    }\n",
       "\n",
       "    .dataframe tbody tr th {\n",
       "        vertical-align: top;\n",
       "    }\n",
       "\n",
       "    .dataframe thead th {\n",
       "        text-align: right;\n",
       "    }\n",
       "</style>\n",
       "<table border=\"1\" class=\"dataframe\">\n",
       "  <thead>\n",
       "    <tr style=\"text-align: right;\">\n",
       "      <th></th>\n",
       "      <th>eventid</th>\n",
       "      <th>iyear</th>\n",
       "      <th>imonth</th>\n",
       "      <th>iday</th>\n",
       "      <th>approxdate</th>\n",
       "      <th>extended</th>\n",
       "      <th>resolution</th>\n",
       "      <th>country</th>\n",
       "      <th>country_txt</th>\n",
       "      <th>region</th>\n",
       "      <th>...</th>\n",
       "      <th>addnotes</th>\n",
       "      <th>scite1</th>\n",
       "      <th>scite2</th>\n",
       "      <th>scite3</th>\n",
       "      <th>dbsource</th>\n",
       "      <th>INT_LOG</th>\n",
       "      <th>INT_IDEO</th>\n",
       "      <th>INT_MISC</th>\n",
       "      <th>INT_ANY</th>\n",
       "      <th>related</th>\n",
       "    </tr>\n",
       "  </thead>\n",
       "  <tbody>\n",
       "    <tr>\n",
       "      <th>0</th>\n",
       "      <td>197000000001</td>\n",
       "      <td>1970</td>\n",
       "      <td>7</td>\n",
       "      <td>2</td>\n",
       "      <td>NaN</td>\n",
       "      <td>0</td>\n",
       "      <td>NaN</td>\n",
       "      <td>58</td>\n",
       "      <td>Dominican Republic</td>\n",
       "      <td>2</td>\n",
       "      <td>...</td>\n",
       "      <td>NaN</td>\n",
       "      <td>NaN</td>\n",
       "      <td>NaN</td>\n",
       "      <td>NaN</td>\n",
       "      <td>PGIS</td>\n",
       "      <td>0</td>\n",
       "      <td>0</td>\n",
       "      <td>0</td>\n",
       "      <td>0</td>\n",
       "      <td>NaN</td>\n",
       "    </tr>\n",
       "    <tr>\n",
       "      <th>1</th>\n",
       "      <td>197000000002</td>\n",
       "      <td>1970</td>\n",
       "      <td>0</td>\n",
       "      <td>0</td>\n",
       "      <td>NaN</td>\n",
       "      <td>0</td>\n",
       "      <td>NaN</td>\n",
       "      <td>130</td>\n",
       "      <td>Mexico</td>\n",
       "      <td>1</td>\n",
       "      <td>...</td>\n",
       "      <td>NaN</td>\n",
       "      <td>NaN</td>\n",
       "      <td>NaN</td>\n",
       "      <td>NaN</td>\n",
       "      <td>PGIS</td>\n",
       "      <td>0</td>\n",
       "      <td>1</td>\n",
       "      <td>1</td>\n",
       "      <td>1</td>\n",
       "      <td>NaN</td>\n",
       "    </tr>\n",
       "    <tr>\n",
       "      <th>2</th>\n",
       "      <td>197001000001</td>\n",
       "      <td>1970</td>\n",
       "      <td>1</td>\n",
       "      <td>0</td>\n",
       "      <td>NaN</td>\n",
       "      <td>0</td>\n",
       "      <td>NaN</td>\n",
       "      <td>160</td>\n",
       "      <td>Philippines</td>\n",
       "      <td>5</td>\n",
       "      <td>...</td>\n",
       "      <td>NaN</td>\n",
       "      <td>NaN</td>\n",
       "      <td>NaN</td>\n",
       "      <td>NaN</td>\n",
       "      <td>PGIS</td>\n",
       "      <td>-9</td>\n",
       "      <td>-9</td>\n",
       "      <td>1</td>\n",
       "      <td>1</td>\n",
       "      <td>NaN</td>\n",
       "    </tr>\n",
       "    <tr>\n",
       "      <th>3</th>\n",
       "      <td>197001000002</td>\n",
       "      <td>1970</td>\n",
       "      <td>1</td>\n",
       "      <td>0</td>\n",
       "      <td>NaN</td>\n",
       "      <td>0</td>\n",
       "      <td>NaN</td>\n",
       "      <td>78</td>\n",
       "      <td>Greece</td>\n",
       "      <td>8</td>\n",
       "      <td>...</td>\n",
       "      <td>NaN</td>\n",
       "      <td>NaN</td>\n",
       "      <td>NaN</td>\n",
       "      <td>NaN</td>\n",
       "      <td>PGIS</td>\n",
       "      <td>-9</td>\n",
       "      <td>-9</td>\n",
       "      <td>1</td>\n",
       "      <td>1</td>\n",
       "      <td>NaN</td>\n",
       "    </tr>\n",
       "    <tr>\n",
       "      <th>4</th>\n",
       "      <td>197001000003</td>\n",
       "      <td>1970</td>\n",
       "      <td>1</td>\n",
       "      <td>0</td>\n",
       "      <td>NaN</td>\n",
       "      <td>0</td>\n",
       "      <td>NaN</td>\n",
       "      <td>101</td>\n",
       "      <td>Japan</td>\n",
       "      <td>4</td>\n",
       "      <td>...</td>\n",
       "      <td>NaN</td>\n",
       "      <td>NaN</td>\n",
       "      <td>NaN</td>\n",
       "      <td>NaN</td>\n",
       "      <td>PGIS</td>\n",
       "      <td>-9</td>\n",
       "      <td>-9</td>\n",
       "      <td>1</td>\n",
       "      <td>1</td>\n",
       "      <td>NaN</td>\n",
       "    </tr>\n",
       "  </tbody>\n",
       "</table>\n",
       "<p>5 rows × 135 columns</p>\n",
       "</div>"
      ],
      "text/plain": [
       "        eventid  iyear  imonth  iday approxdate  extended resolution  country  \\\n",
       "0  197000000001   1970       7     2        NaN         0        NaN       58   \n",
       "1  197000000002   1970       0     0        NaN         0        NaN      130   \n",
       "2  197001000001   1970       1     0        NaN         0        NaN      160   \n",
       "3  197001000002   1970       1     0        NaN         0        NaN       78   \n",
       "4  197001000003   1970       1     0        NaN         0        NaN      101   \n",
       "\n",
       "          country_txt  region  ... addnotes scite1 scite2  scite3  dbsource  \\\n",
       "0  Dominican Republic       2  ...      NaN    NaN    NaN     NaN      PGIS   \n",
       "1              Mexico       1  ...      NaN    NaN    NaN     NaN      PGIS   \n",
       "2         Philippines       5  ...      NaN    NaN    NaN     NaN      PGIS   \n",
       "3              Greece       8  ...      NaN    NaN    NaN     NaN      PGIS   \n",
       "4               Japan       4  ...      NaN    NaN    NaN     NaN      PGIS   \n",
       "\n",
       "   INT_LOG  INT_IDEO INT_MISC INT_ANY  related  \n",
       "0        0         0        0       0      NaN  \n",
       "1        0         1        1       1      NaN  \n",
       "2       -9        -9        1       1      NaN  \n",
       "3       -9        -9        1       1      NaN  \n",
       "4       -9        -9        1       1      NaN  \n",
       "\n",
       "[5 rows x 135 columns]"
      ]
     },
     "execution_count": 4,
     "metadata": {},
     "output_type": "execute_result"
    }
   ],
   "source": [
    "df.head()"
   ]
  },
  {
   "cell_type": "code",
   "execution_count": 5,
   "id": "c52da40c",
   "metadata": {
    "execution": {
     "iopub.execute_input": "2023-01-18T02:49:25.039997Z",
     "iopub.status.busy": "2023-01-18T02:49:25.039530Z",
     "iopub.status.idle": "2023-01-18T02:49:25.740245Z",
     "shell.execute_reply": "2023-01-18T02:49:25.739064Z"
    },
    "papermill": {
     "duration": 0.712034,
     "end_time": "2023-01-18T02:49:25.743038",
     "exception": false,
     "start_time": "2023-01-18T02:49:25.031004",
     "status": "completed"
    },
    "tags": []
   },
   "outputs": [],
   "source": [
    "import missingno as msno"
   ]
  },
  {
   "cell_type": "code",
   "execution_count": 6,
   "id": "8547abd5",
   "metadata": {
    "execution": {
     "iopub.execute_input": "2023-01-18T02:49:25.758982Z",
     "iopub.status.busy": "2023-01-18T02:49:25.758544Z",
     "iopub.status.idle": "2023-01-18T02:49:35.464923Z",
     "shell.execute_reply": "2023-01-18T02:49:35.463721Z"
    },
    "papermill": {
     "duration": 9.717059,
     "end_time": "2023-01-18T02:49:35.467215",
     "exception": false,
     "start_time": "2023-01-18T02:49:25.750156",
     "status": "completed"
    },
    "tags": []
   },
   "outputs": [
    {
     "data": {
      "text/plain": [
       "<AxesSubplot:>"
      ]
     },
     "execution_count": 6,
     "metadata": {},
     "output_type": "execute_result"
    },
    {
     "data": {
      "image/png": "[encoded data removed]",
      "text/plain": [
       "<Figure size 1800x720 with 2 Axes>"
      ]
     },
     "metadata": {
      "needs_background": "light"
     },
     "output_type": "display_data"
    }
   ],
   "source": [
    "#Visualize missing data\n",
    "import missingno as msno\n",
    "msno.matrix(df)\n"
   ]
  },
  {
   "cell_type": "code",
   "execution_count": 7,
   "id": "f6327862",
   "metadata": {
    "execution": {
     "iopub.execute_input": "2023-01-18T02:49:35.486572Z",
     "iopub.status.busy": "2023-01-18T02:49:35.486134Z",
     "iopub.status.idle": "2023-01-18T02:49:35.493605Z",
     "shell.execute_reply": "2023-01-18T02:49:35.492407Z"
    },
    "papermill": {
     "duration": 0.019012,
     "end_time": "2023-01-18T02:49:35.496001",
     "exception": false,
     "start_time": "2023-01-18T02:49:35.476989",
     "status": "completed"
    },
    "tags": []
   },
   "outputs": [],
   "source": [
    "#get a numerical value of missing data\n",
    "def get_numerical_summary(df):\n",
    "    total = df.shape[0]\n",
    "    missing_columns = [col for col in df.columns if df[col].isnull().sum() > 0]\n",
    "    missing_percent = {}\n",
    "    for col in missing_columns:\n",
    "        null_count = df[col].isnull().sum()\n",
    "        per = (null_count/total) * 100\n",
    "        missing_percent[col] = per\n",
    "        print(\"{} : {} ({}%)\".format(col, null_count, round(per, 3)))\n",
    "    return missing_percent"
   ]
  },
  {
   "cell_type": "code",
   "execution_count": 8,
   "id": "7462e8ca",
   "metadata": {
    "execution": {
     "iopub.execute_input": "2023-01-18T02:49:35.513585Z",
     "iopub.status.busy": "2023-01-18T02:49:35.513168Z",
     "iopub.status.idle": "2023-01-18T02:49:36.370432Z",
     "shell.execute_reply": "2023-01-18T02:49:36.369205Z"
    },
    "papermill": {
     "duration": 0.868972,
     "end_time": "2023-01-18T02:49:36.373076",
     "exception": false,
     "start_time": "2023-01-18T02:49:35.504104",
     "status": "completed"
    },
    "tags": []
   },
   "outputs": [
    {
     "name": "stdout",
     "output_type": "stream",
     "text": [
      "approxdate : 172452 (94.915%)\n",
      "resolution : 179471 (98.778%)\n",
      "provstate : 421 (0.232%)\n",
      "city : 434 (0.239%)\n",
      "latitude : 4556 (2.508%)\n",
      "longitude : 4557 (2.508%)\n",
      "specificity : 6 (0.003%)\n",
      "location : 126196 (69.456%)\n",
      "summary : 66129 (36.396%)\n",
      "doubtterr : 1 (0.001%)\n",
      "alternative : 152680 (84.033%)\n",
      "alternative_txt : 152680 (84.033%)\n",
      "multiple : 1 (0.001%)\n",
      "attacktype2 : 175377 (96.525%)\n",
      "attacktype2_txt : 175377 (96.525%)\n",
      "attacktype3 : 181263 (99.764%)\n",
      "attacktype3_txt : 181263 (99.764%)\n",
      "targsubtype1 : 10373 (5.709%)\n",
      "targsubtype1_txt : 10373 (5.709%)\n",
      "corp1 : 42550 (23.419%)\n",
      "target1 : 636 (0.35%)\n",
      "natlty1 : 1559 (0.858%)\n",
      "natlty1_txt : 1559 (0.858%)\n",
      "targtype2 : 170547 (93.867%)\n",
      "targtype2_txt : 170547 (93.867%)\n",
      "targsubtype2 : 171006 (94.119%)\n",
      "targsubtype2_txt : 171006 (94.119%)\n",
      "corp2 : 171574 (94.432%)\n",
      "target2 : 170671 (93.935%)\n",
      "natlty2 : 170863 (94.04%)\n",
      "natlty2_txt : 170863 (94.04%)\n",
      "targtype3 : 180515 (99.353%)\n",
      "targtype3_txt : 180515 (99.353%)\n",
      "targsubtype3 : 180594 (99.396%)\n",
      "targsubtype3_txt : 180594 (99.396%)\n",
      "corp3 : 180665 (99.435%)\n",
      "target3 : 180516 (99.353%)\n",
      "natlty3 : 180544 (99.369%)\n",
      "natlty3_txt : 180544 (99.369%)\n",
      "gsubname : 175801 (96.758%)\n",
      "gname2 : 179678 (98.892%)\n",
      "gsubname2 : 181531 (99.912%)\n",
      "gname3 : 181367 (99.822%)\n",
      "gsubname3 : 181671 (99.989%)\n",
      "motive : 131130 (72.172%)\n",
      "guncertain1 : 380 (0.209%)\n",
      "guncertain2 : 179736 (98.924%)\n",
      "guncertain3 : 181371 (99.824%)\n",
      "nperps : 71115 (39.141%)\n",
      "nperpcap : 69489 (38.246%)\n",
      "claimed : 66120 (36.391%)\n",
      "claimmode : 162608 (89.497%)\n",
      "claimmode_txt : 162608 (89.497%)\n",
      "claim2 : 179801 (98.96%)\n",
      "claimmode2 : 181075 (99.661%)\n",
      "claimmode2_txt : 181075 (99.661%)\n",
      "claim3 : 181373 (99.825%)\n",
      "claimmode3 : 181558 (99.927%)\n",
      "claimmode3_txt : 181558 (99.927%)\n",
      "compclaim : 176852 (97.337%)\n",
      "weapsubtype1 : 20768 (11.43%)\n",
      "weapsubtype1_txt : 20768 (11.43%)\n",
      "weaptype2 : 168564 (92.775%)\n",
      "weaptype2_txt : 168564 (92.775%)\n",
      "weapsubtype2 : 170149 (93.647%)\n",
      "weapsubtype2_txt : 170149 (93.647%)\n",
      "weaptype3 : 179828 (98.975%)\n",
      "weaptype3_txt : 179828 (98.975%)\n",
      "weapsubtype3 : 179998 (99.068%)\n",
      "weapsubtype3_txt : 179998 (99.068%)\n",
      "weaptype4 : 181618 (99.96%)\n",
      "weaptype4_txt : 181618 (99.96%)\n",
      "weapsubtype4 : 181621 (99.961%)\n",
      "weapsubtype4_txt : 181621 (99.961%)\n",
      "weapdetail : 67670 (37.245%)\n",
      "nkill : 10313 (5.676%)\n",
      "nkillus : 64446 (35.47%)\n",
      "nkillter : 66958 (36.853%)\n",
      "nwound : 16311 (8.977%)\n",
      "nwoundus : 64702 (35.611%)\n",
      "nwoundte : 69143 (38.055%)\n",
      "propextent : 117626 (64.74%)\n",
      "propextent_txt : 117626 (64.74%)\n",
      "propvalue : 142702 (78.541%)\n",
      "propcomment : 123732 (68.1%)\n",
      "ishostkid : 178 (0.098%)\n",
      "nhostkid : 168119 (92.53%)\n",
      "nhostkidus : 168174 (92.56%)\n",
      "nhours : 177628 (97.764%)\n",
      "ndays : 173567 (95.529%)\n",
      "divert : 181367 (99.822%)\n",
      "kidhijcountry : 178386 (98.181%)\n",
      "ransom : 104310 (57.411%)\n",
      "ransomamt : 180341 (99.257%)\n",
      "ransomamtus : 181128 (99.69%)\n",
      "ransompaid : 180917 (99.574%)\n",
      "ransompaidus : 181139 (99.696%)\n",
      "ransomnote : 181177 (99.717%)\n",
      "hostkidoutcome : 170700 (93.951%)\n",
      "hostkidoutcome_txt : 170700 (93.951%)\n",
      "nreleased : 171291 (94.276%)\n",
      "addnotes : 153402 (84.43%)\n",
      "scite1 : 66191 (36.431%)\n",
      "scite2 : 104758 (57.657%)\n",
      "scite3 : 138175 (76.049%)\n",
      "related : 156653 (86.219%)\n"
     ]
    }
   ],
   "source": [
    "missing_percent=get_numerical_summary(df)"
   ]
  },
  {
   "cell_type": "code",
   "execution_count": 9,
   "id": "ead69638",
   "metadata": {
    "execution": {
     "iopub.execute_input": "2023-01-18T02:49:36.391617Z",
     "iopub.status.busy": "2023-01-18T02:49:36.390864Z",
     "iopub.status.idle": "2023-01-18T02:49:46.969050Z",
     "shell.execute_reply": "2023-01-18T02:49:46.967920Z"
    },
    "papermill": {
     "duration": 10.590556,
     "end_time": "2023-01-18T02:49:46.971772",
     "exception": false,
     "start_time": "2023-01-18T02:49:36.381216",
     "status": "completed"
    },
    "tags": []
   },
   "outputs": [],
   "source": [
    "# Threshold to remove attribute having missing values greater than threshold\n",
    "ATTRIBUTE_THRESHOLD = 25 #25% in this case \n",
    "\n",
    "for col, per in missing_percent.items():\n",
    "    if per > ATTRIBUTE_THRESHOLD:\n",
    "        df.drop(col, axis = 1, inplace = True)\n"
   ]
  },
  {
   "cell_type": "code",
   "execution_count": 10,
   "id": "f2e09a2a",
   "metadata": {
    "execution": {
     "iopub.execute_input": "2023-01-18T02:49:46.991713Z",
     "iopub.status.busy": "2023-01-18T02:49:46.991233Z",
     "iopub.status.idle": "2023-01-18T02:49:47.198322Z",
     "shell.execute_reply": "2023-01-18T02:49:47.196340Z"
    },
    "papermill": {
     "duration": 0.2207,
     "end_time": "2023-01-18T02:49:47.201317",
     "exception": false,
     "start_time": "2023-01-18T02:49:46.980617",
     "status": "completed"
    },
    "tags": []
   },
   "outputs": [
    {
     "name": "stdout",
     "output_type": "stream",
     "text": [
      "provstate : 421 (0.232%)\n",
      "city : 434 (0.239%)\n",
      "latitude : 4556 (2.508%)\n",
      "longitude : 4557 (2.508%)\n",
      "specificity : 6 (0.003%)\n",
      "doubtterr : 1 (0.001%)\n",
      "multiple : 1 (0.001%)\n",
      "targsubtype1 : 10373 (5.709%)\n",
      "targsubtype1_txt : 10373 (5.709%)\n",
      "corp1 : 42550 (23.419%)\n",
      "target1 : 636 (0.35%)\n",
      "natlty1 : 1559 (0.858%)\n",
      "natlty1_txt : 1559 (0.858%)\n",
      "guncertain1 : 380 (0.209%)\n",
      "weapsubtype1 : 20768 (11.43%)\n",
      "weapsubtype1_txt : 20768 (11.43%)\n",
      "nkill : 10313 (5.676%)\n",
      "nwound : 16311 (8.977%)\n",
      "ishostkid : 178 (0.098%)\n"
     ]
    }
   ],
   "source": [
    "_ = get_numerical_summary(df)"
   ]
  },
  {
   "cell_type": "code",
   "execution_count": 11,
   "id": "dabfddfa",
   "metadata": {
    "execution": {
     "iopub.execute_input": "2023-01-18T02:49:47.221012Z",
     "iopub.status.busy": "2023-01-18T02:49:47.220576Z",
     "iopub.status.idle": "2023-01-18T02:49:47.248716Z",
     "shell.execute_reply": "2023-01-18T02:49:47.246780Z"
    },
    "papermill": {
     "duration": 0.041192,
     "end_time": "2023-01-18T02:49:47.251489",
     "exception": false,
     "start_time": "2023-01-18T02:49:47.210297",
     "status": "completed"
    },
    "tags": []
   },
   "outputs": [
    {
     "data": {
      "text/html": [
       "<div>\n",
       "<style scoped>\n",
       "    .dataframe tbody tr th:only-of-type {\n",
       "        vertical-align: middle;\n",
       "    }\n",
       "\n",
       "    .dataframe tbody tr th {\n",
       "        vertical-align: top;\n",
       "    }\n",
       "\n",
       "    .dataframe thead th {\n",
       "        text-align: right;\n",
       "    }\n",
       "</style>\n",
       "<table border=\"1\" class=\"dataframe\">\n",
       "  <thead>\n",
       "    <tr style=\"text-align: right;\">\n",
       "      <th></th>\n",
       "      <th>eventid</th>\n",
       "      <th>iyear</th>\n",
       "      <th>imonth</th>\n",
       "      <th>iday</th>\n",
       "      <th>extended</th>\n",
       "      <th>country</th>\n",
       "      <th>country_txt</th>\n",
       "      <th>region</th>\n",
       "      <th>region_txt</th>\n",
       "      <th>provstate</th>\n",
       "      <th>...</th>\n",
       "      <th>weapsubtype1_txt</th>\n",
       "      <th>nkill</th>\n",
       "      <th>nwound</th>\n",
       "      <th>property</th>\n",
       "      <th>ishostkid</th>\n",
       "      <th>dbsource</th>\n",
       "      <th>INT_LOG</th>\n",
       "      <th>INT_IDEO</th>\n",
       "      <th>INT_MISC</th>\n",
       "      <th>INT_ANY</th>\n",
       "    </tr>\n",
       "  </thead>\n",
       "  <tbody>\n",
       "    <tr>\n",
       "      <th>0</th>\n",
       "      <td>197000000001</td>\n",
       "      <td>1970</td>\n",
       "      <td>7</td>\n",
       "      <td>2</td>\n",
       "      <td>0</td>\n",
       "      <td>58</td>\n",
       "      <td>Dominican Republic</td>\n",
       "      <td>2</td>\n",
       "      <td>Central America &amp; Caribbean</td>\n",
       "      <td>NaN</td>\n",
       "      <td>...</td>\n",
       "      <td>NaN</td>\n",
       "      <td>1.0</td>\n",
       "      <td>0.0</td>\n",
       "      <td>0</td>\n",
       "      <td>0.0</td>\n",
       "      <td>PGIS</td>\n",
       "      <td>0</td>\n",
       "      <td>0</td>\n",
       "      <td>0</td>\n",
       "      <td>0</td>\n",
       "    </tr>\n",
       "    <tr>\n",
       "      <th>1</th>\n",
       "      <td>197000000002</td>\n",
       "      <td>1970</td>\n",
       "      <td>0</td>\n",
       "      <td>0</td>\n",
       "      <td>0</td>\n",
       "      <td>130</td>\n",
       "      <td>Mexico</td>\n",
       "      <td>1</td>\n",
       "      <td>North America</td>\n",
       "      <td>Federal</td>\n",
       "      <td>...</td>\n",
       "      <td>NaN</td>\n",
       "      <td>0.0</td>\n",
       "      <td>0.0</td>\n",
       "      <td>0</td>\n",
       "      <td>1.0</td>\n",
       "      <td>PGIS</td>\n",
       "      <td>0</td>\n",
       "      <td>1</td>\n",
       "      <td>1</td>\n",
       "      <td>1</td>\n",
       "    </tr>\n",
       "    <tr>\n",
       "      <th>2</th>\n",
       "      <td>197001000001</td>\n",
       "      <td>1970</td>\n",
       "      <td>1</td>\n",
       "      <td>0</td>\n",
       "      <td>0</td>\n",
       "      <td>160</td>\n",
       "      <td>Philippines</td>\n",
       "      <td>5</td>\n",
       "      <td>Southeast Asia</td>\n",
       "      <td>Tarlac</td>\n",
       "      <td>...</td>\n",
       "      <td>NaN</td>\n",
       "      <td>1.0</td>\n",
       "      <td>0.0</td>\n",
       "      <td>0</td>\n",
       "      <td>0.0</td>\n",
       "      <td>PGIS</td>\n",
       "      <td>-9</td>\n",
       "      <td>-9</td>\n",
       "      <td>1</td>\n",
       "      <td>1</td>\n",
       "    </tr>\n",
       "    <tr>\n",
       "      <th>3</th>\n",
       "      <td>197001000002</td>\n",
       "      <td>1970</td>\n",
       "      <td>1</td>\n",
       "      <td>0</td>\n",
       "      <td>0</td>\n",
       "      <td>78</td>\n",
       "      <td>Greece</td>\n",
       "      <td>8</td>\n",
       "      <td>Western Europe</td>\n",
       "      <td>Attica</td>\n",
       "      <td>...</td>\n",
       "      <td>Unknown Explosive Type</td>\n",
       "      <td>NaN</td>\n",
       "      <td>NaN</td>\n",
       "      <td>1</td>\n",
       "      <td>0.0</td>\n",
       "      <td>PGIS</td>\n",
       "      <td>-9</td>\n",
       "      <td>-9</td>\n",
       "      <td>1</td>\n",
       "      <td>1</td>\n",
       "    </tr>\n",
       "    <tr>\n",
       "      <th>4</th>\n",
       "      <td>197001000003</td>\n",
       "      <td>1970</td>\n",
       "      <td>1</td>\n",
       "      <td>0</td>\n",
       "      <td>0</td>\n",
       "      <td>101</td>\n",
       "      <td>Japan</td>\n",
       "      <td>4</td>\n",
       "      <td>East Asia</td>\n",
       "      <td>Fukouka</td>\n",
       "      <td>...</td>\n",
       "      <td>NaN</td>\n",
       "      <td>NaN</td>\n",
       "      <td>NaN</td>\n",
       "      <td>1</td>\n",
       "      <td>0.0</td>\n",
       "      <td>PGIS</td>\n",
       "      <td>-9</td>\n",
       "      <td>-9</td>\n",
       "      <td>1</td>\n",
       "      <td>1</td>\n",
       "    </tr>\n",
       "  </tbody>\n",
       "</table>\n",
       "<p>5 rows × 48 columns</p>\n",
       "</div>"
      ],
      "text/plain": [
       "        eventid  iyear  imonth  iday  extended  country         country_txt  \\\n",
       "0  197000000001   1970       7     2         0       58  Dominican Republic   \n",
       "1  197000000002   1970       0     0         0      130              Mexico   \n",
       "2  197001000001   1970       1     0         0      160         Philippines   \n",
       "3  197001000002   1970       1     0         0       78              Greece   \n",
       "4  197001000003   1970       1     0         0      101               Japan   \n",
       "\n",
       "   region                   region_txt provstate  ...        weapsubtype1_txt  \\\n",
       "0       2  Central America & Caribbean       NaN  ...                     NaN   \n",
       "1       1                North America   Federal  ...                     NaN   \n",
       "2       5               Southeast Asia    Tarlac  ...                     NaN   \n",
       "3       8               Western Europe    Attica  ...  Unknown Explosive Type   \n",
       "4       4                    East Asia   Fukouka  ...                     NaN   \n",
       "\n",
       "   nkill  nwound  property  ishostkid  dbsource  INT_LOG  INT_IDEO  INT_MISC  \\\n",
       "0    1.0     0.0         0        0.0      PGIS        0         0         0   \n",
       "1    0.0     0.0         0        1.0      PGIS        0         1         1   \n",
       "2    1.0     0.0         0        0.0      PGIS       -9        -9         1   \n",
       "3    NaN     NaN         1        0.0      PGIS       -9        -9         1   \n",
       "4    NaN     NaN         1        0.0      PGIS       -9        -9         1   \n",
       "\n",
       "   INT_ANY  \n",
       "0        0  \n",
       "1        1  \n",
       "2        1  \n",
       "3        1  \n",
       "4        1  \n",
       "\n",
       "[5 rows x 48 columns]"
      ]
     },
     "execution_count": 11,
     "metadata": {},
     "output_type": "execute_result"
    }
   ],
   "source": [
    "df.head()"
   ]
  },
  {
   "cell_type": "code",
   "execution_count": 12,
   "id": "3593c453",
   "metadata": {
    "execution": {
     "iopub.execute_input": "2023-01-18T02:49:47.271157Z",
     "iopub.status.busy": "2023-01-18T02:49:47.270689Z",
     "iopub.status.idle": "2023-01-18T02:49:47.278675Z",
     "shell.execute_reply": "2023-01-18T02:49:47.277472Z"
    },
    "papermill": {
     "duration": 0.021184,
     "end_time": "2023-01-18T02:49:47.281601",
     "exception": false,
     "start_time": "2023-01-18T02:49:47.260417",
     "status": "completed"
    },
    "tags": []
   },
   "outputs": [
    {
     "data": {
      "text/plain": [
       "Index(['eventid', 'iyear', 'imonth', 'iday', 'extended', 'country',\n",
       "       'country_txt', 'region', 'region_txt', 'provstate', 'city', 'latitude',\n",
       "       'longitude', 'specificity', 'vicinity', 'crit1', 'crit2', 'crit3',\n",
       "       'doubtterr', 'multiple', 'success', 'suicide', 'attacktype1',\n",
       "       'attacktype1_txt', 'targtype1', 'targtype1_txt', 'targsubtype1',\n",
       "       'targsubtype1_txt', 'corp1', 'target1', 'natlty1', 'natlty1_txt',\n",
       "       'gname', 'guncertain1', 'individual', 'weaptype1', 'weaptype1_txt',\n",
       "       'weapsubtype1', 'weapsubtype1_txt', 'nkill', 'nwound', 'property',\n",
       "       'ishostkid', 'dbsource', 'INT_LOG', 'INT_IDEO', 'INT_MISC', 'INT_ANY'],\n",
       "      dtype='object')"
      ]
     },
     "execution_count": 12,
     "metadata": {},
     "output_type": "execute_result"
    }
   ],
   "source": [
    "df.columns"
   ]
  },
  {
   "cell_type": "markdown",
   "id": "4e5f4f71",
   "metadata": {
    "papermill": {
     "duration": 0.010674,
     "end_time": "2023-01-18T02:49:47.301192",
     "exception": false,
     "start_time": "2023-01-18T02:49:47.290518",
     "status": "completed"
    },
    "tags": []
   },
   "source": [
    "# **Question 1- Where are the countries most targeted by terrorism?**"
   ]
  },
  {
   "cell_type": "code",
   "execution_count": 13,
   "id": "5d46e594",
   "metadata": {
    "execution": {
     "iopub.execute_input": "2023-01-18T02:49:47.321364Z",
     "iopub.status.busy": "2023-01-18T02:49:47.320935Z",
     "iopub.status.idle": "2023-01-18T02:49:48.525001Z",
     "shell.execute_reply": "2023-01-18T02:49:48.523895Z"
    },
    "papermill": {
     "duration": 1.217472,
     "end_time": "2023-01-18T02:49:48.527687",
     "exception": false,
     "start_time": "2023-01-18T02:49:47.310215",
     "status": "completed"
    },
    "tags": []
   },
   "outputs": [
    {
     "name": "stdout",
     "output_type": "stream",
     "text": [
      "The most affected country is Iraq\n"
     ]
    },
    {
     "data": {
      "text/html": [
       "        <script type=\"text/javascript\">\n",
       "        window.PlotlyConfig = {MathJaxConfig: 'local'};\n",
       "        if (window.MathJax && window.MathJax.Hub && window.MathJax.Hub.Config) {window.MathJax.Hub.Config({SVG: {font: \"STIX-Web\"}});}\n",
       "        if (typeof require !== 'undefined') {\n",
       "        require.undef(\"plotly\");\n",
       "        requirejs.config({\n",
       "            paths: {\n",
       "                'plotly': ['https://cdn.plot.ly/plotly-2.16.1.min']\n",
       "            }\n",
       "        });\n",
       "        require(['plotly'], function(Plotly) {\n",
       "            window._Plotly = Plotly;\n",
       "        });\n",
       "        }\n",
       "        </script>\n",
       "        "
      ]
     },
     "metadata": {},
     "output_type": "display_data"
    },
    {
     "data": {
      "text/html": [
       "<div>                            <div id=\"e292e0fb-74f0-446f-bd84-b0d7efb170b6\" class=\"plotly-graph-div\" style=\"height:525px; width:100%;\"></div>            <script type=\"text/javascript\">                require([\"plotly\"], function(Plotly) {                    window.PLOTLYENV=window.PLOTLYENV || {};                                    if (document.getElementById(\"e292e0fb-74f0-446f-bd84-b0d7efb170b6\")) {                    Plotly.newPlot(                        \"e292e0fb-74f0-446f-bd84-b0d7efb170b6\",                        [{\"alignmentgroup\":\"True\",\"hovertemplate\":\"Country=%{x}<br>Terrorist Attacks=%{y}<extra></extra>\",\"legendgroup\":\"\",\"marker\":{\"color\":\"#636efa\",\"pattern\":{\"shape\":\"\"}},\"name\":\"\",\"offsetgroup\":\"\",\"orientation\":\"v\",\"showlegend\":false,\"textposition\":\"auto\",\"x\":[\"Iraq\",\"Pakistan\",\"Afghanistan\",\"India\",\"Colombia\",\"Philippines\",\"Peru\",\"El Salvador\",\"United Kingdom\",\"Turkey\",\"Somalia\",\"Nigeria\",\"Thailand\",\"Yemen\",\"Spain\",\"Sri Lanka\",\"United States\",\"Algeria\",\"France\",\"Egypt\",\"Lebanon\",\"Chile\",\"Libya\",\"West Bank and Gaza Strip\",\"Syria\",\"Russia\",\"Israel\",\"Guatemala\",\"South Africa\",\"Nicaragua\",\"Ukraine\",\"Bangladesh\",\"Italy\",\"Greece\",\"Nepal\",\"Sudan\",\"Argentina\",\"Democratic Republic of the Congo\",\"Indonesia\",\"Germany\",\"Iran\",\"Kenya\",\"Burundi\",\"Mali\",\"Myanmar\",\"West Germany (FRG)\",\"Mexico\",\"Angola\",\"Japan\",\"Uganda\",\"Saudi Arabia\",\"Mozambique\",\"Cameroon\",\"Honduras\",\"Bolivia\",\"Ireland\",\"Venezuela\",\"Central African Republic\",\"Brazil\",\"Cambodia\",\"China\",\"South Sudan\",\"Ecuador\",\"Georgia\",\"Haiti\",\"Bahrain\",\"Yugoslavia\",\"Kosovo\",\"Ethiopia\",\"Tajikistan\",\"Bosnia-Herzegovina\",\"Rwanda\",\"Niger\",\"Belgium\",\"Namibia\",\"Portugal\",\"Sweden\",\"Cyprus\",\"Netherlands\",\"Panama\",\"Senegal\",\"Macedonia\",\"Austria\",\"Australia\",\"Paraguay\",\"Jordan\",\"Switzerland\",\"Tunisia\",\"Zimbabwe\",\"Sierra Leone\",\"Malaysia\",\"Canada\",\"Chad\",\"Dominican Republic\",\"Papua New Guinea\",\"Rhodesia\",\"Uruguay\",\"Albania\",\"Soviet Union\",\"Kuwait\",\"Ivory Coast\",\"Costa Rica\",\"Suriname\",\"Zambia\",\"Tanzania\",\"Croatia\",\"Guadeloupe\",\"Bulgaria\",\"Burkina Faso\",\"Zaire\",\"Taiwan\",\"Azerbaijan\",\"Togo\",\"Hungary\",\"Denmark\",\"Poland\",\"South Korea\",\"East Germany (GDR)\",\"Morocco\",\"Jamaica\",\"Republic of the Congo\",\"Kyrgyzstan\",\"Liberia\",\"Macau\",\"Czech Republic\",\"New Caledonia\",\"Cuba\",\"Lesotho\",\"Kazakhstan\",\"Madagascar\",\"Laos\",\"Guyana\",\"Hong Kong\",\"Guinea\",\"Armenia\",\"Malta\",\"Maldives\",\"United Arab Emirates\",\"Trinidad and Tobago\",\"Djibouti\",\"Uzbekistan\",\"Moldova\",\"Finland\",\"New Zealand\",\"Ghana\",\"Norway\",\"Mauritania\",\"Slovak Republic\",\"Fiji\",\"Latvia\",\"Swaziland\",\"Estonia\",\"Luxembourg\",\"Belarus\",\"Vietnam\",\"Martinique\",\"Serbia\",\"Serbia-Montenegro\",\"East Timor\",\"Botswana\",\"Eritrea\",\"Czechoslovakia\",\"Guinea-Bissau\",\"Gabon\",\"Lithuania\",\"Benin\",\"Belize\",\"Qatar\",\"Singapore\",\"French Guiana\",\"Romania\",\"Bhutan\",\"North Yemen\",\"Slovenia\",\"Brunei\",\"Grenada\",\"Bahamas\",\"Montenegro\",\"Western Sahara\",\"Comoros\",\"Malawi\",\"People's Republic of the Congo\",\"Iceland\",\"Solomon Islands\",\"Gambia\",\"Dominica\",\"French Polynesia\",\"Barbados\",\"Vanuatu\",\"Turkmenistan\",\"Seychelles\",\"Mauritius\",\"St. Kitts and Nevis\",\"Equatorial Guinea\",\"South Yemen\",\"Vatican City\",\"Falkland Islands\",\"St. Lucia\",\"North Korea\",\"New Hebrides\",\"International\",\"Wallis and Futuna\",\"South Vietnam\",\"Andorra\",\"Antigua and Barbuda\"],\"xaxis\":\"x\",\"y\":[24636,14368,12731,11960,8306,6908,6096,5320,5235,4292,4142,3907,3849,3347,3249,3022,2836,2743,2693,2479,2478,2365,2249,2227,2201,2194,2183,2050,2016,1970,1709,1648,1565,1275,1215,967,815,775,761,735,684,683,613,566,546,541,524,499,402,394,371,363,332,323,314,307,293,283,273,259,252,225,220,217,213,207,203,196,190,188,159,159,154,154,151,140,132,132,130,127,118,118,115,114,114,113,111,109,101,101,99,96,91,90,89,83,82,80,78,76,74,67,66,62,59,57,56,52,52,50,50,49,48,46,41,39,38,38,36,36,36,35,34,33,32,31,30,29,27,27,27,26,26,25,24,23,22,22,22,22,21,21,20,20,19,19,18,18,17,17,16,16,16,13,12,12,12,11,10,10,10,10,9,8,8,8,8,7,7,7,6,6,6,6,6,5,5,5,5,5,5,4,4,4,3,3,3,3,2,2,2,2,2,2,2,1,1,1,1,1,1,1,1,1,1],\"yaxis\":\"y\",\"type\":\"bar\"}],                        {\"template\":{\"data\":{\"histogram2dcontour\":[{\"type\":\"histogram2dcontour\",\"colorbar\":{\"outlinewidth\":0,\"ticks\":\"\"},\"colorscale\":[[0.0,\"#0d0887\"],[0.1111111111111111,\"#46039f\"],[0.2222222222222222,\"#7201a8\"],[0.3333333333333333,\"#9c179e\"],[0.4444444444444444,\"#bd3786\"],[0.5555555555555556,\"#d8576b\"],[0.6666666666666666,\"#ed7953\"],[0.7777777777777778,\"#fb9f3a\"],[0.8888888888888888,\"#fdca26\"],[1.0,\"#f0f921\"]]}],\"choropleth\":[{\"type\":\"choropleth\",\"colorbar\":{\"outlinewidth\":0,\"ticks\":\"\"}}],\"histogram2d\":[{\"type\":\"histogram2d\",\"colorbar\":{\"outlinewidth\":0,\"ticks\":\"\"},\"colorscale\":[[0.0,\"#0d0887\"],[0.1111111111111111,\"#46039f\"],[0.2222222222222222,\"#7201a8\"],[0.3333333333333333,\"#9c179e\"],[0.4444444444444444,\"#bd3786\"],[0.5555555555555556,\"#d8576b\"],[0.6666666666666666,\"#ed7953\"],[0.7777777777777778,\"#fb9f3a\"],[0.8888888888888888,\"#fdca26\"],[1.0,\"#f0f921\"]]}],\"heatmap\":[{\"type\":\"heatmap\",\"colorbar\":{\"outlinewidth\":0,\"ticks\":\"\"},\"colorscale\":[[0.0,\"#0d0887\"],[0.1111111111111111,\"#46039f\"],[0.2222222222222222,\"#7201a8\"],[0.3333333333333333,\"#9c179e\"],[0.4444444444444444,\"#bd3786\"],[0.5555555555555556,\"#d8576b\"],[0.6666666666666666,\"#ed7953\"],[0.7777777777777778,\"#fb9f3a\"],[0.8888888888888888,\"#fdca26\"],[1.0,\"#f0f921\"]]}],\"heatmapgl\":[{\"type\":\"heatmapgl\",\"colorbar\":{\"outlinewidth\":0,\"ticks\":\"\"},\"colorscale\":[[0.0,\"#0d0887\"],[0.1111111111111111,\"#46039f\"],[0.2222222222222222,\"#7201a8\"],[0.3333333333333333,\"#9c179e\"],[0.4444444444444444,\"#bd3786\"],[0.5555555555555556,\"#d8576b\"],[0.6666666666666666,\"#ed7953\"],[0.7777777777777778,\"#fb9f3a\"],[0.8888888888888888,\"#fdca26\"],[1.0,\"#f0f921\"]]}],\"contourcarpet\":[{\"type\":\"contourcarpet\",\"colorbar\":{\"outlinewidth\":0,\"ticks\":\"\"}}],\"contour\":[{\"type\":\"contour\",\"colorbar\":{\"outlinewidth\":0,\"ticks\":\"\"},\"colorscale\":[[0.0,\"#0d0887\"],[0.1111111111111111,\"#46039f\"],[0.2222222222222222,\"#7201a8\"],[0.3333333333333333,\"#9c179e\"],[0.4444444444444444,\"#bd3786\"],[0.5555555555555556,\"#d8576b\"],[0.6666666666666666,\"#ed7953\"],[0.7777777777777778,\"#fb9f3a\"],[0.8888888888888888,\"#fdca26\"],[1.0,\"#f0f921\"]]}],\"surface\":[{\"type\":\"surface\",\"colorbar\":{\"outlinewidth\":0,\"ticks\":\"\"},\"colorscale\":[[0.0,\"#0d0887\"],[0.1111111111111111,\"#46039f\"],[0.2222222222222222,\"#7201a8\"],[0.3333333333333333,\"#9c179e\"],[0.4444444444444444,\"#bd3786\"],[0.5555555555555556,\"#d8576b\"],[0.6666666666666666,\"#ed7953\"],[0.7777777777777778,\"#fb9f3a\"],[0.8888888888888888,\"#fdca26\"],[1.0,\"#f0f921\"]]}],\"mesh3d\":[{\"type\":\"mesh3d\",\"colorbar\":{\"outlinewidth\":0,\"ticks\":\"\"}}],\"scatter\":[{\"fillpattern\":{\"fillmode\":\"overlay\",\"size\":10,\"solidity\":0.2},\"type\":\"scatter\"}],\"parcoords\":[{\"type\":\"parcoords\",\"line\":{\"colorbar\":{\"outlinewidth\":0,\"ticks\":\"\"}}}],\"scatterpolargl\":[{\"type\":\"scatterpolargl\",\"marker\":{\"colorbar\":{\"outlinewidth\":0,\"ticks\":\"\"}}}],\"bar\":[{\"error_x\":{\"color\":\"#2a3f5f\"},\"error_y\":{\"color\":\"#2a3f5f\"},\"marker\":{\"line\":{\"color\":\"#E5ECF6\",\"width\":0.5},\"pattern\":{\"fillmode\":\"overlay\",\"size\":10,\"solidity\":0.2}},\"type\":\"bar\"}],\"scattergeo\":[{\"type\":\"scattergeo\",\"marker\":{\"colorbar\":{\"outlinewidth\":0,\"ticks\":\"\"}}}],\"scatterpolar\":[{\"type\":\"scatterpolar\",\"marker\":{\"colorbar\":{\"outlinewidth\":0,\"ticks\":\"\"}}}],\"histogram\":[{\"marker\":{\"pattern\":{\"fillmode\":\"overlay\",\"size\":10,\"solidity\":0.2}},\"type\":\"histogram\"}],\"scattergl\":[{\"type\":\"scattergl\",\"marker\":{\"colorbar\":{\"outlinewidth\":0,\"ticks\":\"\"}}}],\"scatter3d\":[{\"type\":\"scatter3d\",\"line\":{\"colorbar\":{\"outlinewidth\":0,\"ticks\":\"\"}},\"marker\":{\"colorbar\":{\"outlinewidth\":0,\"ticks\":\"\"}}}],\"scattermapbox\":[{\"type\":\"scattermapbox\",\"marker\":{\"colorbar\":{\"outlinewidth\":0,\"ticks\":\"\"}}}],\"scatterternary\":[{\"type\":\"scatterternary\",\"marker\":{\"colorbar\":{\"outlinewidth\":0,\"ticks\":\"\"}}}],\"scattercarpet\":[{\"type\":\"scattercarpet\",\"marker\":{\"colorbar\":{\"outlinewidth\":0,\"ticks\":\"\"}}}],\"carpet\":[{\"aaxis\":{\"endlinecolor\":\"#2a3f5f\",\"gridcolor\":\"white\",\"linecolor\":\"white\",\"minorgridcolor\":\"white\",\"startlinecolor\":\"#2a3f5f\"},\"baxis\":{\"endlinecolor\":\"#2a3f5f\",\"gridcolor\":\"white\",\"linecolor\":\"white\",\"minorgridcolor\":\"white\",\"startlinecolor\":\"#2a3f5f\"},\"type\":\"carpet\"}],\"table\":[{\"cells\":{\"fill\":{\"color\":\"#EBF0F8\"},\"line\":{\"color\":\"white\"}},\"header\":{\"fill\":{\"color\":\"#C8D4E3\"},\"line\":{\"color\":\"white\"}},\"type\":\"table\"}],\"barpolar\":[{\"marker\":{\"line\":{\"color\":\"#E5ECF6\",\"width\":0.5},\"pattern\":{\"fillmode\":\"overlay\",\"size\":10,\"solidity\":0.2}},\"type\":\"barpolar\"}],\"pie\":[{\"automargin\":true,\"type\":\"pie\"}]},\"layout\":{\"autotypenumbers\":\"strict\",\"colorway\":[\"#636efa\",\"#EF553B\",\"#00cc96\",\"#ab63fa\",\"#FFA15A\",\"#19d3f3\",\"#FF6692\",\"#B6E880\",\"#FF97FF\",\"#FECB52\"],\"font\":{\"color\":\"#2a3f5f\"},\"hovermode\":\"closest\",\"hoverlabel\":{\"align\":\"left\"},\"paper_bgcolor\":\"white\",\"plot_bgcolor\":\"#E5ECF6\",\"polar\":{\"bgcolor\":\"#E5ECF6\",\"angularaxis\":{\"gridcolor\":\"white\",\"linecolor\":\"white\",\"ticks\":\"\"},\"radialaxis\":{\"gridcolor\":\"white\",\"linecolor\":\"white\",\"ticks\":\"\"}},\"ternary\":{\"bgcolor\":\"#E5ECF6\",\"aaxis\":{\"gridcolor\":\"white\",\"linecolor\":\"white\",\"ticks\":\"\"},\"baxis\":{\"gridcolor\":\"white\",\"linecolor\":\"white\",\"ticks\":\"\"},\"caxis\":{\"gridcolor\":\"white\",\"linecolor\":\"white\",\"ticks\":\"\"}},\"coloraxis\":{\"colorbar\":{\"outlinewidth\":0,\"ticks\":\"\"}},\"colorscale\":{\"sequential\":[[0.0,\"#0d0887\"],[0.1111111111111111,\"#46039f\"],[0.2222222222222222,\"#7201a8\"],[0.3333333333333333,\"#9c179e\"],[0.4444444444444444,\"#bd3786\"],[0.5555555555555556,\"#d8576b\"],[0.6666666666666666,\"#ed7953\"],[0.7777777777777778,\"#fb9f3a\"],[0.8888888888888888,\"#fdca26\"],[1.0,\"#f0f921\"]],\"sequentialminus\":[[0.0,\"#0d0887\"],[0.1111111111111111,\"#46039f\"],[0.2222222222222222,\"#7201a8\"],[0.3333333333333333,\"#9c179e\"],[0.4444444444444444,\"#bd3786\"],[0.5555555555555556,\"#d8576b\"],[0.6666666666666666,\"#ed7953\"],[0.7777777777777778,\"#fb9f3a\"],[0.8888888888888888,\"#fdca26\"],[1.0,\"#f0f921\"]],\"diverging\":[[0,\"#8e0152\"],[0.1,\"#c51b7d\"],[0.2,\"#de77ae\"],[0.3,\"#f1b6da\"],[0.4,\"#fde0ef\"],[0.5,\"#f7f7f7\"],[0.6,\"#e6f5d0\"],[0.7,\"#b8e186\"],[0.8,\"#7fbc41\"],[0.9,\"#4d9221\"],[1,\"#276419\"]]},\"xaxis\":{\"gridcolor\":\"white\",\"linecolor\":\"white\",\"ticks\":\"\",\"title\":{\"standoff\":15},\"zerolinecolor\":\"white\",\"automargin\":true,\"zerolinewidth\":2},\"yaxis\":{\"gridcolor\":\"white\",\"linecolor\":\"white\",\"ticks\":\"\",\"title\":{\"standoff\":15},\"zerolinecolor\":\"white\",\"automargin\":true,\"zerolinewidth\":2},\"scene\":{\"xaxis\":{\"backgroundcolor\":\"#E5ECF6\",\"gridcolor\":\"white\",\"linecolor\":\"white\",\"showbackground\":true,\"ticks\":\"\",\"zerolinecolor\":\"white\",\"gridwidth\":2},\"yaxis\":{\"backgroundcolor\":\"#E5ECF6\",\"gridcolor\":\"white\",\"linecolor\":\"white\",\"showbackground\":true,\"ticks\":\"\",\"zerolinecolor\":\"white\",\"gridwidth\":2},\"zaxis\":{\"backgroundcolor\":\"#E5ECF6\",\"gridcolor\":\"white\",\"linecolor\":\"white\",\"showbackground\":true,\"ticks\":\"\",\"zerolinecolor\":\"white\",\"gridwidth\":2}},\"shapedefaults\":{\"line\":{\"color\":\"#2a3f5f\"}},\"annotationdefaults\":{\"arrowcolor\":\"#2a3f5f\",\"arrowhead\":0,\"arrowwidth\":1},\"geo\":{\"bgcolor\":\"white\",\"landcolor\":\"#E5ECF6\",\"subunitcolor\":\"white\",\"showland\":true,\"showlakes\":true,\"lakecolor\":\"white\"},\"title\":{\"x\":0.05},\"mapbox\":{\"style\":\"light\"}}},\"xaxis\":{\"anchor\":\"y\",\"domain\":[0.0,1.0],\"title\":{\"text\":\"Country\"}},\"yaxis\":{\"anchor\":\"x\",\"domain\":[0.0,1.0],\"title\":{\"text\":\"Terrorist Attacks\"}},\"legend\":{\"tracegroupgap\":0},\"title\":{\"text\":\"Terrorist Attacks by Country\"},\"barmode\":\"relative\"},                        {\"responsive\": true}                    ).then(function(){\n",
       "                            \n",
       "var gd = document.getElementById('e292e0fb-74f0-446f-bd84-b0d7efb170b6');\n",
       "var x = new MutationObserver(function (mutations, observer) {{\n",
       "        var display = window.getComputedStyle(gd).display;\n",
       "        if (!display || display === 'none') {{\n",
       "            console.log([gd, 'removed!']);\n",
       "            Plotly.purge(gd);\n",
       "            observer.disconnect();\n",
       "        }}\n",
       "}});\n",
       "\n",
       "// Listen for the removal of the full notebook cells\n",
       "var notebookContainer = gd.closest('#notebook-container');\n",
       "if (notebookContainer) {{\n",
       "    x.observe(notebookContainer, {childList: true});\n",
       "}}\n",
       "\n",
       "// Listen for the clearing of the current output cell\n",
       "var outputEl = gd.closest('.output');\n",
       "if (outputEl) {{\n",
       "    x.observe(outputEl, {childList: true});\n",
       "}}\n",
       "\n",
       "                        })                };                });            </script>        </div>"
      ]
     },
     "metadata": {},
     "output_type": "display_data"
    }
   ],
   "source": [
    "\n",
    "# Group the data by country and count the number of terrorist attacks in each country\n",
    "country_counts = df['country_txt'].value_counts()\n",
    "\n",
    "# Find the country with the most terrorist attacks\n",
    "most_affected_country = country_counts.idxmax()\n",
    "\n",
    "# Print the result\n",
    "print(f\"The most affected country is {most_affected_country}\")\n",
    "\n",
    "\n",
    "\n",
    "# Count the number of terrorist attacks for each country\n",
    "country_counts = df['country_txt'].value_counts()\n",
    "\n",
    "# Create a bar chart using Plotly Express\n",
    "fig = px.bar(country_counts.reset_index(), x='index', y='country_txt', \n",
    "             labels={'index':'Country','country_txt':'Terrorist Attacks'},\n",
    "             title='Terrorist Attack Counts by Country')\n",
    "#fig.show()\n",
    "fig.update_layout(title_text='Terrorist Attacks by Country')\n"
   ]
  },
  {
   "cell_type": "markdown",
   "id": "e6b3032b",
   "metadata": {
    "papermill": {
     "duration": 0.008983,
     "end_time": "2023-01-18T02:49:48.546075",
     "exception": false,
     "start_time": "2023-01-18T02:49:48.537092",
     "status": "completed"
    },
    "tags": []
   },
   "source": [
    "# **Question 2-Who or what are the most targeted?**"
   ]
  },
  {
   "cell_type": "code",
   "execution_count": 14,
   "id": "f0f79b2d",
   "metadata": {
    "execution": {
     "iopub.execute_input": "2023-01-18T02:49:48.566527Z",
     "iopub.status.busy": "2023-01-18T02:49:48.566104Z",
     "iopub.status.idle": "2023-01-18T02:49:48.580830Z",
     "shell.execute_reply": "2023-01-18T02:49:48.579596Z"
    },
    "papermill": {
     "duration": 0.027657,
     "end_time": "2023-01-18T02:49:48.583411",
     "exception": false,
     "start_time": "2023-01-18T02:49:48.555754",
     "status": "completed"
    },
    "tags": []
   },
   "outputs": [
    {
     "data": {
      "text/html": [
       "<div>\n",
       "<style scoped>\n",
       "    .dataframe tbody tr th:only-of-type {\n",
       "        vertical-align: middle;\n",
       "    }\n",
       "\n",
       "    .dataframe tbody tr th {\n",
       "        vertical-align: top;\n",
       "    }\n",
       "\n",
       "    .dataframe thead th {\n",
       "        text-align: right;\n",
       "    }\n",
       "</style>\n",
       "<table border=\"1\" class=\"dataframe\">\n",
       "  <thead>\n",
       "    <tr style=\"text-align: right;\">\n",
       "      <th></th>\n",
       "      <th>targtype1_txt</th>\n",
       "    </tr>\n",
       "  </thead>\n",
       "  <tbody>\n",
       "    <tr>\n",
       "      <th>0</th>\n",
       "      <td>Private Citizens &amp; Property</td>\n",
       "    </tr>\n",
       "    <tr>\n",
       "      <th>1</th>\n",
       "      <td>Government (Diplomatic)</td>\n",
       "    </tr>\n",
       "    <tr>\n",
       "      <th>2</th>\n",
       "      <td>Journalists &amp; Media</td>\n",
       "    </tr>\n",
       "    <tr>\n",
       "      <th>3</th>\n",
       "      <td>Government (Diplomatic)</td>\n",
       "    </tr>\n",
       "    <tr>\n",
       "      <th>4</th>\n",
       "      <td>Government (Diplomatic)</td>\n",
       "    </tr>\n",
       "    <tr>\n",
       "      <th>...</th>\n",
       "      <td>...</td>\n",
       "    </tr>\n",
       "    <tr>\n",
       "      <th>181686</th>\n",
       "      <td>Military</td>\n",
       "    </tr>\n",
       "    <tr>\n",
       "      <th>181687</th>\n",
       "      <td>Military</td>\n",
       "    </tr>\n",
       "    <tr>\n",
       "      <th>181688</th>\n",
       "      <td>Private Citizens &amp; Property</td>\n",
       "    </tr>\n",
       "    <tr>\n",
       "      <th>181689</th>\n",
       "      <td>Government (General)</td>\n",
       "    </tr>\n",
       "    <tr>\n",
       "      <th>181690</th>\n",
       "      <td>Unknown</td>\n",
       "    </tr>\n",
       "  </tbody>\n",
       "</table>\n",
       "<p>181691 rows × 1 columns</p>\n",
       "</div>"
      ],
      "text/plain": [
       "                      targtype1_txt\n",
       "0       Private Citizens & Property\n",
       "1           Government (Diplomatic)\n",
       "2               Journalists & Media\n",
       "3           Government (Diplomatic)\n",
       "4           Government (Diplomatic)\n",
       "...                             ...\n",
       "181686                     Military\n",
       "181687                     Military\n",
       "181688  Private Citizens & Property\n",
       "181689         Government (General)\n",
       "181690                      Unknown\n",
       "\n",
       "[181691 rows x 1 columns]"
      ]
     },
     "execution_count": 14,
     "metadata": {},
     "output_type": "execute_result"
    }
   ],
   "source": [
    "df[[\"targtype1_txt\"]]"
   ]
  },
  {
   "cell_type": "code",
   "execution_count": 15,
   "id": "207421bc",
   "metadata": {
    "execution": {
     "iopub.execute_input": "2023-01-18T02:49:48.604335Z",
     "iopub.status.busy": "2023-01-18T02:49:48.603746Z",
     "iopub.status.idle": "2023-01-18T02:49:48.683380Z",
     "shell.execute_reply": "2023-01-18T02:49:48.682002Z"
    },
    "papermill": {
     "duration": 0.09325,
     "end_time": "2023-01-18T02:49:48.686086",
     "exception": false,
     "start_time": "2023-01-18T02:49:48.592836",
     "status": "completed"
    },
    "tags": []
   },
   "outputs": [
    {
     "name": "stdout",
     "output_type": "stream",
     "text": [
      "The most targeted is Private Citizens & Property\n"
     ]
    },
    {
     "data": {
      "text/html": [
       "<div>                            <div id=\"fd5fb61e-3726-44ea-b132-c2b5ccc7f692\" class=\"plotly-graph-div\" style=\"height:525px; width:100%;\"></div>            <script type=\"text/javascript\">                require([\"plotly\"], function(Plotly) {                    window.PLOTLYENV=window.PLOTLYENV || {};                                    if (document.getElementById(\"fd5fb61e-3726-44ea-b132-c2b5ccc7f692\")) {                    Plotly.newPlot(                        \"fd5fb61e-3726-44ea-b132-c2b5ccc7f692\",                        [{\"alignmentgroup\":\"True\",\"hovertemplate\":\"Target=%{x}<br>Counts=%{y}<extra></extra>\",\"legendgroup\":\"\",\"marker\":{\"color\":\"#636efa\",\"pattern\":{\"shape\":\"\"}},\"name\":\"\",\"offsetgroup\":\"\",\"orientation\":\"v\",\"showlegend\":false,\"textposition\":\"auto\",\"x\":[\"Private Citizens & Property\",\"Military\",\"Police\",\"Government (General)\",\"Business\",\"Transportation\",\"Utilities\",\"Unknown\",\"Religious Figures/Institutions\",\"Educational Institution\",\"Government (Diplomatic)\",\"Terrorists/Non-State Militia\",\"Journalists & Media\",\"Violent Political Party\",\"Airports & Aircraft\",\"Telecommunication\",\"NGO\",\"Tourists\",\"Maritime\",\"Food or Water Supply\",\"Abortion Related\",\"Other\"],\"xaxis\":\"x\",\"y\":[43511,27984,24506,21283,20669,6799,6023,5898,4440,4322,3573,3039,2948,1866,1343,1009,970,440,351,317,263,137],\"yaxis\":\"y\",\"type\":\"bar\"}],                        {\"template\":{\"data\":{\"histogram2dcontour\":[{\"type\":\"histogram2dcontour\",\"colorbar\":{\"outlinewidth\":0,\"ticks\":\"\"},\"colorscale\":[[0.0,\"#0d0887\"],[0.1111111111111111,\"#46039f\"],[0.2222222222222222,\"#7201a8\"],[0.3333333333333333,\"#9c179e\"],[0.4444444444444444,\"#bd3786\"],[0.5555555555555556,\"#d8576b\"],[0.6666666666666666,\"#ed7953\"],[0.7777777777777778,\"#fb9f3a\"],[0.8888888888888888,\"#fdca26\"],[1.0,\"#f0f921\"]]}],\"choropleth\":[{\"type\":\"choropleth\",\"colorbar\":{\"outlinewidth\":0,\"ticks\":\"\"}}],\"histogram2d\":[{\"type\":\"histogram2d\",\"colorbar\":{\"outlinewidth\":0,\"ticks\":\"\"},\"colorscale\":[[0.0,\"#0d0887\"],[0.1111111111111111,\"#46039f\"],[0.2222222222222222,\"#7201a8\"],[0.3333333333333333,\"#9c179e\"],[0.4444444444444444,\"#bd3786\"],[0.5555555555555556,\"#d8576b\"],[0.6666666666666666,\"#ed7953\"],[0.7777777777777778,\"#fb9f3a\"],[0.8888888888888888,\"#fdca26\"],[1.0,\"#f0f921\"]]}],\"heatmap\":[{\"type\":\"heatmap\",\"colorbar\":{\"outlinewidth\":0,\"ticks\":\"\"},\"colorscale\":[[0.0,\"#0d0887\"],[0.1111111111111111,\"#46039f\"],[0.2222222222222222,\"#7201a8\"],[0.3333333333333333,\"#9c179e\"],[0.4444444444444444,\"#bd3786\"],[0.5555555555555556,\"#d8576b\"],[0.6666666666666666,\"#ed7953\"],[0.7777777777777778,\"#fb9f3a\"],[0.8888888888888888,\"#fdca26\"],[1.0,\"#f0f921\"]]}],\"heatmapgl\":[{\"type\":\"heatmapgl\",\"colorbar\":{\"outlinewidth\":0,\"ticks\":\"\"},\"colorscale\":[[0.0,\"#0d0887\"],[0.1111111111111111,\"#46039f\"],[0.2222222222222222,\"#7201a8\"],[0.3333333333333333,\"#9c179e\"],[0.4444444444444444,\"#bd3786\"],[0.5555555555555556,\"#d8576b\"],[0.6666666666666666,\"#ed7953\"],[0.7777777777777778,\"#fb9f3a\"],[0.8888888888888888,\"#fdca26\"],[1.0,\"#f0f921\"]]}],\"contourcarpet\":[{\"type\":\"contourcarpet\",\"colorbar\":{\"outlinewidth\":0,\"ticks\":\"\"}}],\"contour\":[{\"type\":\"contour\",\"colorbar\":{\"outlinewidth\":0,\"ticks\":\"\"},\"colorscale\":[[0.0,\"#0d0887\"],[0.1111111111111111,\"#46039f\"],[0.2222222222222222,\"#7201a8\"],[0.3333333333333333,\"#9c179e\"],[0.4444444444444444,\"#bd3786\"],[0.5555555555555556,\"#d8576b\"],[0.6666666666666666,\"#ed7953\"],[0.7777777777777778,\"#fb9f3a\"],[0.8888888888888888,\"#fdca26\"],[1.0,\"#f0f921\"]]}],\"surface\":[{\"type\":\"surface\",\"colorbar\":{\"outlinewidth\":0,\"ticks\":\"\"},\"colorscale\":[[0.0,\"#0d0887\"],[0.1111111111111111,\"#46039f\"],[0.2222222222222222,\"#7201a8\"],[0.3333333333333333,\"#9c179e\"],[0.4444444444444444,\"#bd3786\"],[0.5555555555555556,\"#d8576b\"],[0.6666666666666666,\"#ed7953\"],[0.7777777777777778,\"#fb9f3a\"],[0.8888888888888888,\"#fdca26\"],[1.0,\"#f0f921\"]]}],\"mesh3d\":[{\"type\":\"mesh3d\",\"colorbar\":{\"outlinewidth\":0,\"ticks\":\"\"}}],\"scatter\":[{\"fillpattern\":{\"fillmode\":\"overlay\",\"size\":10,\"solidity\":0.2},\"type\":\"scatter\"}],\"parcoords\":[{\"type\":\"parcoords\",\"line\":{\"colorbar\":{\"outlinewidth\":0,\"ticks\":\"\"}}}],\"scatterpolargl\":[{\"type\":\"scatterpolargl\",\"marker\":{\"colorbar\":{\"outlinewidth\":0,\"ticks\":\"\"}}}],\"bar\":[{\"error_x\":{\"color\":\"#2a3f5f\"},\"error_y\":{\"color\":\"#2a3f5f\"},\"marker\":{\"line\":{\"color\":\"#E5ECF6\",\"width\":0.5},\"pattern\":{\"fillmode\":\"overlay\",\"size\":10,\"solidity\":0.2}},\"type\":\"bar\"}],\"scattergeo\":[{\"type\":\"scattergeo\",\"marker\":{\"colorbar\":{\"outlinewidth\":0,\"ticks\":\"\"}}}],\"scatterpolar\":[{\"type\":\"scatterpolar\",\"marker\":{\"colorbar\":{\"outlinewidth\":0,\"ticks\":\"\"}}}],\"histogram\":[{\"marker\":{\"pattern\":{\"fillmode\":\"overlay\",\"size\":10,\"solidity\":0.2}},\"type\":\"histogram\"}],\"scattergl\":[{\"type\":\"scattergl\",\"marker\":{\"colorbar\":{\"outlinewidth\":0,\"ticks\":\"\"}}}],\"scatter3d\":[{\"type\":\"scatter3d\",\"line\":{\"colorbar\":{\"outlinewidth\":0,\"ticks\":\"\"}},\"marker\":{\"colorbar\":{\"outlinewidth\":0,\"ticks\":\"\"}}}],\"scattermapbox\":[{\"type\":\"scattermapbox\",\"marker\":{\"colorbar\":{\"outlinewidth\":0,\"ticks\":\"\"}}}],\"scatterternary\":[{\"type\":\"scatterternary\",\"marker\":{\"colorbar\":{\"outlinewidth\":0,\"ticks\":\"\"}}}],\"scattercarpet\":[{\"type\":\"scattercarpet\",\"marker\":{\"colorbar\":{\"outlinewidth\":0,\"ticks\":\"\"}}}],\"carpet\":[{\"aaxis\":{\"endlinecolor\":\"#2a3f5f\",\"gridcolor\":\"white\",\"linecolor\":\"white\",\"minorgridcolor\":\"white\",\"startlinecolor\":\"#2a3f5f\"},\"baxis\":{\"endlinecolor\":\"#2a3f5f\",\"gridcolor\":\"white\",\"linecolor\":\"white\",\"minorgridcolor\":\"white\",\"startlinecolor\":\"#2a3f5f\"},\"type\":\"carpet\"}],\"table\":[{\"cells\":{\"fill\":{\"color\":\"#EBF0F8\"},\"line\":{\"color\":\"white\"}},\"header\":{\"fill\":{\"color\":\"#C8D4E3\"},\"line\":{\"color\":\"white\"}},\"type\":\"table\"}],\"barpolar\":[{\"marker\":{\"line\":{\"color\":\"#E5ECF6\",\"width\":0.5},\"pattern\":{\"fillmode\":\"overlay\",\"size\":10,\"solidity\":0.2}},\"type\":\"barpolar\"}],\"pie\":[{\"automargin\":true,\"type\":\"pie\"}]},\"layout\":{\"autotypenumbers\":\"strict\",\"colorway\":[\"#636efa\",\"#EF553B\",\"#00cc96\",\"#ab63fa\",\"#FFA15A\",\"#19d3f3\",\"#FF6692\",\"#B6E880\",\"#FF97FF\",\"#FECB52\"],\"font\":{\"color\":\"#2a3f5f\"},\"hovermode\":\"closest\",\"hoverlabel\":{\"align\":\"left\"},\"paper_bgcolor\":\"white\",\"plot_bgcolor\":\"#E5ECF6\",\"polar\":{\"bgcolor\":\"#E5ECF6\",\"angularaxis\":{\"gridcolor\":\"white\",\"linecolor\":\"white\",\"ticks\":\"\"},\"radialaxis\":{\"gridcolor\":\"white\",\"linecolor\":\"white\",\"ticks\":\"\"}},\"ternary\":{\"bgcolor\":\"#E5ECF6\",\"aaxis\":{\"gridcolor\":\"white\",\"linecolor\":\"white\",\"ticks\":\"\"},\"baxis\":{\"gridcolor\":\"white\",\"linecolor\":\"white\",\"ticks\":\"\"},\"caxis\":{\"gridcolor\":\"white\",\"linecolor\":\"white\",\"ticks\":\"\"}},\"coloraxis\":{\"colorbar\":{\"outlinewidth\":0,\"ticks\":\"\"}},\"colorscale\":{\"sequential\":[[0.0,\"#0d0887\"],[0.1111111111111111,\"#46039f\"],[0.2222222222222222,\"#7201a8\"],[0.3333333333333333,\"#9c179e\"],[0.4444444444444444,\"#bd3786\"],[0.5555555555555556,\"#d8576b\"],[0.6666666666666666,\"#ed7953\"],[0.7777777777777778,\"#fb9f3a\"],[0.8888888888888888,\"#fdca26\"],[1.0,\"#f0f921\"]],\"sequentialminus\":[[0.0,\"#0d0887\"],[0.1111111111111111,\"#46039f\"],[0.2222222222222222,\"#7201a8\"],[0.3333333333333333,\"#9c179e\"],[0.4444444444444444,\"#bd3786\"],[0.5555555555555556,\"#d8576b\"],[0.6666666666666666,\"#ed7953\"],[0.7777777777777778,\"#fb9f3a\"],[0.8888888888888888,\"#fdca26\"],[1.0,\"#f0f921\"]],\"diverging\":[[0,\"#8e0152\"],[0.1,\"#c51b7d\"],[0.2,\"#de77ae\"],[0.3,\"#f1b6da\"],[0.4,\"#fde0ef\"],[0.5,\"#f7f7f7\"],[0.6,\"#e6f5d0\"],[0.7,\"#b8e186\"],[0.8,\"#7fbc41\"],[0.9,\"#4d9221\"],[1,\"#276419\"]]},\"xaxis\":{\"gridcolor\":\"white\",\"linecolor\":\"white\",\"ticks\":\"\",\"title\":{\"standoff\":15},\"zerolinecolor\":\"white\",\"automargin\":true,\"zerolinewidth\":2},\"yaxis\":{\"gridcolor\":\"white\",\"linecolor\":\"white\",\"ticks\":\"\",\"title\":{\"standoff\":15},\"zerolinecolor\":\"white\",\"automargin\":true,\"zerolinewidth\":2},\"scene\":{\"xaxis\":{\"backgroundcolor\":\"#E5ECF6\",\"gridcolor\":\"white\",\"linecolor\":\"white\",\"showbackground\":true,\"ticks\":\"\",\"zerolinecolor\":\"white\",\"gridwidth\":2},\"yaxis\":{\"backgroundcolor\":\"#E5ECF6\",\"gridcolor\":\"white\",\"linecolor\":\"white\",\"showbackground\":true,\"ticks\":\"\",\"zerolinecolor\":\"white\",\"gridwidth\":2},\"zaxis\":{\"backgroundcolor\":\"#E5ECF6\",\"gridcolor\":\"white\",\"linecolor\":\"white\",\"showbackground\":true,\"ticks\":\"\",\"zerolinecolor\":\"white\",\"gridwidth\":2}},\"shapedefaults\":{\"line\":{\"color\":\"#2a3f5f\"}},\"annotationdefaults\":{\"arrowcolor\":\"#2a3f5f\",\"arrowhead\":0,\"arrowwidth\":1},\"geo\":{\"bgcolor\":\"white\",\"landcolor\":\"#E5ECF6\",\"subunitcolor\":\"white\",\"showland\":true,\"showlakes\":true,\"lakecolor\":\"white\"},\"title\":{\"x\":0.05},\"mapbox\":{\"style\":\"light\"}}},\"xaxis\":{\"anchor\":\"y\",\"domain\":[0.0,1.0],\"title\":{\"text\":\"Target\"}},\"yaxis\":{\"anchor\":\"x\",\"domain\":[0.0,1.0],\"title\":{\"text\":\"Counts\"}},\"legend\":{\"tracegroupgap\":0},\"title\":{\"text\":\"Target by terrorist attack\"},\"barmode\":\"relative\"},                        {\"responsive\": true}                    ).then(function(){\n",
       "                            \n",
       "var gd = document.getElementById('fd5fb61e-3726-44ea-b132-c2b5ccc7f692');\n",
       "var x = new MutationObserver(function (mutations, observer) {{\n",
       "        var display = window.getComputedStyle(gd).display;\n",
       "        if (!display || display === 'none') {{\n",
       "            console.log([gd, 'removed!']);\n",
       "            Plotly.purge(gd);\n",
       "            observer.disconnect();\n",
       "        }}\n",
       "}});\n",
       "\n",
       "// Listen for the removal of the full notebook cells\n",
       "var notebookContainer = gd.closest('#notebook-container');\n",
       "if (notebookContainer) {{\n",
       "    x.observe(notebookContainer, {childList: true});\n",
       "}}\n",
       "\n",
       "// Listen for the clearing of the current output cell\n",
       "var outputEl = gd.closest('.output');\n",
       "if (outputEl) {{\n",
       "    x.observe(outputEl, {childList: true});\n",
       "}}\n",
       "\n",
       "                        })                };                });            </script>        </div>"
      ]
     },
     "metadata": {},
     "output_type": "display_data"
    }
   ],
   "source": [
    "\n",
    "target_counts = df['targtype1_txt'].value_counts()\n",
    "\n",
    "# Find the most target\n",
    "most_target = target_counts.idxmax()\n",
    "\n",
    "# Print the result\n",
    "print(f\"The most targeted is {most_target}\")\n",
    "\n",
    "\n",
    "\n",
    "# Count the number of terrorist attacks for each country\n",
    "#country_counts = df['country_txt'].value_counts()\n",
    "\n",
    "# Create a bar chart using Plotly Express\n",
    "fig = px.bar(target_counts.reset_index(), x='index', y='targtype1_txt', \n",
    "             labels={'index':'Target','targtype1_txt':'Counts'},\n",
    "             title='Target by terrorist attack')\n",
    "#fig.show()\n",
    "fig.update_layout(title_text='Target by terrorist attack')\n"
   ]
  },
  {
   "cell_type": "code",
   "execution_count": 16,
   "id": "86486a45",
   "metadata": {
    "execution": {
     "iopub.execute_input": "2023-01-18T02:49:48.708904Z",
     "iopub.status.busy": "2023-01-18T02:49:48.708470Z",
     "iopub.status.idle": "2023-01-18T02:49:48.714851Z",
     "shell.execute_reply": "2023-01-18T02:49:48.713910Z"
    },
    "papermill": {
     "duration": 0.021018,
     "end_time": "2023-01-18T02:49:48.717527",
     "exception": false,
     "start_time": "2023-01-18T02:49:48.696509",
     "status": "completed"
    },
    "tags": []
   },
   "outputs": [
    {
     "name": "stdout",
     "output_type": "stream",
     "text": [
      "Private Citizens & Property       43511\n",
      "Military                          27984\n",
      "Police                            24506\n",
      "Government (General)              21283\n",
      "Business                          20669\n",
      "Transportation                     6799\n",
      "Utilities                          6023\n",
      "Unknown                            5898\n",
      "Religious Figures/Institutions     4440\n",
      "Educational Institution            4322\n",
      "Government (Diplomatic)            3573\n",
      "Terrorists/Non-State Militia       3039\n",
      "Journalists & Media                2948\n",
      "Violent Political Party            1866\n",
      "Airports & Aircraft                1343\n",
      "Telecommunication                  1009\n",
      "NGO                                 970\n",
      "Tourists                            440\n",
      "Maritime                            351\n",
      "Food or Water Supply                317\n",
      "Abortion Related                    263\n",
      "Other                               137\n",
      "Name: targtype1_txt, dtype: int64\n"
     ]
    }
   ],
   "source": [
    "print(target_counts)"
   ]
  },
  {
   "cell_type": "markdown",
   "id": "26ede24b",
   "metadata": {
    "papermill": {
     "duration": 0.009651,
     "end_time": "2023-01-18T02:49:48.736920",
     "exception": false,
     "start_time": "2023-01-18T02:49:48.727269",
     "status": "completed"
    },
    "tags": []
   },
   "source": []
  },
  {
   "cell_type": "markdown",
   "id": "0f664af9",
   "metadata": {
    "papermill": {
     "duration": 0.009376,
     "end_time": "2023-01-18T02:49:48.755925",
     "exception": false,
     "start_time": "2023-01-18T02:49:48.746549",
     "status": "completed"
    },
    "tags": []
   },
   "source": [
    "# **Question 3: Is there a relationship between failed attempts and countries?**"
   ]
  },
  {
   "cell_type": "code",
   "execution_count": 17,
   "id": "9f56d668",
   "metadata": {
    "execution": {
     "iopub.execute_input": "2023-01-18T02:49:48.777219Z",
     "iopub.status.busy": "2023-01-18T02:49:48.776333Z",
     "iopub.status.idle": "2023-01-18T02:49:48.934833Z",
     "shell.execute_reply": "2023-01-18T02:49:48.933709Z"
    },
    "papermill": {
     "duration": 0.171862,
     "end_time": "2023-01-18T02:49:48.937323",
     "exception": false,
     "start_time": "2023-01-18T02:49:48.765461",
     "status": "completed"
    },
    "tags": []
   },
   "outputs": [
    {
     "data": {
      "text/html": [
       "<div>                            <div id=\"beeb6f06-1a7b-4db9-9da9-25fa85d54985\" class=\"plotly-graph-div\" style=\"height:525px; width:100%;\"></div>            <script type=\"text/javascript\">                require([\"plotly\"], function(Plotly) {                    window.PLOTLYENV=window.PLOTLYENV || {};                                    if (document.getElementById(\"beeb6f06-1a7b-4db9-9da9-25fa85d54985\")) {                    Plotly.newPlot(                        \"beeb6f06-1a7b-4db9-9da9-25fa85d54985\",                        [{\"alignmentgroup\":\"True\",\"hovertemplate\":\"success=failed<br>Country=%{x}<br>Number of Attacks=%{y}<extra></extra>\",\"legendgroup\":\"failed\",\"marker\":{\"color\":\"#636efa\",\"pattern\":{\"shape\":\"\"}},\"name\":\"failed\",\"offsetgroup\":\"failed\",\"orientation\":\"v\",\"showlegend\":true,\"textposition\":\"auto\",\"x\":[\"Afghanistan\",\"Albania\",\"Algeria\",\"Angola\",\"Argentina\",\"Armenia\",\"Australia\",\"Austria\",\"Azerbaijan\",\"Bahamas\",\"Bahrain\",\"Bangladesh\",\"Belgium\",\"Belize\",\"Bolivia\",\"Bosnia-Herzegovina\",\"Brazil\",\"Brunei\",\"Bulgaria\",\"Burkina Faso\",\"Burundi\",\"Cambodia\",\"Cameroon\",\"Canada\",\"Central African Republic\",\"Chad\",\"Chile\",\"China\",\"Colombia\",\"Comoros\",\"Costa Rica\",\"Croatia\",\"Cuba\",\"Cyprus\",\"Czech Republic\",\"Czechoslovakia\",\"Democratic Republic of the Congo\",\"Denmark\",\"Dominica\",\"Dominican Republic\",\"East Germany (GDR)\",\"East Timor\",\"Ecuador\",\"Egypt\",\"El Salvador\",\"Ethiopia\",\"Fiji\",\"Finland\",\"France\",\"French Guiana\",\"Gabon\",\"Gambia\",\"Georgia\",\"Germany\",\"Ghana\",\"Greece\",\"Grenada\",\"Guadeloupe\",\"Guatemala\",\"Guinea\",\"Guinea-Bissau\",\"Guyana\",\"Haiti\",\"Honduras\",\"Hong Kong\",\"Hungary\",\"India\",\"Indonesia\",\"Iran\",\"Iraq\",\"Ireland\",\"Israel\",\"Italy\",\"Ivory Coast\",\"Jamaica\",\"Japan\",\"Jordan\",\"Kazakhstan\",\"Kenya\",\"Kosovo\",\"Kuwait\",\"Kyrgyzstan\",\"Laos\",\"Latvia\",\"Lebanon\",\"Lesotho\",\"Liberia\",\"Libya\",\"Lithuania\",\"Luxembourg\",\"Macau\",\"Macedonia\",\"Madagascar\",\"Malaysia\",\"Maldives\",\"Mali\",\"Malta\",\"Mauritania\",\"Mauritius\",\"Mexico\",\"Moldova\",\"Morocco\",\"Mozambique\",\"Myanmar\",\"Namibia\",\"Nepal\",\"Netherlands\",\"New Caledonia\",\"New Zealand\",\"Nicaragua\",\"Niger\",\"Nigeria\",\"North Yemen\",\"Norway\",\"Pakistan\",\"Panama\",\"Papua New Guinea\",\"Paraguay\",\"People's Republic of the Congo\",\"Peru\",\"Philippines\",\"Poland\",\"Portugal\",\"Qatar\",\"Republic of the Congo\",\"Rhodesia\",\"Romania\",\"Russia\",\"Rwanda\",\"Saudi Arabia\",\"Senegal\",\"Serbia\",\"Serbia-Montenegro\",\"Sierra Leone\",\"Slovak Republic\",\"Somalia\",\"South Africa\",\"South Korea\",\"South Sudan\",\"Soviet Union\",\"Spain\",\"Sri Lanka\",\"Sudan\",\"Suriname\",\"Swaziland\",\"Sweden\",\"Switzerland\",\"Syria\",\"Taiwan\",\"Tajikistan\",\"Tanzania\",\"Thailand\",\"Togo\",\"Trinidad and Tobago\",\"Tunisia\",\"Turkey\",\"Turkmenistan\",\"Uganda\",\"Ukraine\",\"United Arab Emirates\",\"United Kingdom\",\"United States\",\"Uruguay\",\"Uzbekistan\",\"Vatican City\",\"Venezuela\",\"Vietnam\",\"West Bank and Gaza Strip\",\"West Germany (FRG)\",\"Yemen\",\"Yugoslavia\",\"Zaire\",\"Zambia\",\"Zimbabwe\"],\"xaxis\":\"x\",\"y\":[1590,16,182,13,101,4,17,27,5,1,28,129,29,1,41,8,36,6,6,7,23,16,23,21,20,4,144,32,594,2,11,2,9,20,9,3,58,6,1,5,3,3,17,468,93,9,1,1,212,1,2,2,25,76,4,149,2,9,114,4,1,7,28,37,6,6,1680,95,90,2775,168,500,173,7,4,61,29,5,75,24,13,8,3,4,296,4,2,263,1,2,6,11,4,13,4,43,1,4,2,45,3,3,17,37,4,259,23,3,9,31,8,314,2,3,1768,17,12,13,1,341,933,5,11,1,1,3,2,384,5,52,2,1,1,3,3,338,139,4,32,11,431,173,34,5,1,19,21,82,13,8,9,223,6,2,12,383,1,31,180,5,1029,496,11,2,1,47,5,461,76,510,24,5,4,5],\"yaxis\":\"y\",\"type\":\"bar\"},{\"alignmentgroup\":\"True\",\"hovertemplate\":\"success=successful<br>Country=%{x}<br>Number of Attacks=%{y}<extra></extra>\",\"legendgroup\":\"successful\",\"marker\":{\"color\":\"#EF553B\",\"pattern\":{\"shape\":\"\"}},\"name\":\"successful\",\"offsetgroup\":\"successful\",\"orientation\":\"v\",\"showlegend\":true,\"textposition\":\"auto\",\"x\":[\"Afghanistan\",\"Albania\",\"Algeria\",\"Andorra\",\"Angola\",\"Antigua and Barbuda\",\"Argentina\",\"Armenia\",\"Australia\",\"Austria\",\"Azerbaijan\",\"Bahamas\",\"Bahrain\",\"Bangladesh\",\"Barbados\",\"Belarus\",\"Belgium\",\"Belize\",\"Benin\",\"Bhutan\",\"Bolivia\",\"Bosnia-Herzegovina\",\"Botswana\",\"Brazil\",\"Bulgaria\",\"Burkina Faso\",\"Burundi\",\"Cambodia\",\"Cameroon\",\"Canada\",\"Central African Republic\",\"Chad\",\"Chile\",\"China\",\"Colombia\",\"Comoros\",\"Costa Rica\",\"Croatia\",\"Cuba\",\"Cyprus\",\"Czech Republic\",\"Czechoslovakia\",\"Democratic Republic of the Congo\",\"Denmark\",\"Djibouti\",\"Dominica\",\"Dominican Republic\",\"East Germany (GDR)\",\"East Timor\",\"Ecuador\",\"Egypt\",\"El Salvador\",\"Equatorial Guinea\",\"Eritrea\",\"Estonia\",\"Ethiopia\",\"Falkland Islands\",\"Fiji\",\"Finland\",\"France\",\"French Guiana\",\"French Polynesia\",\"Gabon\",\"Gambia\",\"Georgia\",\"Germany\",\"Ghana\",\"Greece\",\"Grenada\",\"Guadeloupe\",\"Guatemala\",\"Guinea\",\"Guinea-Bissau\",\"Guyana\",\"Haiti\",\"Honduras\",\"Hong Kong\",\"Hungary\",\"Iceland\",\"India\",\"Indonesia\",\"International\",\"Iran\",\"Iraq\",\"Ireland\",\"Israel\",\"Italy\",\"Ivory Coast\",\"Jamaica\",\"Japan\",\"Jordan\",\"Kazakhstan\",\"Kenya\",\"Kosovo\",\"Kuwait\",\"Kyrgyzstan\",\"Laos\",\"Latvia\",\"Lebanon\",\"Lesotho\",\"Liberia\",\"Libya\",\"Lithuania\",\"Luxembourg\",\"Macau\",\"Macedonia\",\"Madagascar\",\"Malawi\",\"Malaysia\",\"Maldives\",\"Mali\",\"Malta\",\"Martinique\",\"Mauritania\",\"Mexico\",\"Moldova\",\"Montenegro\",\"Morocco\",\"Mozambique\",\"Myanmar\",\"Namibia\",\"Nepal\",\"Netherlands\",\"New Caledonia\",\"New Hebrides\",\"New Zealand\",\"Nicaragua\",\"Niger\",\"Nigeria\",\"North Korea\",\"North Yemen\",\"Norway\",\"Pakistan\",\"Panama\",\"Papua New Guinea\",\"Paraguay\",\"People's Republic of the Congo\",\"Peru\",\"Philippines\",\"Poland\",\"Portugal\",\"Qatar\",\"Republic of the Congo\",\"Rhodesia\",\"Romania\",\"Russia\",\"Rwanda\",\"Saudi Arabia\",\"Senegal\",\"Serbia\",\"Serbia-Montenegro\",\"Seychelles\",\"Sierra Leone\",\"Singapore\",\"Slovak Republic\",\"Slovenia\",\"Solomon Islands\",\"Somalia\",\"South Africa\",\"South Korea\",\"South Sudan\",\"South Vietnam\",\"South Yemen\",\"Soviet Union\",\"Spain\",\"Sri Lanka\",\"St. Kitts and Nevis\",\"St. Lucia\",\"Sudan\",\"Suriname\",\"Swaziland\",\"Sweden\",\"Switzerland\",\"Syria\",\"Taiwan\",\"Tajikistan\",\"Tanzania\",\"Thailand\",\"Togo\",\"Trinidad and Tobago\",\"Tunisia\",\"Turkey\",\"Turkmenistan\",\"Uganda\",\"Ukraine\",\"United Arab Emirates\",\"United Kingdom\",\"United States\",\"Uruguay\",\"Uzbekistan\",\"Vanuatu\",\"Venezuela\",\"Vietnam\",\"Wallis and Futuna\",\"West Bank and Gaza Strip\",\"West Germany (FRG)\",\"Western Sahara\",\"Yemen\",\"Yugoslavia\",\"Zaire\",\"Zambia\",\"Zimbabwe\"],\"xaxis\":\"x\",\"y\":[11141,64,2561,1,486,1,714,20,97,88,44,4,179,1519,3,13,125,7,8,6,273,151,10,237,46,45,590,243,309,75,263,87,2221,220,7712,3,56,55,21,112,23,7,717,35,22,2,85,35,7,203,2011,5227,2,10,16,181,1,16,19,2481,6,3,6,1,192,659,15,1126,3,47,1936,21,8,19,185,286,20,40,4,10280,666,1,594,21861,139,1683,1392,67,32,341,84,22,608,172,63,27,24,13,2182,25,32,1986,7,14,27,107,23,5,86,18,523,22,12,14,479,18,5,33,346,509,147,956,107,28,1,11,1939,146,3593,1,4,16,12600,110,77,101,3,5755,5975,34,129,6,35,80,4,1810,154,319,116,11,10,2,98,7,15,6,4,3804,1877,34,193,1,2,67,2818,2849,2,1,933,61,15,113,90,2119,37,180,50,3626,42,20,97,3909,1,363,1529,17,4206,2340,71,19,2,246,7,1,1766,465,5,2837,179,45,58,96],\"yaxis\":\"y\",\"type\":\"bar\"}],                        {\"template\":{\"data\":{\"histogram2dcontour\":[{\"type\":\"histogram2dcontour\",\"colorbar\":{\"outlinewidth\":0,\"ticks\":\"\"},\"colorscale\":[[0.0,\"#0d0887\"],[0.1111111111111111,\"#46039f\"],[0.2222222222222222,\"#7201a8\"],[0.3333333333333333,\"#9c179e\"],[0.4444444444444444,\"#bd3786\"],[0.5555555555555556,\"#d8576b\"],[0.6666666666666666,\"#ed7953\"],[0.7777777777777778,\"#fb9f3a\"],[0.8888888888888888,\"#fdca26\"],[1.0,\"#f0f921\"]]}],\"choropleth\":[{\"type\":\"choropleth\",\"colorbar\":{\"outlinewidth\":0,\"ticks\":\"\"}}],\"histogram2d\":[{\"type\":\"histogram2d\",\"colorbar\":{\"outlinewidth\":0,\"ticks\":\"\"},\"colorscale\":[[0.0,\"#0d0887\"],[0.1111111111111111,\"#46039f\"],[0.2222222222222222,\"#7201a8\"],[0.3333333333333333,\"#9c179e\"],[0.4444444444444444,\"#bd3786\"],[0.5555555555555556,\"#d8576b\"],[0.6666666666666666,\"#ed7953\"],[0.7777777777777778,\"#fb9f3a\"],[0.8888888888888888,\"#fdca26\"],[1.0,\"#f0f921\"]]}],\"heatmap\":[{\"type\":\"heatmap\",\"colorbar\":{\"outlinewidth\":0,\"ticks\":\"\"},\"colorscale\":[[0.0,\"#0d0887\"],[0.1111111111111111,\"#46039f\"],[0.2222222222222222,\"#7201a8\"],[0.3333333333333333,\"#9c179e\"],[0.4444444444444444,\"#bd3786\"],[0.5555555555555556,\"#d8576b\"],[0.6666666666666666,\"#ed7953\"],[0.7777777777777778,\"#fb9f3a\"],[0.8888888888888888,\"#fdca26\"],[1.0,\"#f0f921\"]]}],\"heatmapgl\":[{\"type\":\"heatmapgl\",\"colorbar\":{\"outlinewidth\":0,\"ticks\":\"\"},\"colorscale\":[[0.0,\"#0d0887\"],[0.1111111111111111,\"#46039f\"],[0.2222222222222222,\"#7201a8\"],[0.3333333333333333,\"#9c179e\"],[0.4444444444444444,\"#bd3786\"],[0.5555555555555556,\"#d8576b\"],[0.6666666666666666,\"#ed7953\"],[0.7777777777777778,\"#fb9f3a\"],[0.8888888888888888,\"#fdca26\"],[1.0,\"#f0f921\"]]}],\"contourcarpet\":[{\"type\":\"contourcarpet\",\"colorbar\":{\"outlinewidth\":0,\"ticks\":\"\"}}],\"contour\":[{\"type\":\"contour\",\"colorbar\":{\"outlinewidth\":0,\"ticks\":\"\"},\"colorscale\":[[0.0,\"#0d0887\"],[0.1111111111111111,\"#46039f\"],[0.2222222222222222,\"#7201a8\"],[0.3333333333333333,\"#9c179e\"],[0.4444444444444444,\"#bd3786\"],[0.5555555555555556,\"#d8576b\"],[0.6666666666666666,\"#ed7953\"],[0.7777777777777778,\"#fb9f3a\"],[0.8888888888888888,\"#fdca26\"],[1.0,\"#f0f921\"]]}],\"surface\":[{\"type\":\"surface\",\"colorbar\":{\"outlinewidth\":0,\"ticks\":\"\"},\"colorscale\":[[0.0,\"#0d0887\"],[0.1111111111111111,\"#46039f\"],[0.2222222222222222,\"#7201a8\"],[0.3333333333333333,\"#9c179e\"],[0.4444444444444444,\"#bd3786\"],[0.5555555555555556,\"#d8576b\"],[0.6666666666666666,\"#ed7953\"],[0.7777777777777778,\"#fb9f3a\"],[0.8888888888888888,\"#fdca26\"],[1.0,\"#f0f921\"]]}],\"mesh3d\":[{\"type\":\"mesh3d\",\"colorbar\":{\"outlinewidth\":0,\"ticks\":\"\"}}],\"scatter\":[{\"fillpattern\":{\"fillmode\":\"overlay\",\"size\":10,\"solidity\":0.2},\"type\":\"scatter\"}],\"parcoords\":[{\"type\":\"parcoords\",\"line\":{\"colorbar\":{\"outlinewidth\":0,\"ticks\":\"\"}}}],\"scatterpolargl\":[{\"type\":\"scatterpolargl\",\"marker\":{\"colorbar\":{\"outlinewidth\":0,\"ticks\":\"\"}}}],\"bar\":[{\"error_x\":{\"color\":\"#2a3f5f\"},\"error_y\":{\"color\":\"#2a3f5f\"},\"marker\":{\"line\":{\"color\":\"#E5ECF6\",\"width\":0.5},\"pattern\":{\"fillmode\":\"overlay\",\"size\":10,\"solidity\":0.2}},\"type\":\"bar\"}],\"scattergeo\":[{\"type\":\"scattergeo\",\"marker\":{\"colorbar\":{\"outlinewidth\":0,\"ticks\":\"\"}}}],\"scatterpolar\":[{\"type\":\"scatterpolar\",\"marker\":{\"colorbar\":{\"outlinewidth\":0,\"ticks\":\"\"}}}],\"histogram\":[{\"marker\":{\"pattern\":{\"fillmode\":\"overlay\",\"size\":10,\"solidity\":0.2}},\"type\":\"histogram\"}],\"scattergl\":[{\"type\":\"scattergl\",\"marker\":{\"colorbar\":{\"outlinewidth\":0,\"ticks\":\"\"}}}],\"scatter3d\":[{\"type\":\"scatter3d\",\"line\":{\"colorbar\":{\"outlinewidth\":0,\"ticks\":\"\"}},\"marker\":{\"colorbar\":{\"outlinewidth\":0,\"ticks\":\"\"}}}],\"scattermapbox\":[{\"type\":\"scattermapbox\",\"marker\":{\"colorbar\":{\"outlinewidth\":0,\"ticks\":\"\"}}}],\"scatterternary\":[{\"type\":\"scatterternary\",\"marker\":{\"colorbar\":{\"outlinewidth\":0,\"ticks\":\"\"}}}],\"scattercarpet\":[{\"type\":\"scattercarpet\",\"marker\":{\"colorbar\":{\"outlinewidth\":0,\"ticks\":\"\"}}}],\"carpet\":[{\"aaxis\":{\"endlinecolor\":\"#2a3f5f\",\"gridcolor\":\"white\",\"linecolor\":\"white\",\"minorgridcolor\":\"white\",\"startlinecolor\":\"#2a3f5f\"},\"baxis\":{\"endlinecolor\":\"#2a3f5f\",\"gridcolor\":\"white\",\"linecolor\":\"white\",\"minorgridcolor\":\"white\",\"startlinecolor\":\"#2a3f5f\"},\"type\":\"carpet\"}],\"table\":[{\"cells\":{\"fill\":{\"color\":\"#EBF0F8\"},\"line\":{\"color\":\"white\"}},\"header\":{\"fill\":{\"color\":\"#C8D4E3\"},\"line\":{\"color\":\"white\"}},\"type\":\"table\"}],\"barpolar\":[{\"marker\":{\"line\":{\"color\":\"#E5ECF6\",\"width\":0.5},\"pattern\":{\"fillmode\":\"overlay\",\"size\":10,\"solidity\":0.2}},\"type\":\"barpolar\"}],\"pie\":[{\"automargin\":true,\"type\":\"pie\"}]},\"layout\":{\"autotypenumbers\":\"strict\",\"colorway\":[\"#636efa\",\"#EF553B\",\"#00cc96\",\"#ab63fa\",\"#FFA15A\",\"#19d3f3\",\"#FF6692\",\"#B6E880\",\"#FF97FF\",\"#FECB52\"],\"font\":{\"color\":\"#2a3f5f\"},\"hovermode\":\"closest\",\"hoverlabel\":{\"align\":\"left\"},\"paper_bgcolor\":\"white\",\"plot_bgcolor\":\"#E5ECF6\",\"polar\":{\"bgcolor\":\"#E5ECF6\",\"angularaxis\":{\"gridcolor\":\"white\",\"linecolor\":\"white\",\"ticks\":\"\"},\"radialaxis\":{\"gridcolor\":\"white\",\"linecolor\":\"white\",\"ticks\":\"\"}},\"ternary\":{\"bgcolor\":\"#E5ECF6\",\"aaxis\":{\"gridcolor\":\"white\",\"linecolor\":\"white\",\"ticks\":\"\"},\"baxis\":{\"gridcolor\":\"white\",\"linecolor\":\"white\",\"ticks\":\"\"},\"caxis\":{\"gridcolor\":\"white\",\"linecolor\":\"white\",\"ticks\":\"\"}},\"coloraxis\":{\"colorbar\":{\"outlinewidth\":0,\"ticks\":\"\"}},\"colorscale\":{\"sequential\":[[0.0,\"#0d0887\"],[0.1111111111111111,\"#46039f\"],[0.2222222222222222,\"#7201a8\"],[0.3333333333333333,\"#9c179e\"],[0.4444444444444444,\"#bd3786\"],[0.5555555555555556,\"#d8576b\"],[0.6666666666666666,\"#ed7953\"],[0.7777777777777778,\"#fb9f3a\"],[0.8888888888888888,\"#fdca26\"],[1.0,\"#f0f921\"]],\"sequentialminus\":[[0.0,\"#0d0887\"],[0.1111111111111111,\"#46039f\"],[0.2222222222222222,\"#7201a8\"],[0.3333333333333333,\"#9c179e\"],[0.4444444444444444,\"#bd3786\"],[0.5555555555555556,\"#d8576b\"],[0.6666666666666666,\"#ed7953\"],[0.7777777777777778,\"#fb9f3a\"],[0.8888888888888888,\"#fdca26\"],[1.0,\"#f0f921\"]],\"diverging\":[[0,\"#8e0152\"],[0.1,\"#c51b7d\"],[0.2,\"#de77ae\"],[0.3,\"#f1b6da\"],[0.4,\"#fde0ef\"],[0.5,\"#f7f7f7\"],[0.6,\"#e6f5d0\"],[0.7,\"#b8e186\"],[0.8,\"#7fbc41\"],[0.9,\"#4d9221\"],[1,\"#276419\"]]},\"xaxis\":{\"gridcolor\":\"white\",\"linecolor\":\"white\",\"ticks\":\"\",\"title\":{\"standoff\":15},\"zerolinecolor\":\"white\",\"automargin\":true,\"zerolinewidth\":2},\"yaxis\":{\"gridcolor\":\"white\",\"linecolor\":\"white\",\"ticks\":\"\",\"title\":{\"standoff\":15},\"zerolinecolor\":\"white\",\"automargin\":true,\"zerolinewidth\":2},\"scene\":{\"xaxis\":{\"backgroundcolor\":\"#E5ECF6\",\"gridcolor\":\"white\",\"linecolor\":\"white\",\"showbackground\":true,\"ticks\":\"\",\"zerolinecolor\":\"white\",\"gridwidth\":2},\"yaxis\":{\"backgroundcolor\":\"#E5ECF6\",\"gridcolor\":\"white\",\"linecolor\":\"white\",\"showbackground\":true,\"ticks\":\"\",\"zerolinecolor\":\"white\",\"gridwidth\":2},\"zaxis\":{\"backgroundcolor\":\"#E5ECF6\",\"gridcolor\":\"white\",\"linecolor\":\"white\",\"showbackground\":true,\"ticks\":\"\",\"zerolinecolor\":\"white\",\"gridwidth\":2}},\"shapedefaults\":{\"line\":{\"color\":\"#2a3f5f\"}},\"annotationdefaults\":{\"arrowcolor\":\"#2a3f5f\",\"arrowhead\":0,\"arrowwidth\":1},\"geo\":{\"bgcolor\":\"white\",\"landcolor\":\"#E5ECF6\",\"subunitcolor\":\"white\",\"showland\":true,\"showlakes\":true,\"lakecolor\":\"white\"},\"title\":{\"x\":0.05},\"mapbox\":{\"style\":\"light\"}}},\"xaxis\":{\"anchor\":\"y\",\"domain\":[0.0,1.0],\"title\":{\"text\":\"Country\"}},\"yaxis\":{\"anchor\":\"x\",\"domain\":[0.0,1.0],\"title\":{\"text\":\"Number of Attacks\"}},\"legend\":{\"title\":{\"text\":\"success\"},\"tracegroupgap\":0},\"title\":{\"text\":\"Number of Successful and Failed terrorist attacks by Country\"},\"barmode\":\"stack\"},                        {\"responsive\": true}                    ).then(function(){\n",
       "                            \n",
       "var gd = document.getElementById('beeb6f06-1a7b-4db9-9da9-25fa85d54985');\n",
       "var x = new MutationObserver(function (mutations, observer) {{\n",
       "        var display = window.getComputedStyle(gd).display;\n",
       "        if (!display || display === 'none') {{\n",
       "            console.log([gd, 'removed!']);\n",
       "            Plotly.purge(gd);\n",
       "            observer.disconnect();\n",
       "        }}\n",
       "}});\n",
       "\n",
       "// Listen for the removal of the full notebook cells\n",
       "var notebookContainer = gd.closest('#notebook-container');\n",
       "if (notebookContainer) {{\n",
       "    x.observe(notebookContainer, {childList: true});\n",
       "}}\n",
       "\n",
       "// Listen for the clearing of the current output cell\n",
       "var outputEl = gd.closest('.output');\n",
       "if (outputEl) {{\n",
       "    x.observe(outputEl, {childList: true});\n",
       "}}\n",
       "\n",
       "                        })                };                });            </script>        </div>"
      ]
     },
     "metadata": {},
     "output_type": "display_data"
    }
   ],
   "source": [
    "#create a new column indicating whether the attack was successful or failed\n",
    "df['success'] = df['success'].apply(lambda x: 'successful' if x == 1 else 'failed')\n",
    "\n",
    "# Group the data by country and success\n",
    "grouped_df = df.groupby(['country_txt','success']).size().reset_index(name='counts')\n",
    "\n",
    "# Create a stacked bar chart using Plotly Express\n",
    "fig = px.bar(grouped_df, x='country_txt', y='counts', color='success', barmode='stack',\n",
    "             labels={'country_txt':'Country','counts':'Number of Attacks'},\n",
    "             title='Number of Successful and Failed terrorist attacks by Country')\n",
    "fig.show()\n"
   ]
  },
  {
   "cell_type": "code",
   "execution_count": 18,
   "id": "a47650bf",
   "metadata": {
    "execution": {
     "iopub.execute_input": "2023-01-18T02:49:48.959417Z",
     "iopub.status.busy": "2023-01-18T02:49:48.958486Z",
     "iopub.status.idle": "2023-01-18T02:49:49.272884Z",
     "shell.execute_reply": "2023-01-18T02:49:49.271694Z"
    },
    "papermill": {
     "duration": 0.328112,
     "end_time": "2023-01-18T02:49:49.275540",
     "exception": false,
     "start_time": "2023-01-18T02:49:48.947428",
     "status": "completed"
    },
    "tags": []
   },
   "outputs": [
    {
     "data": {
      "text/html": [
       "<div>                            <div id=\"ead203eb-abd5-433c-9feb-bc69fc91c92e\" class=\"plotly-graph-div\" style=\"height:525px; width:100%;\"></div>            <script type=\"text/javascript\">                require([\"plotly\"], function(Plotly) {                    window.PLOTLYENV=window.PLOTLYENV || {};                                    if (document.getElementById(\"ead203eb-abd5-433c-9feb-bc69fc91c92e\")) {                    Plotly.newPlot(                        \"ead203eb-abd5-433c-9feb-bc69fc91c92e\",                        [{\"alignmentgroup\":\"True\",\"hovertemplate\":\"success=failed<br>Country=%{x}<br>Percentage of Attacks=%{y}<extra></extra>\",\"legendgroup\":\"failed\",\"marker\":{\"color\":\"#636efa\",\"pattern\":{\"shape\":\"\"}},\"name\":\"failed\",\"offsetgroup\":\"failed\",\"orientation\":\"v\",\"showlegend\":true,\"textposition\":\"auto\",\"x\":[\"Afghanistan\",\"Albania\",\"Algeria\",\"Angola\",\"Argentina\",\"Armenia\",\"Australia\",\"Austria\",\"Azerbaijan\",\"Bahamas\",\"Bahrain\",\"Bangladesh\",\"Belgium\",\"Belize\",\"Bolivia\",\"Bosnia-Herzegovina\",\"Brazil\",\"Brunei\",\"Bulgaria\",\"Burkina Faso\",\"Burundi\",\"Cambodia\",\"Cameroon\",\"Canada\",\"Central African Republic\",\"Chad\",\"Chile\",\"China\",\"Colombia\",\"Comoros\",\"Costa Rica\",\"Croatia\",\"Cuba\",\"Cyprus\",\"Czech Republic\",\"Czechoslovakia\",\"Democratic Republic of the Congo\",\"Denmark\",\"Dominica\",\"Dominican Republic\",\"East Germany (GDR)\",\"East Timor\",\"Ecuador\",\"Egypt\",\"El Salvador\",\"Ethiopia\",\"Fiji\",\"Finland\",\"France\",\"French Guiana\",\"Gabon\",\"Gambia\",\"Georgia\",\"Germany\",\"Ghana\",\"Greece\",\"Grenada\",\"Guadeloupe\",\"Guatemala\",\"Guinea\",\"Guinea-Bissau\",\"Guyana\",\"Haiti\",\"Honduras\",\"Hong Kong\",\"Hungary\",\"India\",\"Indonesia\",\"Iran\",\"Iraq\",\"Ireland\",\"Israel\",\"Italy\",\"Ivory Coast\",\"Jamaica\",\"Japan\",\"Jordan\",\"Kazakhstan\",\"Kenya\",\"Kosovo\",\"Kuwait\",\"Kyrgyzstan\",\"Laos\",\"Latvia\",\"Lebanon\",\"Lesotho\",\"Liberia\",\"Libya\",\"Lithuania\",\"Luxembourg\",\"Macau\",\"Macedonia\",\"Madagascar\",\"Malaysia\",\"Maldives\",\"Mali\",\"Malta\",\"Mauritania\",\"Mauritius\",\"Mexico\",\"Moldova\",\"Morocco\",\"Mozambique\",\"Myanmar\",\"Namibia\",\"Nepal\",\"Netherlands\",\"New Caledonia\",\"New Zealand\",\"Nicaragua\",\"Niger\",\"Nigeria\",\"North Yemen\",\"Norway\",\"Pakistan\",\"Panama\",\"Papua New Guinea\",\"Paraguay\",\"People's Republic of the Congo\",\"Peru\",\"Philippines\",\"Poland\",\"Portugal\",\"Qatar\",\"Republic of the Congo\",\"Rhodesia\",\"Romania\",\"Russia\",\"Rwanda\",\"Saudi Arabia\",\"Senegal\",\"Serbia\",\"Serbia-Montenegro\",\"Sierra Leone\",\"Slovak Republic\",\"Somalia\",\"South Africa\",\"South Korea\",\"South Sudan\",\"Soviet Union\",\"Spain\",\"Sri Lanka\",\"Sudan\",\"Suriname\",\"Swaziland\",\"Sweden\",\"Switzerland\",\"Syria\",\"Taiwan\",\"Tajikistan\",\"Tanzania\",\"Thailand\",\"Togo\",\"Trinidad and Tobago\",\"Tunisia\",\"Turkey\",\"Turkmenistan\",\"Uganda\",\"Ukraine\",\"United Arab Emirates\",\"United Kingdom\",\"United States\",\"Uruguay\",\"Uzbekistan\",\"Vatican City\",\"Venezuela\",\"Vietnam\",\"West Bank and Gaza Strip\",\"West Germany (FRG)\",\"Yemen\",\"Yugoslavia\",\"Zaire\",\"Zambia\",\"Zimbabwe\"],\"xaxis\":\"x\",\"y\":[12.48919959154819,20.0,6.6350710900473935,2.6052104208416833,12.392638036809817,16.666666666666664,14.912280701754385,23.47826086956522,10.204081632653061,20.0,13.526570048309178,7.827669902912622,18.83116883116883,12.5,13.05732484076433,5.031446540880504,13.186813186813188,100.0,11.538461538461538,13.461538461538462,3.7520391517128875,6.177606177606178,6.927710843373494,21.875,7.06713780918728,4.395604395604396,6.088794926004228,12.698412698412698,7.151456778232602,40.0,16.417910447761194,3.508771929824561,30.0,15.151515151515152,28.125,30.0,7.483870967741936,14.634146341463413,33.33333333333333,5.555555555555555,7.894736842105263,30.0,7.727272727272727,18.878580072609925,1.7481203007518795,4.736842105263158,5.88235294117647,5.0,7.872261418492387,14.285714285714285,25.0,66.66666666666666,11.52073732718894,10.340136054421768,21.052631578947366,11.686274509803923,40.0,16.071428571428573,5.560975609756098,16.0,11.11111111111111,26.923076923076923,13.145539906103288,11.455108359133128,23.076923076923077,13.043478260869565,14.046822742474916,12.483574244415244,13.157894736842104,11.264003896736483,54.72312703583062,22.904260192395785,11.054313099041533,9.45945945945946,11.11111111111111,15.17412935323383,25.663716814159294,18.51851851851852,10.980966325036604,12.244897959183673,17.105263157894736,22.857142857142858,11.11111111111111,23.52941176470588,11.945117029862793,13.793103448275861,5.88235294117647,11.69408626056025,12.5,12.5,18.181818181818183,9.322033898305085,14.814814814814813,13.131313131313133,18.181818181818183,7.597173144876325,4.3478260869565215,22.22222222222222,100.0,8.587786259541986,14.285714285714285,8.333333333333332,4.683195592286501,6.7765567765567765,2.6490066225165565,21.316872427983537,17.692307692307693,9.67741935483871,45.0,1.5736040609137056,5.194805194805195,8.036856923470694,33.33333333333333,15.789473684210526,12.305122494432071,13.385826771653544,13.48314606741573,11.403508771929824,25.0,5.593832020997375,13.506079907353794,12.82051282051282,7.857142857142857,14.285714285714285,2.7777777777777777,3.614457831325301,33.33333333333333,17.502278942570648,3.1446540880503147,14.016172506738545,1.694915254237288,8.333333333333332,9.090909090909092,2.9702970297029703,16.666666666666664,8.16030902945437,6.894841269841271,10.526315789473683,14.222222222222221,14.102564102564102,13.265620190827947,5.7246856386499,3.5160289555325748,7.575757575757576,6.25,14.393939393939394,18.91891891891892,3.7255792821444795,26.0,4.25531914893617,15.254237288135593,5.793712652637049,12.5,9.090909090909092,11.009174311926607,8.923578751164959,50.0,7.868020304568528,10.53247513165594,22.727272727272727,19.656160458452725,17.48942172073343,13.414634146341465,9.523809523809524,100.0,16.040955631399317,41.66666666666667,20.70049393803323,14.048059149722736,15.237526142814461,11.822660098522167,10.0,6.451612903225806,4.9504950495049505],\"yaxis\":\"y\",\"type\":\"bar\"},{\"alignmentgroup\":\"True\",\"hovertemplate\":\"success=successful<br>Country=%{x}<br>Percentage of Attacks=%{y}<extra></extra>\",\"legendgroup\":\"successful\",\"marker\":{\"color\":\"#EF553B\",\"pattern\":{\"shape\":\"\"}},\"name\":\"successful\",\"offsetgroup\":\"successful\",\"orientation\":\"v\",\"showlegend\":true,\"textposition\":\"auto\",\"x\":[\"Afghanistan\",\"Albania\",\"Algeria\",\"Andorra\",\"Angola\",\"Antigua and Barbuda\",\"Argentina\",\"Armenia\",\"Australia\",\"Austria\",\"Azerbaijan\",\"Bahamas\",\"Bahrain\",\"Bangladesh\",\"Barbados\",\"Belarus\",\"Belgium\",\"Belize\",\"Benin\",\"Bhutan\",\"Bolivia\",\"Bosnia-Herzegovina\",\"Botswana\",\"Brazil\",\"Bulgaria\",\"Burkina Faso\",\"Burundi\",\"Cambodia\",\"Cameroon\",\"Canada\",\"Central African Republic\",\"Chad\",\"Chile\",\"China\",\"Colombia\",\"Comoros\",\"Costa Rica\",\"Croatia\",\"Cuba\",\"Cyprus\",\"Czech Republic\",\"Czechoslovakia\",\"Democratic Republic of the Congo\",\"Denmark\",\"Djibouti\",\"Dominica\",\"Dominican Republic\",\"East Germany (GDR)\",\"East Timor\",\"Ecuador\",\"Egypt\",\"El Salvador\",\"Equatorial Guinea\",\"Eritrea\",\"Estonia\",\"Ethiopia\",\"Falkland Islands\",\"Fiji\",\"Finland\",\"France\",\"French Guiana\",\"French Polynesia\",\"Gabon\",\"Gambia\",\"Georgia\",\"Germany\",\"Ghana\",\"Greece\",\"Grenada\",\"Guadeloupe\",\"Guatemala\",\"Guinea\",\"Guinea-Bissau\",\"Guyana\",\"Haiti\",\"Honduras\",\"Hong Kong\",\"Hungary\",\"Iceland\",\"India\",\"Indonesia\",\"International\",\"Iran\",\"Iraq\",\"Ireland\",\"Israel\",\"Italy\",\"Ivory Coast\",\"Jamaica\",\"Japan\",\"Jordan\",\"Kazakhstan\",\"Kenya\",\"Kosovo\",\"Kuwait\",\"Kyrgyzstan\",\"Laos\",\"Latvia\",\"Lebanon\",\"Lesotho\",\"Liberia\",\"Libya\",\"Lithuania\",\"Luxembourg\",\"Macau\",\"Macedonia\",\"Madagascar\",\"Malawi\",\"Malaysia\",\"Maldives\",\"Mali\",\"Malta\",\"Martinique\",\"Mauritania\",\"Mexico\",\"Moldova\",\"Montenegro\",\"Morocco\",\"Mozambique\",\"Myanmar\",\"Namibia\",\"Nepal\",\"Netherlands\",\"New Caledonia\",\"New Hebrides\",\"New Zealand\",\"Nicaragua\",\"Niger\",\"Nigeria\",\"North Korea\",\"North Yemen\",\"Norway\",\"Pakistan\",\"Panama\",\"Papua New Guinea\",\"Paraguay\",\"People's Republic of the Congo\",\"Peru\",\"Philippines\",\"Poland\",\"Portugal\",\"Qatar\",\"Republic of the Congo\",\"Rhodesia\",\"Romania\",\"Russia\",\"Rwanda\",\"Saudi Arabia\",\"Senegal\",\"Serbia\",\"Serbia-Montenegro\",\"Seychelles\",\"Sierra Leone\",\"Singapore\",\"Slovak Republic\",\"Slovenia\",\"Solomon Islands\",\"Somalia\",\"South Africa\",\"South Korea\",\"South Sudan\",\"South Vietnam\",\"South Yemen\",\"Soviet Union\",\"Spain\",\"Sri Lanka\",\"St. Kitts and Nevis\",\"St. Lucia\",\"Sudan\",\"Suriname\",\"Swaziland\",\"Sweden\",\"Switzerland\",\"Syria\",\"Taiwan\",\"Tajikistan\",\"Tanzania\",\"Thailand\",\"Togo\",\"Trinidad and Tobago\",\"Tunisia\",\"Turkey\",\"Turkmenistan\",\"Uganda\",\"Ukraine\",\"United Arab Emirates\",\"United Kingdom\",\"United States\",\"Uruguay\",\"Uzbekistan\",\"Vanuatu\",\"Venezuela\",\"Vietnam\",\"Wallis and Futuna\",\"West Bank and Gaza Strip\",\"West Germany (FRG)\",\"Western Sahara\",\"Yemen\",\"Yugoslavia\",\"Zaire\",\"Zambia\",\"Zimbabwe\"],\"xaxis\":\"x\",\"y\":[87.5108004084518,80.0,93.36492890995261,100.0,97.39478957915831,100.0,87.60736196319019,83.33333333333334,85.08771929824562,76.52173913043478,89.79591836734694,80.0,86.47342995169082,92.17233009708737,100.0,100.0,81.16883116883116,87.5,100.0,100.0,86.94267515923568,94.9685534591195,100.0,86.81318681318682,88.46153846153845,86.53846153846155,96.24796084828712,93.82239382239382,93.07228915662651,78.125,92.93286219081273,95.6043956043956,93.91120507399577,87.3015873015873,92.8485432217674,60.0,83.5820895522388,96.49122807017544,70.0,84.84848484848484,71.875,70.0,92.51612903225806,85.36585365853658,100.0,66.66666666666666,94.44444444444444,92.10526315789474,70.0,92.27272727272727,81.12141992739008,98.25187969924812,100.0,100.0,100.0,95.26315789473684,100.0,94.11764705882352,95.0,92.12773858150761,85.71428571428571,100.0,75.0,33.33333333333333,88.47926267281106,89.65986394557824,78.94736842105263,88.31372549019608,60.0,83.92857142857143,94.4390243902439,84.0,88.88888888888889,73.07692307692307,86.85446009389672,88.54489164086688,76.92307692307693,86.95652173913044,100.0,85.95317725752508,87.51642575558476,100.0,86.8421052631579,88.73599610326352,45.27687296416938,77.09573980760422,88.94568690095846,90.54054054054053,88.88888888888889,84.82587064676616,74.33628318584071,81.48148148148148,89.0190336749634,87.75510204081633,82.89473684210526,77.14285714285715,88.88888888888889,76.47058823529412,88.0548829701372,86.20689655172413,94.11764705882352,88.30591373943976,87.5,87.5,81.81818181818183,90.67796610169492,85.18518518518519,100.0,86.86868686868688,81.81818181818183,92.40282685512368,95.65217391304348,100.0,77.77777777777779,91.41221374045801,85.71428571428571,100.0,91.66666666666666,95.31680440771349,93.22344322344323,97.35099337748345,78.68312757201646,82.3076923076923,90.32258064516128,100.0,55.00000000000001,98.42639593908629,94.8051948051948,91.9631430765293,100.0,66.66666666666666,84.21052631578947,87.69487750556793,86.61417322834646,86.51685393258427,88.59649122807018,75.0,94.40616797900262,86.4939200926462,87.17948717948718,92.14285714285714,85.71428571428571,97.22222222222221,96.3855421686747,66.66666666666666,82.49772105742935,96.85534591194968,85.98382749326146,98.30508474576271,91.66666666666666,90.9090909090909,100.0,97.02970297029702,100.0,83.33333333333334,100.0,100.0,91.83969097054563,93.10515873015873,89.47368421052632,85.77777777777777,100.0,100.0,85.8974358974359,86.73437980917205,94.2753143613501,100.0,100.0,96.48397104446742,92.42424242424242,93.75,85.60606060606061,81.08108108108108,96.27442071785552,74.0,95.74468085106383,84.7457627118644,94.20628734736295,87.5,90.9090909090909,88.9908256880734,91.07642124883503,50.0,92.13197969543148,89.46752486834406,77.27272727272727,80.34383954154728,82.51057827926658,86.58536585365853,90.47619047619048,100.0,83.95904436860067,58.333333333333336,100.0,79.29950606196677,85.95194085027727,100.0,84.76247385718554,88.17733990147784,90.0,93.54838709677419,95.04950495049505],\"yaxis\":\"y\",\"type\":\"bar\"}],                        {\"template\":{\"data\":{\"histogram2dcontour\":[{\"type\":\"histogram2dcontour\",\"colorbar\":{\"outlinewidth\":0,\"ticks\":\"\"},\"colorscale\":[[0.0,\"#0d0887\"],[0.1111111111111111,\"#46039f\"],[0.2222222222222222,\"#7201a8\"],[0.3333333333333333,\"#9c179e\"],[0.4444444444444444,\"#bd3786\"],[0.5555555555555556,\"#d8576b\"],[0.6666666666666666,\"#ed7953\"],[0.7777777777777778,\"#fb9f3a\"],[0.8888888888888888,\"#fdca26\"],[1.0,\"#f0f921\"]]}],\"choropleth\":[{\"type\":\"choropleth\",\"colorbar\":{\"outlinewidth\":0,\"ticks\":\"\"}}],\"histogram2d\":[{\"type\":\"histogram2d\",\"colorbar\":{\"outlinewidth\":0,\"ticks\":\"\"},\"colorscale\":[[0.0,\"#0d0887\"],[0.1111111111111111,\"#46039f\"],[0.2222222222222222,\"#7201a8\"],[0.3333333333333333,\"#9c179e\"],[0.4444444444444444,\"#bd3786\"],[0.5555555555555556,\"#d8576b\"],[0.6666666666666666,\"#ed7953\"],[0.7777777777777778,\"#fb9f3a\"],[0.8888888888888888,\"#fdca26\"],[1.0,\"#f0f921\"]]}],\"heatmap\":[{\"type\":\"heatmap\",\"colorbar\":{\"outlinewidth\":0,\"ticks\":\"\"},\"colorscale\":[[0.0,\"#0d0887\"],[0.1111111111111111,\"#46039f\"],[0.2222222222222222,\"#7201a8\"],[0.3333333333333333,\"#9c179e\"],[0.4444444444444444,\"#bd3786\"],[0.5555555555555556,\"#d8576b\"],[0.6666666666666666,\"#ed7953\"],[0.7777777777777778,\"#fb9f3a\"],[0.8888888888888888,\"#fdca26\"],[1.0,\"#f0f921\"]]}],\"heatmapgl\":[{\"type\":\"heatmapgl\",\"colorbar\":{\"outlinewidth\":0,\"ticks\":\"\"},\"colorscale\":[[0.0,\"#0d0887\"],[0.1111111111111111,\"#46039f\"],[0.2222222222222222,\"#7201a8\"],[0.3333333333333333,\"#9c179e\"],[0.4444444444444444,\"#bd3786\"],[0.5555555555555556,\"#d8576b\"],[0.6666666666666666,\"#ed7953\"],[0.7777777777777778,\"#fb9f3a\"],[0.8888888888888888,\"#fdca26\"],[1.0,\"#f0f921\"]]}],\"contourcarpet\":[{\"type\":\"contourcarpet\",\"colorbar\":{\"outlinewidth\":0,\"ticks\":\"\"}}],\"contour\":[{\"type\":\"contour\",\"colorbar\":{\"outlinewidth\":0,\"ticks\":\"\"},\"colorscale\":[[0.0,\"#0d0887\"],[0.1111111111111111,\"#46039f\"],[0.2222222222222222,\"#7201a8\"],[0.3333333333333333,\"#9c179e\"],[0.4444444444444444,\"#bd3786\"],[0.5555555555555556,\"#d8576b\"],[0.6666666666666666,\"#ed7953\"],[0.7777777777777778,\"#fb9f3a\"],[0.8888888888888888,\"#fdca26\"],[1.0,\"#f0f921\"]]}],\"surface\":[{\"type\":\"surface\",\"colorbar\":{\"outlinewidth\":0,\"ticks\":\"\"},\"colorscale\":[[0.0,\"#0d0887\"],[0.1111111111111111,\"#46039f\"],[0.2222222222222222,\"#7201a8\"],[0.3333333333333333,\"#9c179e\"],[0.4444444444444444,\"#bd3786\"],[0.5555555555555556,\"#d8576b\"],[0.6666666666666666,\"#ed7953\"],[0.7777777777777778,\"#fb9f3a\"],[0.8888888888888888,\"#fdca26\"],[1.0,\"#f0f921\"]]}],\"mesh3d\":[{\"type\":\"mesh3d\",\"colorbar\":{\"outlinewidth\":0,\"ticks\":\"\"}}],\"scatter\":[{\"fillpattern\":{\"fillmode\":\"overlay\",\"size\":10,\"solidity\":0.2},\"type\":\"scatter\"}],\"parcoords\":[{\"type\":\"parcoords\",\"line\":{\"colorbar\":{\"outlinewidth\":0,\"ticks\":\"\"}}}],\"scatterpolargl\":[{\"type\":\"scatterpolargl\",\"marker\":{\"colorbar\":{\"outlinewidth\":0,\"ticks\":\"\"}}}],\"bar\":[{\"error_x\":{\"color\":\"#2a3f5f\"},\"error_y\":{\"color\":\"#2a3f5f\"},\"marker\":{\"line\":{\"color\":\"#E5ECF6\",\"width\":0.5},\"pattern\":{\"fillmode\":\"overlay\",\"size\":10,\"solidity\":0.2}},\"type\":\"bar\"}],\"scattergeo\":[{\"type\":\"scattergeo\",\"marker\":{\"colorbar\":{\"outlinewidth\":0,\"ticks\":\"\"}}}],\"scatterpolar\":[{\"type\":\"scatterpolar\",\"marker\":{\"colorbar\":{\"outlinewidth\":0,\"ticks\":\"\"}}}],\"histogram\":[{\"marker\":{\"pattern\":{\"fillmode\":\"overlay\",\"size\":10,\"solidity\":0.2}},\"type\":\"histogram\"}],\"scattergl\":[{\"type\":\"scattergl\",\"marker\":{\"colorbar\":{\"outlinewidth\":0,\"ticks\":\"\"}}}],\"scatter3d\":[{\"type\":\"scatter3d\",\"line\":{\"colorbar\":{\"outlinewidth\":0,\"ticks\":\"\"}},\"marker\":{\"colorbar\":{\"outlinewidth\":0,\"ticks\":\"\"}}}],\"scattermapbox\":[{\"type\":\"scattermapbox\",\"marker\":{\"colorbar\":{\"outlinewidth\":0,\"ticks\":\"\"}}}],\"scatterternary\":[{\"type\":\"scatterternary\",\"marker\":{\"colorbar\":{\"outlinewidth\":0,\"ticks\":\"\"}}}],\"scattercarpet\":[{\"type\":\"scattercarpet\",\"marker\":{\"colorbar\":{\"outlinewidth\":0,\"ticks\":\"\"}}}],\"carpet\":[{\"aaxis\":{\"endlinecolor\":\"#2a3f5f\",\"gridcolor\":\"white\",\"linecolor\":\"white\",\"minorgridcolor\":\"white\",\"startlinecolor\":\"#2a3f5f\"},\"baxis\":{\"endlinecolor\":\"#2a3f5f\",\"gridcolor\":\"white\",\"linecolor\":\"white\",\"minorgridcolor\":\"white\",\"startlinecolor\":\"#2a3f5f\"},\"type\":\"carpet\"}],\"table\":[{\"cells\":{\"fill\":{\"color\":\"#EBF0F8\"},\"line\":{\"color\":\"white\"}},\"header\":{\"fill\":{\"color\":\"#C8D4E3\"},\"line\":{\"color\":\"white\"}},\"type\":\"table\"}],\"barpolar\":[{\"marker\":{\"line\":{\"color\":\"#E5ECF6\",\"width\":0.5},\"pattern\":{\"fillmode\":\"overlay\",\"size\":10,\"solidity\":0.2}},\"type\":\"barpolar\"}],\"pie\":[{\"automargin\":true,\"type\":\"pie\"}]},\"layout\":{\"autotypenumbers\":\"strict\",\"colorway\":[\"#636efa\",\"#EF553B\",\"#00cc96\",\"#ab63fa\",\"#FFA15A\",\"#19d3f3\",\"#FF6692\",\"#B6E880\",\"#FF97FF\",\"#FECB52\"],\"font\":{\"color\":\"#2a3f5f\"},\"hovermode\":\"closest\",\"hoverlabel\":{\"align\":\"left\"},\"paper_bgcolor\":\"white\",\"plot_bgcolor\":\"#E5ECF6\",\"polar\":{\"bgcolor\":\"#E5ECF6\",\"angularaxis\":{\"gridcolor\":\"white\",\"linecolor\":\"white\",\"ticks\":\"\"},\"radialaxis\":{\"gridcolor\":\"white\",\"linecolor\":\"white\",\"ticks\":\"\"}},\"ternary\":{\"bgcolor\":\"#E5ECF6\",\"aaxis\":{\"gridcolor\":\"white\",\"linecolor\":\"white\",\"ticks\":\"\"},\"baxis\":{\"gridcolor\":\"white\",\"linecolor\":\"white\",\"ticks\":\"\"},\"caxis\":{\"gridcolor\":\"white\",\"linecolor\":\"white\",\"ticks\":\"\"}},\"coloraxis\":{\"colorbar\":{\"outlinewidth\":0,\"ticks\":\"\"}},\"colorscale\":{\"sequential\":[[0.0,\"#0d0887\"],[0.1111111111111111,\"#46039f\"],[0.2222222222222222,\"#7201a8\"],[0.3333333333333333,\"#9c179e\"],[0.4444444444444444,\"#bd3786\"],[0.5555555555555556,\"#d8576b\"],[0.6666666666666666,\"#ed7953\"],[0.7777777777777778,\"#fb9f3a\"],[0.8888888888888888,\"#fdca26\"],[1.0,\"#f0f921\"]],\"sequentialminus\":[[0.0,\"#0d0887\"],[0.1111111111111111,\"#46039f\"],[0.2222222222222222,\"#7201a8\"],[0.3333333333333333,\"#9c179e\"],[0.4444444444444444,\"#bd3786\"],[0.5555555555555556,\"#d8576b\"],[0.6666666666666666,\"#ed7953\"],[0.7777777777777778,\"#fb9f3a\"],[0.8888888888888888,\"#fdca26\"],[1.0,\"#f0f921\"]],\"diverging\":[[0,\"#8e0152\"],[0.1,\"#c51b7d\"],[0.2,\"#de77ae\"],[0.3,\"#f1b6da\"],[0.4,\"#fde0ef\"],[0.5,\"#f7f7f7\"],[0.6,\"#e6f5d0\"],[0.7,\"#b8e186\"],[0.8,\"#7fbc41\"],[0.9,\"#4d9221\"],[1,\"#276419\"]]},\"xaxis\":{\"gridcolor\":\"white\",\"linecolor\":\"white\",\"ticks\":\"\",\"title\":{\"standoff\":15},\"zerolinecolor\":\"white\",\"automargin\":true,\"zerolinewidth\":2},\"yaxis\":{\"gridcolor\":\"white\",\"linecolor\":\"white\",\"ticks\":\"\",\"title\":{\"standoff\":15},\"zerolinecolor\":\"white\",\"automargin\":true,\"zerolinewidth\":2},\"scene\":{\"xaxis\":{\"backgroundcolor\":\"#E5ECF6\",\"gridcolor\":\"white\",\"linecolor\":\"white\",\"showbackground\":true,\"ticks\":\"\",\"zerolinecolor\":\"white\",\"gridwidth\":2},\"yaxis\":{\"backgroundcolor\":\"#E5ECF6\",\"gridcolor\":\"white\",\"linecolor\":\"white\",\"showbackground\":true,\"ticks\":\"\",\"zerolinecolor\":\"white\",\"gridwidth\":2},\"zaxis\":{\"backgroundcolor\":\"#E5ECF6\",\"gridcolor\":\"white\",\"linecolor\":\"white\",\"showbackground\":true,\"ticks\":\"\",\"zerolinecolor\":\"white\",\"gridwidth\":2}},\"shapedefaults\":{\"line\":{\"color\":\"#2a3f5f\"}},\"annotationdefaults\":{\"arrowcolor\":\"#2a3f5f\",\"arrowhead\":0,\"arrowwidth\":1},\"geo\":{\"bgcolor\":\"white\",\"landcolor\":\"#E5ECF6\",\"subunitcolor\":\"white\",\"showland\":true,\"showlakes\":true,\"lakecolor\":\"white\"},\"title\":{\"x\":0.05},\"mapbox\":{\"style\":\"light\"}}},\"xaxis\":{\"anchor\":\"y\",\"domain\":[0.0,1.0],\"title\":{\"text\":\"Country\"}},\"yaxis\":{\"anchor\":\"x\",\"domain\":[0.0,1.0],\"title\":{\"text\":\"Percentage of Attacks\"}},\"legend\":{\"title\":{\"text\":\"success\"},\"tracegroupgap\":0},\"title\":{\"text\":\"Percentage of Successful and Failed terrorist attacks by Country\"},\"barmode\":\"stack\"},                        {\"responsive\": true}                    ).then(function(){\n",
       "                            \n",
       "var gd = document.getElementById('ead203eb-abd5-433c-9feb-bc69fc91c92e');\n",
       "var x = new MutationObserver(function (mutations, observer) {{\n",
       "        var display = window.getComputedStyle(gd).display;\n",
       "        if (!display || display === 'none') {{\n",
       "            console.log([gd, 'removed!']);\n",
       "            Plotly.purge(gd);\n",
       "            observer.disconnect();\n",
       "        }}\n",
       "}});\n",
       "\n",
       "// Listen for the removal of the full notebook cells\n",
       "var notebookContainer = gd.closest('#notebook-container');\n",
       "if (notebookContainer) {{\n",
       "    x.observe(notebookContainer, {childList: true});\n",
       "}}\n",
       "\n",
       "// Listen for the clearing of the current output cell\n",
       "var outputEl = gd.closest('.output');\n",
       "if (outputEl) {{\n",
       "    x.observe(outputEl, {childList: true});\n",
       "}}\n",
       "\n",
       "                        })                };                });            </script>        </div>"
      ]
     },
     "metadata": {},
     "output_type": "display_data"
    }
   ],
   "source": [
    " # Group the data by country and success\n",
    "grouped_df = df.groupby(['country_txt','success']).size().reset_index(name='counts')\n",
    "\n",
    "#calculate the percentage of successful and failed attacks\n",
    "grouped_df = grouped_df.groupby(['country_txt']).apply(lambda x: x.assign(counts = x.counts/x.counts.sum()*100))\n",
    "\n",
    "# Create a stacked bar chart using Plotly Express\n",
    "fig = px.bar(grouped_df, x='country_txt', y='counts', color='success', barmode='stack',\n",
    "             labels={'country_txt':'Country','counts':'Percentage of Attacks'},\n",
    "             title='Percentage of Successful and Failed terrorist attacks by Country')\n",
    "fig.show()\n"
   ]
  },
  {
   "cell_type": "code",
   "execution_count": 19,
   "id": "df4e018b",
   "metadata": {
    "execution": {
     "iopub.execute_input": "2023-01-18T02:49:49.297954Z",
     "iopub.status.busy": "2023-01-18T02:49:49.297527Z",
     "iopub.status.idle": "2023-01-18T02:49:49.554991Z",
     "shell.execute_reply": "2023-01-18T02:49:49.553480Z"
    },
    "papermill": {
     "duration": 0.271622,
     "end_time": "2023-01-18T02:49:49.557530",
     "exception": false,
     "start_time": "2023-01-18T02:49:49.285908",
     "status": "completed"
    },
    "tags": []
   },
   "outputs": [
    {
     "name": "stdout",
     "output_type": "stream",
     "text": [
      "The country with the most failed attacks is Brunei\n"
     ]
    }
   ],
   "source": [
    "# Group the data by country and success\n",
    "grouped_df = df.groupby(['country_txt','success']).size().reset_index(name='counts')\n",
    "\n",
    "#calculate the percentage of successful and failed attacks\n",
    "grouped_df = grouped_df.groupby(['country_txt']).apply(lambda x: x.assign(counts = x.counts/x.counts.sum()*100))\n",
    "\n",
    "# Create a DataFrame for only failed attacks\n",
    "failed_df = grouped_df[grouped_df['success'] == 'failed']\n",
    "\n",
    "# Get the country with the most failed attacks\n",
    "most_failed_country = failed_df.loc[failed_df['counts'].idxmax()]['country_txt']\n",
    "\n",
    "print(f\"The country with the most failed attacks is {most_failed_country}\")\n"
   ]
  },
  {
   "cell_type": "code",
   "execution_count": 20,
   "id": "176b5edd",
   "metadata": {
    "execution": {
     "iopub.execute_input": "2023-01-18T02:49:49.580133Z",
     "iopub.status.busy": "2023-01-18T02:49:49.579733Z",
     "iopub.status.idle": "2023-01-18T02:49:49.588458Z",
     "shell.execute_reply": "2023-01-18T02:49:49.587187Z"
    },
    "papermill": {
     "duration": 0.023295,
     "end_time": "2023-01-18T02:49:49.591172",
     "exception": false,
     "start_time": "2023-01-18T02:49:49.567877",
     "status": "completed"
    },
    "tags": []
   },
   "outputs": [
    {
     "name": "stdout",
     "output_type": "stream",
     "text": [
      "The country with the highest completed attacks is Andorra\n"
     ]
    }
   ],
   "source": [
    "# Create a DataFrame for only successful attacks\n",
    "su_df = grouped_df[grouped_df['success'] == 'successful']\n",
    "\n",
    "# Get the country with the highest completed attack rate\n",
    "most_attacks_country = su_df.loc[su_df['counts'].idxmax()]['country_txt']\n",
    "\n",
    "print(f\"The country with the highest completed attacks is {most_attacks_country}\")\n"
   ]
  },
  {
   "cell_type": "code",
   "execution_count": 21,
   "id": "41dddfbc",
   "metadata": {
    "execution": {
     "iopub.execute_input": "2023-01-18T02:49:49.614468Z",
     "iopub.status.busy": "2023-01-18T02:49:49.614071Z",
     "iopub.status.idle": "2023-01-18T02:49:49.856734Z",
     "shell.execute_reply": "2023-01-18T02:49:49.855589Z"
    },
    "papermill": {
     "duration": 0.257354,
     "end_time": "2023-01-18T02:49:49.859056",
     "exception": false,
     "start_time": "2023-01-18T02:49:49.601702",
     "status": "completed"
    },
    "tags": []
   },
   "outputs": [
    {
     "data": {
      "text/plain": [
       "<AxesSubplot:title={'center':'Terrorist Attacks Over Time'}, xlabel='Year', ylabel='Number of Attacks'>"
      ]
     },
     "execution_count": 21,
     "metadata": {},
     "output_type": "execute_result"
    },
    {
     "data": {
      "image/png": "[encoded data removed]",
      "text/plain": [
       "<Figure size 432x288 with 1 Axes>"
      ]
     },
     "metadata": {
      "needs_background": "light"
     },
     "output_type": "display_data"
    }
   ],
   "source": [
    "# Group the data by year\n",
    "yearly_attacks = df.groupby('iyear').size()\n",
    "\n",
    "# Create a line chart using Pandas\n",
    "yearly_attacks.plot(kind='line', title='Terrorist Attacks Over Time', xlabel='Year', ylabel='Number of Attacks')\n"
   ]
  },
  {
   "cell_type": "code",
   "execution_count": null,
   "id": "833a3384",
   "metadata": {
    "papermill": {
     "duration": 0.010631,
     "end_time": "2023-01-18T02:49:49.880587",
     "exception": false,
     "start_time": "2023-01-18T02:49:49.869956",
     "status": "completed"
    },
    "tags": []
   },
   "outputs": [],
   "source": []
  }
 ],
 "metadata": {
  "kernelspec": {
   "display_name": "Python 3",
   "language": "python",
   "name": "python3"
  },
  "language_info": {
   "codemirror_mode": {
    "name": "ipython",
    "version": 3
   },
   "file_extension": ".py",
   "mimetype": "text/x-python",
   "name": "python",
   "nbconvert_exporter": "python",
   "pygments_lexer": "ipython3",
   "version": "3.7.12"
  },
  "papermill": {
   "default_parameters": {},
   "duration": 42.062817,
   "end_time": "2023-01-18T02:49:50.915303",
   "environment_variables": {},
   "exception": null,
   "input_path": "__notebook__.ipynb",
   "output_path": "__notebook__.ipynb",
   "parameters": {},
   "start_time": "2023-01-18T02:49:08.852486",
   "version": "2.3.4"
  }
 },
 "nbformat": 4,
 "nbformat_minor": 5
}
