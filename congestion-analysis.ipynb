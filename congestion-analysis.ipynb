{
 "cells": [
  {
   "cell_type": "markdown",
   "id": "7e5ff078",
   "metadata": {
    "papermill": {
     "duration": 0.006641,
     "end_time": "2023-07-13T18:57:58.138295",
     "exception": false,
     "start_time": "2023-07-13T18:57:58.131654",
     "status": "completed"
    },
    "tags": []
   },
   "source": [
    "# **Summary of the project**\n",
    "\n",
    "The project aims to analyze data to determine the locations in Madagascar airspace that experience the highest congestion. It will also identify the times within a 24-hour period that are more prone to congestion and investigate potential causes by examining the correlation between turbulence and flight rules."
   ]
  },
  {
   "cell_type": "markdown",
   "id": "eb3ca4fb",
   "metadata": {
    "papermill": {
     "duration": 0.005685,
     "end_time": "2023-07-13T18:57:58.150145",
     "exception": false,
     "start_time": "2023-07-13T18:57:58.144460",
     "status": "completed"
    },
    "tags": []
   },
   "source": [
    "# **II-Data:** \n",
    "The data we have collected are data from September 2022 to June 2023 which  contains the following column: \n",
    "1. Line Number: Identification number for the flight record.\n",
    "2. Immatriculation: Aircraft registration number.\n",
    "3. Avion Type: Type of aircraft used for the flight.\n",
    "4. Turbulence Type (1, 2, 3, 4): Categorization of turbulence intensity.\n",
    "5. Departure Emplacement (ICAO code): ICAO code representing the departure location.\n",
    "6. Destination Emplacement (ICAO code): ICAO code representing the destination location.\n",
    "7. Flight Rule: Flight rules followed, categorized as VFR-VMC (Visual Flight Rules - Visual Meteorological Conditions) or IFR-IMC (Instrument Flight Rules - Instrument Meteorological Conditions).\n",
    "8. Radioborn Maker - Avion Capacity (COMNAV): Manufacturer of the radio equipment installed in the aircraft for communication and navigation purposes.\n",
    "9. Radioborn Maker - Avion Capacity (Surveillance): Manufacturer of the radio equipment installed in the aircraft for surveillance purposes.\n",
    "10. Flight Number Landing (INT): Flight number for the landing.\n",
    "11. Regional or International Flight: Indicates whether the flight is regional or international.\n",
    "12. Date: Date of the flight.\n",
    "13. Entry Point: Point of entry into a specific airspace or region.\n"
   ]
  },
  {
   "cell_type": "code",
   "execution_count": 1,
   "id": "ec198a27",
   "metadata": {
    "execution": {
     "iopub.execute_input": "2023-07-13T18:57:58.163474Z",
     "iopub.status.busy": "2023-07-13T18:57:58.163113Z",
     "iopub.status.idle": "2023-07-13T18:57:58.172547Z",
     "shell.execute_reply": "2023-07-13T18:57:58.171895Z"
    },
    "papermill": {
     "duration": 0.018328,
     "end_time": "2023-07-13T18:57:58.174393",
     "exception": false,
     "start_time": "2023-07-13T18:57:58.156065",
     "status": "completed"
    },
    "tags": []
   },
   "outputs": [],
   "source": [
    "#libraries that I used throhought the Analysis\n",
    "import numpy as np\n",
    "import pandas as pd\n",
    "import glob\n",
    "import os\n",
    "import matplotlib.pyplot as plt\n",
    "import calendar"
   ]
  },
  {
   "cell_type": "code",
   "execution_count": 2,
   "id": "7a5ce293",
   "metadata": {
    "execution": {
     "iopub.execute_input": "2023-07-13T18:57:58.187062Z",
     "iopub.status.busy": "2023-07-13T18:57:58.186794Z",
     "iopub.status.idle": "2023-07-13T18:57:59.175189Z",
     "shell.execute_reply": "2023-07-13T18:57:59.174285Z"
    },
    "papermill": {
     "duration": 0.997219,
     "end_time": "2023-07-13T18:57:59.177312",
     "exception": false,
     "start_time": "2023-07-13T18:57:58.180093",
     "status": "completed"
    },
    "tags": []
   },
   "outputs": [
    {
     "name": "stdout",
     "output_type": "stream",
     "text": [
      "20220927.csv  20221124.csv  20230110.csv  20230218.csv\t20230329.csv\r\n",
      "20220928.csv  20221125.csv  20230111.csv  20230219.csv\t20230330.csv\r\n",
      "20220929.csv  20221126.csv  20230112.csv  20230220.csv\t20230331.csv\r\n",
      "20220930.csv  20221127.csv  20230113.csv  20230221.csv\t20230401.csv\r\n",
      "20221001.csv  20221128.csv  20230114.csv  20230222.csv\t20230402.csv\r\n",
      "20221002.csv  20221129.csv  20230115.csv  20230223.csv\t20230403.csv\r\n",
      "20221003.csv  20221130.csv  20230116.csv  20230224.csv\t20230404.csv\r\n",
      "20221004.csv  20221201.csv  20230117.csv  20230225.csv\t20230405.csv\r\n",
      "20221005.csv  20221202.csv  20230118.csv  20230226.csv\t20230406.csv\r\n",
      "20221006.csv  20221203.csv  20230119.csv  20230227.csv\t20230407.csv\r\n",
      "20221007.csv  20221204.csv  20230120.csv  20230228.csv\t20230408.csv\r\n",
      "20221008.csv  20221205.csv  20230121.csv  20230301.csv\t20230409.csv\r\n",
      "20221010.csv  20221206.csv  20230122.csv  20230302.csv\t20230410.csv\r\n",
      "20221011.csv  20221207.csv  20230123.csv  20230303.csv\t20230411.csv\r\n",
      "20221012.csv  20221208.csv  20230124.csv  20230304.csv\t20230412.csv\r\n",
      "20221013.csv  20221209.csv  20230125.csv  20230305.csv\t20230413.csv\r\n",
      "20221014.csv  20221210.csv  20230126.csv  20230306.csv\t20230414.csv\r\n",
      "20221015.csv  20221211.csv  20230127.csv  20230307.csv\t20230415.csv\r\n",
      "20221016.csv  20221212.csv  20230128.csv  20230308.csv\t20230416.csv\r\n",
      "20221017.csv  20221213.csv  20230129.csv  20230309.csv\t20230417.csv\r\n",
      "20221018.csv  20221214.csv  20230130.csv  20230310.csv\t20230418.csv\r\n",
      "20221019.csv  20221215.csv  20230131.csv  20230311.csv\t20230419.csv\r\n",
      "20221020.csv  20221216.csv  20230201.csv  20230312.csv\t20230420.csv\r\n",
      "20221021.csv  20221217.csv  20230202.csv  20230313.csv\t20230421.csv\r\n",
      "20221022.csv  20221218.csv  20230203.csv  20230314.csv\t20230422.csv\r\n",
      "20221023.csv  20221219.csv  20230204.csv  20230315.csv\t20230423.csv\r\n",
      "20221024.csv  20221228.csv  20230205.csv  20230316.csv\t20230424.csv\r\n",
      "20221025.csv  20221229.csv  20230206.csv  20230317.csv\t20230425.csv\r\n",
      "20221113.csv  20221230.csv  20230207.csv  20230318.csv\t20230426.csv\r\n",
      "20221114.csv  20221231.csv  20230208.csv  20230319.csv\t20230427.csv\r\n",
      "20221115.csv  20230101.csv  20230209.csv  20230320.csv\t20230428.csv\r\n",
      "20221116.csv  20230102.csv  20230210.csv  20230321.csv\t20230429.csv\r\n",
      "20221117.csv  20230103.csv  20230211.csv  20230322.csv\t20230430.csv\r\n",
      "20221118.csv  20230104.csv  20230212.csv  20230323.csv\t20230501.csv\r\n",
      "20221119.csv  20230105.csv  20230213.csv  20230324.csv\t20230502.csv\r\n",
      "20221120.csv  20230106.csv  20230214.csv  20230325.csv\t20230503.csv\r\n",
      "20221121.csv  20230107.csv  20230215.csv  20230326.csv\t20230504.csv\r\n",
      "20221122.csv  20230108.csv  20230216.csv  20230327.csv\t20230505.csv\r\n",
      "20221123.csv  20230109.csv  20230217.csv  20230328.csv\r\n"
     ]
    }
   ],
   "source": [
    "# See how many files there are in the directory. \n",
    "# \"!\" commands are called \"magic commands\" and allow you to use bash\n",
    "file_dir = '../input/asecnasj2223'\n",
    "!ls $file_dir\n"
   ]
  },
  {
   "cell_type": "code",
   "execution_count": 3,
   "id": "8a51c052",
   "metadata": {
    "execution": {
     "iopub.execute_input": "2023-07-13T18:57:59.191545Z",
     "iopub.status.busy": "2023-07-13T18:57:59.190993Z",
     "iopub.status.idle": "2023-07-13T18:58:00.157934Z",
     "shell.execute_reply": "2023-07-13T18:58:00.156948Z"
    },
    "papermill": {
     "duration": 0.976759,
     "end_time": "2023-07-13T18:58:00.160495",
     "exception": false,
     "start_time": "2023-07-13T18:57:59.183736",
     "status": "completed"
    },
    "tags": []
   },
   "outputs": [
    {
     "name": "stdout",
     "output_type": "stream",
     "text": [
      "194\r\n"
     ]
    }
   ],
   "source": [
    "# Number of files we are dealing with\n",
    "!ls $file_dir | wc -l"
   ]
  },
  {
   "cell_type": "code",
   "execution_count": 4,
   "id": "c4931943",
   "metadata": {
    "execution": {
     "iopub.execute_input": "2023-07-13T18:58:00.176470Z",
     "iopub.status.busy": "2023-07-13T18:58:00.176163Z",
     "iopub.status.idle": "2023-07-13T18:58:00.182193Z",
     "shell.execute_reply": "2023-07-13T18:58:00.181500Z"
    },
    "papermill": {
     "duration": 0.015639,
     "end_time": "2023-07-13T18:58:00.184047",
     "exception": false,
     "start_time": "2023-07-13T18:58:00.168408",
     "status": "completed"
    },
    "tags": []
   },
   "outputs": [],
   "source": [
    "files = glob.glob(os.path.join(file_dir, \"*.csv\"))"
   ]
  },
  {
   "cell_type": "markdown",
   "id": "38467017",
   "metadata": {
    "papermill": {
     "duration": 0.006203,
     "end_time": "2023-07-13T18:58:00.196305",
     "exception": false,
     "start_time": "2023-07-13T18:58:00.190102",
     "status": "completed"
    },
    "tags": []
   },
   "source": [
    "All my file where displayed as one column and not 18, I use this code to make sure it work and then loop over the 196 file"
   ]
  },
  {
   "cell_type": "code",
   "execution_count": 5,
   "id": "0cb6e2ff",
   "metadata": {
    "execution": {
     "iopub.execute_input": "2023-07-13T18:58:00.209333Z",
     "iopub.status.busy": "2023-07-13T18:58:00.209065Z",
     "iopub.status.idle": "2023-07-13T18:58:00.266883Z",
     "shell.execute_reply": "2023-07-13T18:58:00.265803Z"
    },
    "papermill": {
     "duration": 0.06655,
     "end_time": "2023-07-13T18:58:00.268862",
     "exception": false,
     "start_time": "2023-07-13T18:58:00.202312",
     "status": "completed"
    },
    "tags": []
   },
   "outputs": [
    {
     "data": {
      "text/plain": [
       "(107, 18)"
      ]
     },
     "execution_count": 5,
     "metadata": {},
     "output_type": "execute_result"
    }
   ],
   "source": [
    "import pandas as pd\n",
    "\n",
    "data_file = '/kaggle/input/asecnasj2223/20220927.csv'\n",
    "\n",
    "data = pd.read_csv(data_file, header=None)\n",
    "\n",
    "df = pd.DataFrame({'Data': data[0]})\n",
    "df[['Line Number',             # Identification number for the flight record.\n",
    "              'Immatriculation',         # Aircraft registration number.\n",
    "              'Avion Type',               # Type of aircraft used for the flight.\n",
    "              'Turbulence Type ',  # Categorization of turbulence intensity.\n",
    "              'Departure Emplacement (ICAO code)',   # ICAO code representing the departure location.\n",
    "              'Destination Emplacement (ICAO code)',  # ICAO code representing the destination location.\n",
    "              'Flight Rule',              # Flight rules followed: VFR-VMC or IFR-IMC.\n",
    "              'Radioborn Maker - Avion Capacity (COMNAV)',    # Manufacturer of communication and navigation equipment.\n",
    "              'Radioborn Maker - Avion Capacity (Surveillance)',   # Manufacturer of surveillance equipment.\n",
    "              'Flight Number Landing (INT)',  # Flight number for the landing.\n",
    "              'Regional or International Flight',   # Indicates if the flight is regional or international.\n",
    "              'Date',                     # Date of the flight.\n",
    "              'Entry Point',              # Point of entry into a specific airspace or region.\n",
    "              'Hour of Entry',            # Time of entry into the specified airspace or region.\n",
    "              'Flight Level',             # Altitude at which the aircraft is flying.\n",
    "              'Exit Point',               # Point of exit from a specific airspace or region.\n",
    "              'Hour of Exit',             # Time of exit from the specified airspace or region.\n",
    "              'Progression of the Flight'  # Description of the flight's progression or trajectory.\n",
    "   ]] = df['Data'].str.split('\\s+', expand=True, n=17)\n",
    "\n",
    "df = df.drop('Data', axis=1)\n",
    "\n",
    "df.shape\n"
   ]
  },
  {
   "cell_type": "code",
   "execution_count": 6,
   "id": "6809eb21",
   "metadata": {
    "execution": {
     "iopub.execute_input": "2023-07-13T18:58:00.282389Z",
     "iopub.status.busy": "2023-07-13T18:58:00.282102Z",
     "iopub.status.idle": "2023-07-13T18:58:03.759141Z",
     "shell.execute_reply": "2023-07-13T18:58:03.758303Z"
    },
    "papermill": {
     "duration": 3.486272,
     "end_time": "2023-07-13T18:58:03.761464",
     "exception": false,
     "start_time": "2023-07-13T18:58:00.275192",
     "status": "completed"
    },
    "tags": []
   },
   "outputs": [
    {
     "data": {
      "text/html": [
       "<div>\n",
       "<style scoped>\n",
       "    .dataframe tbody tr th:only-of-type {\n",
       "        vertical-align: middle;\n",
       "    }\n",
       "\n",
       "    .dataframe tbody tr th {\n",
       "        vertical-align: top;\n",
       "    }\n",
       "\n",
       "    .dataframe thead th {\n",
       "        text-align: right;\n",
       "    }\n",
       "</style>\n",
       "<table border=\"1\" class=\"dataframe\">\n",
       "  <thead>\n",
       "    <tr style=\"text-align: right;\">\n",
       "      <th></th>\n",
       "      <th>Line Number</th>\n",
       "      <th>Immatriculation</th>\n",
       "      <th>Avion Type</th>\n",
       "      <th>Turbulence Type</th>\n",
       "      <th>Departure Emplacement (ICAO code)</th>\n",
       "      <th>Destination Emplacement (ICAO code)</th>\n",
       "      <th>Flight Rule</th>\n",
       "      <th>Radioborn Maker - Avion Capacity (COMNAV)</th>\n",
       "      <th>Radioborn Maker - Avion Capacity (Surveillance)</th>\n",
       "      <th>Flight Number Landing (INT)</th>\n",
       "      <th>Regional or International Flight</th>\n",
       "      <th>Date</th>\n",
       "      <th>Entry Point</th>\n",
       "      <th>Hour of Entry</th>\n",
       "      <th>Flight Level</th>\n",
       "      <th>Exit Point</th>\n",
       "      <th>Hour of Exit</th>\n",
       "      <th>Progression of the Flight</th>\n",
       "    </tr>\n",
       "  </thead>\n",
       "  <tbody>\n",
       "    <tr>\n",
       "      <th>0</th>\n",
       "      <td>MAU855</td>\n",
       "      <td>3BNBU</td>\n",
       "      <td>A339</td>\n",
       "      <td>H</td>\n",
       "      <td>FIMP</td>\n",
       "      <td>FAOR</td>\n",
       "      <td>I</td>\n",
       "      <td>SDE3FGHIJ3J4J5M1RWY</td>\n",
       "      <td>LB1D1</td>\n",
       "      <td>OVF</td>\n",
       "      <td>INTERNATIONAL</td>\n",
       "      <td>20221210</td>\n",
       "      <td>GERAG</td>\n",
       "      <td>2117</td>\n",
       "      <td>400</td>\n",
       "      <td>SUNIR</td>\n",
       "      <td>2254</td>\n",
       "      <td>400  /NANTA;2127;400/DUPTO;2154;400/TU;2226;40...</td>\n",
       "    </tr>\n",
       "    <tr>\n",
       "      <th>1</th>\n",
       "      <td>KQA263</td>\n",
       "      <td>5YFFB</td>\n",
       "      <td>E190</td>\n",
       "      <td>M</td>\n",
       "      <td>FMMI</td>\n",
       "      <td>HKJK</td>\n",
       "      <td>I</td>\n",
       "      <td>SCDE2E3FGHIRWYZ</td>\n",
       "      <td>LB1</td>\n",
       "      <td>DEP</td>\n",
       "      <td>INTERNATIONAL</td>\n",
       "      <td>20221210</td>\n",
       "      <td>FMMI</td>\n",
       "      <td>2340</td>\n",
       "      <td>360</td>\n",
       "      <td>KINAN</td>\n",
       "      <td>0107</td>\n",
       "      <td>360  /TNV;2341;58/ZAPR;2343;78/1838S04726E;234...</td>\n",
       "    </tr>\n",
       "    <tr>\n",
       "      <th>2</th>\n",
       "      <td>FBU702</td>\n",
       "      <td>FHMIX</td>\n",
       "      <td>A359</td>\n",
       "      <td>H</td>\n",
       "      <td>LFPO</td>\n",
       "      <td>FMEE</td>\n",
       "      <td>I</td>\n",
       "      <td>ABDE1E2E3GHIJ1J2J3J4J5LM1OP2RVWXYZ</td>\n",
       "      <td>LB1D1</td>\n",
       "      <td>OVF</td>\n",
       "      <td>INTERNATIONAL</td>\n",
       "      <td>20221210</td>\n",
       "      <td>DENLI</td>\n",
       "      <td>2356</td>\n",
       "      <td>390</td>\n",
       "      <td>UVENA</td>\n",
       "      <td>0102</td>\n",
       "      <td>390  /ZCRNA;2356;350/IXEBU;0012;390/1225S05132...</td>\n",
       "    </tr>\n",
       "    <tr>\n",
       "      <th>3</th>\n",
       "      <td>CFG2314</td>\n",
       "      <td>DAIYD</td>\n",
       "      <td>A332</td>\n",
       "      <td>H</td>\n",
       "      <td>EDDF</td>\n",
       "      <td>FIMP</td>\n",
       "      <td>I</td>\n",
       "      <td>SDE1E2E3FGHIJ5LM1OP2RVWXYZ</td>\n",
       "      <td>LB1D1</td>\n",
       "      <td>OVF</td>\n",
       "      <td>INTERNATIONAL</td>\n",
       "      <td>20221210</td>\n",
       "      <td>ATOLA</td>\n",
       "      <td>0036</td>\n",
       "      <td>390</td>\n",
       "      <td>APLEM</td>\n",
       "      <td>0202</td>\n",
       "      <td>390  /ZCRNA;0036;390/BIRAL;0046;390/DO;0103;39...</td>\n",
       "    </tr>\n",
       "    <tr>\n",
       "      <th>4</th>\n",
       "      <td>AFR652</td>\n",
       "      <td>FGSQX</td>\n",
       "      <td>B77W</td>\n",
       "      <td>H</td>\n",
       "      <td>LFPG</td>\n",
       "      <td>FMEE</td>\n",
       "      <td>I</td>\n",
       "      <td>SDE2E3FGHIJ3J5M1P2RWXYZ</td>\n",
       "      <td>LB1D1</td>\n",
       "      <td>OVF</td>\n",
       "      <td>INTERNATIONAL</td>\n",
       "      <td>20221210</td>\n",
       "      <td>DENLI</td>\n",
       "      <td>0104</td>\n",
       "      <td>350</td>\n",
       "      <td>UVENA</td>\n",
       "      <td>0212</td>\n",
       "      <td>350  /ZCRNA;0104;370/IXEBU;0121;370/MIDRI;0131...</td>\n",
       "    </tr>\n",
       "  </tbody>\n",
       "</table>\n",
       "</div>"
      ],
      "text/plain": [
       "  Line Number Immatriculation Avion Type Turbulence Type  \\\n",
       "0      MAU855           3BNBU       A339               H   \n",
       "1      KQA263           5YFFB       E190               M   \n",
       "2      FBU702           FHMIX       A359               H   \n",
       "3     CFG2314           DAIYD       A332               H   \n",
       "4      AFR652           FGSQX       B77W               H   \n",
       "\n",
       "  Departure Emplacement (ICAO code) Destination Emplacement (ICAO code)  \\\n",
       "0                              FIMP                                FAOR   \n",
       "1                              FMMI                                HKJK   \n",
       "2                              LFPO                                FMEE   \n",
       "3                              EDDF                                FIMP   \n",
       "4                              LFPG                                FMEE   \n",
       "\n",
       "  Flight Rule Radioborn Maker - Avion Capacity (COMNAV)  \\\n",
       "0           I                       SDE3FGHIJ3J4J5M1RWY   \n",
       "1           I                           SCDE2E3FGHIRWYZ   \n",
       "2           I        ABDE1E2E3GHIJ1J2J3J4J5LM1OP2RVWXYZ   \n",
       "3           I                SDE1E2E3FGHIJ5LM1OP2RVWXYZ   \n",
       "4           I                   SDE2E3FGHIJ3J5M1P2RWXYZ   \n",
       "\n",
       "  Radioborn Maker - Avion Capacity (Surveillance) Flight Number Landing (INT)  \\\n",
       "0                                           LB1D1                         OVF   \n",
       "1                                             LB1                         DEP   \n",
       "2                                           LB1D1                         OVF   \n",
       "3                                           LB1D1                         OVF   \n",
       "4                                           LB1D1                         OVF   \n",
       "\n",
       "  Regional or International Flight      Date Entry Point Hour of Entry  \\\n",
       "0                    INTERNATIONAL  20221210       GERAG          2117   \n",
       "1                    INTERNATIONAL  20221210        FMMI          2340   \n",
       "2                    INTERNATIONAL  20221210       DENLI          2356   \n",
       "3                    INTERNATIONAL  20221210       ATOLA          0036   \n",
       "4                    INTERNATIONAL  20221210       DENLI          0104   \n",
       "\n",
       "  Flight Level Exit Point Hour of Exit  \\\n",
       "0          400      SUNIR         2254   \n",
       "1          360      KINAN         0107   \n",
       "2          390      UVENA         0102   \n",
       "3          390      APLEM         0202   \n",
       "4          350      UVENA         0212   \n",
       "\n",
       "                           Progression of the Flight  \n",
       "0  400  /NANTA;2127;400/DUPTO;2154;400/TU;2226;40...  \n",
       "1  360  /TNV;2341;58/ZAPR;2343;78/1838S04726E;234...  \n",
       "2  390  /ZCRNA;2356;350/IXEBU;0012;390/1225S05132...  \n",
       "3  390  /ZCRNA;0036;390/BIRAL;0046;390/DO;0103;39...  \n",
       "4  350  /ZCRNA;0104;370/IXEBU;0121;370/MIDRI;0131...  "
      ]
     },
     "execution_count": 6,
     "metadata": {},
     "output_type": "execute_result"
    }
   ],
   "source": [
    "import os\n",
    "\n",
    "# List of file paths matching a specific pattern\n",
    "file_paths = glob.glob('/kaggle/input/asecnasj2223/*.csv')\n",
    "\n",
    "# Empty list to store the DataFrames\n",
    "dfs = []\n",
    "\n",
    "# Iterate over each file path\n",
    "for file_path in file_paths:\n",
    "    # Extract the file name without the extension\n",
    "    file_name = os.path.splitext(os.path.basename(file_path))[0]\n",
    "    \n",
    "    # Read the CSV file into a DataFrame\n",
    "    data = pd.read_csv(file_path, header=None)\n",
    "    df = pd.DataFrame({'Data': data[0]})\n",
    "    df[['Line Number', 'Immatriculation', 'Avion Type', 'Turbulence Type', 'Departure Emplacement (ICAO code)',\n",
    "        'Destination Emplacement (ICAO code)', 'Flight Rule', 'Radioborn Maker - Avion Capacity (COMNAV)',\n",
    "        'Radioborn Maker - Avion Capacity (Surveillance)', 'Flight Number Landing (INT)',\n",
    "        'Regional or International Flight', 'Date', 'Entry Point', 'Hour of Entry', 'Flight Level',\n",
    "        'Exit Point', 'Hour of Exit', 'Progression of the Flight']] = df['Data'].str.split('\\s+', expand=True, n=17)\n",
    "    \n",
    "    # Assign the file name as the value in the 'Date' column\n",
    "    df['Date'] = file_name\n",
    "    \n",
    "    df = df.drop('Data', axis=1)\n",
    "    \n",
    "    # Append the DataFrame to the list\n",
    "    dfs.append(df)\n",
    "\n",
    "# Concatenate the list of DataFrames into a single DataFrame\n",
    "combined_df = pd.concat(dfs)\n",
    "\n",
    "# Reset the index of the combined DataFrame\n",
    "combined_df = combined_df.reset_index(drop=True)\n",
    "\n",
    "combined_df.head()\n"
   ]
  },
  {
   "cell_type": "code",
   "execution_count": 7,
   "id": "2e337526",
   "metadata": {
    "execution": {
     "iopub.execute_input": "2023-07-13T18:58:03.777624Z",
     "iopub.status.busy": "2023-07-13T18:58:03.777326Z",
     "iopub.status.idle": "2023-07-13T18:58:05.149785Z",
     "shell.execute_reply": "2023-07-13T18:58:05.148753Z"
    },
    "papermill": {
     "duration": 1.383416,
     "end_time": "2023-07-13T18:58:05.152602",
     "exception": false,
     "start_time": "2023-07-13T18:58:03.769186",
     "status": "completed"
    },
    "tags": []
   },
   "outputs": [],
   "source": [
    "# Export the combined DataFrame to a CSV file\n",
    "combined_df.to_csv('combined_data.csv', index=False)"
   ]
  },
  {
   "cell_type": "markdown",
   "id": "194188b8",
   "metadata": {
    "papermill": {
     "duration": 0.009015,
     "end_time": "2023-07-13T18:58:05.172368",
     "exception": false,
     "start_time": "2023-07-13T18:58:05.163353",
     "status": "completed"
    },
    "tags": []
   },
   "source": [
    "# **III. Time-Based: Congestion Analysis**\n",
    "\n",
    "With our data prepared for analysis, the primary objective for this week is to ascertain peak congestion periods by examining the monthly, daily, and hourly flight volumes. By identifying these periods, we can gain valuable insights into the patterns of congestion and develop strategies to mitigate its impact.\n"
   ]
  },
  {
   "cell_type": "markdown",
   "id": "1e68d762",
   "metadata": {
    "papermill": {
     "duration": 0.00888,
     "end_time": "2023-07-13T18:58:05.190577",
     "exception": false,
     "start_time": "2023-07-13T18:58:05.181697",
     "status": "completed"
    },
    "tags": []
   },
   "source": [
    "**1)Peak month**:"
   ]
  },
  {
   "cell_type": "code",
   "execution_count": 8,
   "id": "f83f6df9",
   "metadata": {
    "execution": {
     "iopub.execute_input": "2023-07-13T18:58:05.207631Z",
     "iopub.status.busy": "2023-07-13T18:58:05.206597Z",
     "iopub.status.idle": "2023-07-13T18:58:05.777011Z",
     "shell.execute_reply": "2023-07-13T18:58:05.775917Z"
    },
    "papermill": {
     "duration": 0.580427,
     "end_time": "2023-07-13T18:58:05.779106",
     "exception": false,
     "start_time": "2023-07-13T18:58:05.198679",
     "status": "completed"
    },
    "tags": []
   },
   "outputs": [
    {
     "data": {
      "image/png": "[encoded data removed]",
      "text/plain": [
       "<Figure size 800x500 with 1 Axes>"
      ]
     },
     "metadata": {},
     "output_type": "display_data"
    },
    {
     "name": "stdout",
     "output_type": "stream",
     "text": [
      "Month with the most flights: Apr\n"
     ]
    }
   ],
   "source": [
    "import pandas as pd\n",
    "# Convert 'Date' column to datetime format\n",
    "combined_df['Date'] = pd.to_datetime(combined_df['Date'], format='%Y%m%d')\n",
    "\n",
    "# Extract the month from the 'Date' column and convert to month names\n",
    "combined_df['Month'] = combined_df['Date'].dt.month.apply(lambda x: calendar.month_abbr[x])\n",
    "\n",
    "# Count the number of flights per month\n",
    "flight_counts = combined_df['Month'].value_counts()\n",
    "\n",
    "# Determine the month with the most flights\n",
    "most_flights_month = flight_counts.idxmax()\n",
    "\n",
    "# Visualization\n",
    "plt.figure(figsize=(8, 5))\n",
    "flight_counts.plot(kind='bar', color='skyblue')\n",
    "plt.xlabel('Month')\n",
    "plt.ylabel('Number of Flights')\n",
    "plt.title('Number of Flights per Month')\n",
    "plt.xticks(rotation=0)\n",
    "plt.tight_layout()\n",
    "plt.show()\n",
    "\n",
    "print(\"Month with the most flights:\", most_flights_month)\n"
   ]
  },
  {
   "cell_type": "code",
   "execution_count": 9,
   "id": "65d23cf6",
   "metadata": {
    "execution": {
     "iopub.execute_input": "2023-07-13T18:58:05.797266Z",
     "iopub.status.busy": "2023-07-13T18:58:05.796431Z",
     "iopub.status.idle": "2023-07-13T18:58:05.804151Z",
     "shell.execute_reply": "2023-07-13T18:58:05.803372Z"
    },
    "papermill": {
     "duration": 0.018865,
     "end_time": "2023-07-13T18:58:05.806103",
     "exception": false,
     "start_time": "2023-07-13T18:58:05.787238",
     "status": "completed"
    },
    "tags": []
   },
   "outputs": [
    {
     "data": {
      "text/plain": [
       "Index(['Line Number', 'Immatriculation', 'Avion Type', 'Turbulence Type',\n",
       "       'Departure Emplacement (ICAO code)',\n",
       "       'Destination Emplacement (ICAO code)', 'Flight Rule',\n",
       "       'Radioborn Maker - Avion Capacity (COMNAV)',\n",
       "       'Radioborn Maker - Avion Capacity (Surveillance)',\n",
       "       'Flight Number Landing (INT)', 'Regional or International Flight',\n",
       "       'Date', 'Entry Point', 'Hour of Entry', 'Flight Level', 'Exit Point',\n",
       "       'Hour of Exit', 'Progression of the Flight', 'Month'],\n",
       "      dtype='object')"
      ]
     },
     "execution_count": 9,
     "metadata": {},
     "output_type": "execute_result"
    }
   ],
   "source": [
    "combined_df.columns\n"
   ]
  },
  {
   "cell_type": "markdown",
   "id": "88777c54",
   "metadata": {
    "papermill": {
     "duration": 0.006759,
     "end_time": "2023-07-13T18:58:05.820168",
     "exception": false,
     "start_time": "2023-07-13T18:58:05.813409",
     "status": "completed"
    },
    "tags": []
   },
   "source": [
    "Well, we can notice that April is the time where there are a lot of flight data"
   ]
  },
  {
   "cell_type": "markdown",
   "id": "7f1d498c",
   "metadata": {
    "papermill": {
     "duration": 0.00708,
     "end_time": "2023-07-13T18:58:05.834307",
     "exception": false,
     "start_time": "2023-07-13T18:58:05.827227",
     "status": "completed"
    },
    "tags": []
   },
   "source": [
    "**2)Peak day of the week:**\n"
   ]
  },
  {
   "cell_type": "code",
   "execution_count": 10,
   "id": "62d15160",
   "metadata": {
    "execution": {
     "iopub.execute_input": "2023-07-13T18:58:05.849837Z",
     "iopub.status.busy": "2023-07-13T18:58:05.849516Z",
     "iopub.status.idle": "2023-07-13T18:58:06.235237Z",
     "shell.execute_reply": "2023-07-13T18:58:06.234364Z"
    },
    "papermill": {
     "duration": 0.396719,
     "end_time": "2023-07-13T18:58:06.238177",
     "exception": false,
     "start_time": "2023-07-13T18:58:05.841458",
     "status": "completed"
    },
    "tags": []
   },
   "outputs": [
    {
     "data": {
      "image/png": "[encoded data removed]",
      "text/plain": [
       "<Figure size 800x500 with 1 Axes>"
      ]
     },
     "metadata": {},
     "output_type": "display_data"
    },
    {
     "name": "stdout",
     "output_type": "stream",
     "text": [
      "Most congested day of the week: Wednesday\n"
     ]
    }
   ],
   "source": [
    "import pandas as pd\n",
    "import matplotlib.pyplot as plt\n",
    "\n",
    "\n",
    "# Convert 'Date' column to datetime format\n",
    "combined_df['Date'] = pd.to_datetime(combined_df['Date'], format='%Y%m%d')\n",
    "\n",
    "# Extract the day of the week from the 'Date' column\n",
    "combined_df['DayOfWeek'] = combined_df['Date'].dt.day_name()\n",
    "\n",
    "# Count the number of flights for each day of the week\n",
    "daily_congestion = combined_df['DayOfWeek'].value_counts()\n",
    "\n",
    "# Determine the most congested day\n",
    "most_congested_day = daily_congestion.idxmax()\n",
    "\n",
    "# Visualization\n",
    "plt.figure(figsize=(8, 5))\n",
    "daily_congestion.plot(kind='bar', color='lightgreen')\n",
    "plt.xlabel('Day of the Week')\n",
    "plt.ylabel('Number of Flights')\n",
    "plt.title('Congestion by Day of the Week')\n",
    "plt.xticks(rotation=0)\n",
    "plt.tight_layout()\n",
    "plt.show()\n",
    "\n",
    "print(\"Most congested day of the week:\", most_congested_day)\n"
   ]
  },
  {
   "cell_type": "code",
   "execution_count": 11,
   "id": "f18c4394",
   "metadata": {
    "execution": {
     "iopub.execute_input": "2023-07-13T18:58:06.255046Z",
     "iopub.status.busy": "2023-07-13T18:58:06.254728Z",
     "iopub.status.idle": "2023-07-13T18:58:06.790647Z",
     "shell.execute_reply": "2023-07-13T18:58:06.789642Z"
    },
    "papermill": {
     "duration": 0.547144,
     "end_time": "2023-07-13T18:58:06.793220",
     "exception": false,
     "start_time": "2023-07-13T18:58:06.246076",
     "status": "completed"
    },
    "tags": []
   },
   "outputs": [
    {
     "data": {
      "image/png": "[encoded data removed]",
      "text/plain": [
       "<Figure size 1000x600 with 1 Axes>"
      ]
     },
     "metadata": {},
     "output_type": "display_data"
    },
    {
     "name": "stdout",
     "output_type": "stream",
     "text": [
      "Hour with the highest congestion: 9.0\n"
     ]
    }
   ],
   "source": [
    "\n",
    "# Convert 'Hour of Entry' and 'Hour of Exit' columns to datetime format\n",
    "combined_df['Hour of Entry'] = pd.to_datetime(combined_df['Hour of Entry'], format='%H%M', errors='coerce')\n",
    "combined_df['Hour of Exit'] = pd.to_datetime(combined_df['Hour of Exit'], format='%H%M', errors='coerce')\n",
    "\n",
    "# Number of flights for each hour of entry\n",
    "hourly_flight_counts_entry = combined_df['Hour of Entry'].dt.hour.value_counts().sort_index()\n",
    "\n",
    "# Number of flights for each hour of exit\n",
    "hourly_flight_counts_exit = combined_df['Hour of Exit'].dt.hour.value_counts().sort_index()\n",
    "\n",
    "# Merge the entry and exit flight counts\n",
    "hourly_flight_counts = pd.concat([hourly_flight_counts_entry, hourly_flight_counts_exit], axis=1, keys=['Entry', 'Exit'])\n",
    "hourly_flight_counts = hourly_flight_counts.fillna(0)\n",
    "\n",
    "# Total flights for each hour\n",
    "hourly_flight_counts['Total'] = hourly_flight_counts['Entry'] + hourly_flight_counts['Exit']\n",
    "\n",
    "peak_hour = hourly_flight_counts['Total'].idxmax()\n",
    "\n",
    "# Visualization\n",
    "plt.figure(figsize=(10, 6))\n",
    "hourly_flight_counts['Total'].plot(kind='bar', color='orange')\n",
    "plt.xlabel('Hour')\n",
    "plt.ylabel('Number of Flights')\n",
    "plt.title('Congestion by Hour')\n",
    "plt.xticks(rotation=0)\n",
    "plt.tight_layout()\n",
    "plt.show()\n",
    "\n",
    "print(\"Hour with the highest congestion:\", peak_hour)\n"
   ]
  },
  {
   "cell_type": "markdown",
   "id": "523c842f",
   "metadata": {
    "papermill": {
     "duration": 0.008104,
     "end_time": "2023-07-13T18:58:06.810150",
     "exception": false,
     "start_time": "2023-07-13T18:58:06.802046",
     "status": "completed"
    },
    "tags": []
   },
   "source": [
    "Peak Month: April, Peak Day: Wednesday, Peak Hour: 9\n",
    "\n",
    "**Summary:**\n",
    "\n",
    "From this analysis, I have determined the peak congestion periods for air travel from September 2022 to June 2023. Through careful examination, I found that the month of April experiences the highest volume of flights, while Wednesdays prove to be the most congested days. Additionally, peak congestion within a given day occurs at 9 o'clock. In the following I will analyze space."
   ]
  },
  {
   "cell_type": "markdown",
   "id": "c682f9d2",
   "metadata": {
    "papermill": {
     "duration": 0.007979,
     "end_time": "2023-07-13T18:58:06.826224",
     "exception": false,
     "start_time": "2023-07-13T18:58:06.818245",
     "status": "completed"
    },
    "tags": []
   },
   "source": [
    "**IV- AIRSPACE OPTIMIZATION:**\n",
    "Learning Networkit to being able to trace every possible directory for a flight, then now the best path for this flight\n"
   ]
  },
  {
   "cell_type": "markdown",
   "id": "1025865c",
   "metadata": {
    "papermill": {
     "duration": 0.008357,
     "end_time": "2023-07-13T18:58:06.842881",
     "exception": false,
     "start_time": "2023-07-13T18:58:06.834524",
     "status": "completed"
    },
    "tags": []
   },
   "source": [
    "This is to start with one node"
   ]
  },
  {
   "cell_type": "code",
   "execution_count": 12,
   "id": "29d7edc3",
   "metadata": {
    "execution": {
     "iopub.execute_input": "2023-07-13T18:58:06.861226Z",
     "iopub.status.busy": "2023-07-13T18:58:06.860910Z",
     "iopub.status.idle": "2023-07-13T18:58:07.722680Z",
     "shell.execute_reply": "2023-07-13T18:58:07.721746Z"
    },
    "papermill": {
     "duration": 0.873828,
     "end_time": "2023-07-13T18:58:07.725344",
     "exception": false,
     "start_time": "2023-07-13T18:58:06.851516",
     "status": "completed"
    },
    "tags": []
   },
   "outputs": [
    {
     "data": {
      "image/png": "[encoded data removed]",
      "text/plain": [
       "<Figure size 640x480 with 1 Axes>"
      ]
     },
     "metadata": {},
     "output_type": "display_data"
    },
    {
     "name": "stdout",
     "output_type": "stream",
     "text": [
      "['U400', 'ANTANANARIVO / IVATO VOR-DME ( TNV )', 'U401']\n",
      "['U400', 'MORAMANGA NDB ( TE )', 'U401']\n"
     ]
    }
   ],
   "source": [
    "import networkx as nx\n",
    "import matplotlib.pyplot as plt\n",
    "\n",
    "G = nx.Graph()\n",
    "\n",
    "routes = [\"U400\", \"U401\"]\n",
    "G.add_nodes_from(routes)\n",
    "\n",
    "edges = [\n",
    "    (\"U400\", \"GADNO\", {\"weight\": 17}),\n",
    "    (\"U400\", \"TIDAL\", {\"weight\": 8}),\n",
    "    (\"U400\", \"DOBAR\", {\"weight\": 10}),\n",
    "    (\"U400\", \"ANTANANARIVO / IVATO VOR-DME ( TNV )\", {\"weight\": 12}),\n",
    "    (\"U400\", \"MORAMANGA NDB ( TE )\", {\"weight\": 9}),\n",
    "    (\"U400\", \"IXENI\", {\"weight\": 13}),\n",
    "    (\"U401\", \"KINAN\", {\"weight\": 5}),\n",
    "    (\"U401\", \"GALBA\", {\"weight\": 7}),\n",
    "    (\"U401\", \"MAHAJANGA VOR-DME ( MG )\", {\"weight\": 9}),\n",
    "    (\"U401\", \"UVGAD\", {\"weight\": 8}),\n",
    "    (\"U401\", \"DIRBA\", {\"weight\": 6}),\n",
    "    (\"U401\", \"ANKAZOBE NDB ( TN )\", {\"weight\": 7}),\n",
    "    (\"U401\", \"ANTANANARIVO / IVATO VOR-DME ( TNV )\", {\"weight\": 12}),\n",
    "    (\"U401\", \"MORAMANGA NDB ( TE )\", {\"weight\": 9}),\n",
    "    (\"U401\", \"TIGUR\", {\"weight\": 8}),\n",
    "    (\"U401\", \"UNKIK\", {\"weight\": 10})\n",
    "]\n",
    "G.add_edges_from(edges)\n",
    "\n",
    "pos = nx.spring_layout(G)\n",
    "nx.draw(G, pos, with_labels=True, node_size=500, node_color=\"lightblue\", font_size=8, font_weight=\"bold\", edge_color=\"gray\")\n",
    "edge_labels = nx.get_edge_attributes(G, \"weight\")\n",
    "nx.draw_networkx_edge_labels(G, pos, edge_labels=edge_labels, font_size=6)\n",
    "plt.show()\n",
    "\n",
    "all_paths = nx.all_simple_paths(G, source=\"U400\", target=\"U401\")\n",
    "for path in all_paths:\n",
    "    print(path)\n"
   ]
  },
  {
   "cell_type": "markdown",
   "id": "bbf2d07e",
   "metadata": {
    "papermill": {
     "duration": 0.008842,
     "end_time": "2023-07-13T18:58:07.743402",
     "exception": false,
     "start_time": "2023-07-13T18:58:07.734560",
     "status": "completed"
    },
    "tags": []
   },
   "source": [
    "This is one of the attempts but it did not work.. yet :))"
   ]
  },
  {
   "cell_type": "code",
   "execution_count": null,
   "id": "f16ea08b",
   "metadata": {
    "papermill": {
     "duration": 0.008601,
     "end_time": "2023-07-13T18:58:07.760837",
     "exception": false,
     "start_time": "2023-07-13T18:58:07.752236",
     "status": "completed"
    },
    "tags": []
   },
   "outputs": [],
   "source": []
  }
 ],
 "metadata": {
  "kernelspec": {
   "display_name": "Python 3",
   "language": "python",
   "name": "python3"
  },
  "language_info": {
   "codemirror_mode": {
    "name": "ipython",
    "version": 3
   },
   "file_extension": ".py",
   "mimetype": "text/x-python",
   "name": "python",
   "nbconvert_exporter": "python",
   "pygments_lexer": "ipython3",
   "version": "3.10.10"
  },
  "papermill": {
   "default_parameters": {},
   "duration": 21.340636,
   "end_time": "2023-07-13T18:58:08.488835",
   "environment_variables": {},
   "exception": null,
   "input_path": "__notebook__.ipynb",
   "output_path": "__notebook__.ipynb",
   "parameters": {},
   "start_time": "2023-07-13T18:57:47.148199",
   "version": "2.4.0"
  }
 },
 "nbformat": 4,
 "nbformat_minor": 5
}
