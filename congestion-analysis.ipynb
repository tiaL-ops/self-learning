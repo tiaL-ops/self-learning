{
 "cells": [
  {
   "cell_type": "markdown",
   "id": "cf6d7a62",
   "metadata": {
    "papermill": {
     "duration": 0.00746,
     "end_time": "2023-07-18T10:18:20.936216",
     "exception": false,
     "start_time": "2023-07-18T10:18:20.928756",
     "status": "completed"
    },
    "tags": []
   },
   "source": [
    "# **Summary of the project**\n",
    "\n",
    "The project aims to analyze data to determine the locations in Madagascar airspace that experience the highest congestion. It will also identify the times within a 24-hour period that are more prone to congestion and investigate potential causes by examining the correlation between turbulence and flight rules."
   ]
  },
  {
   "cell_type": "markdown",
   "id": "35f05e44",
   "metadata": {
    "papermill": {
     "duration": 0.006196,
     "end_time": "2023-07-18T10:18:20.949232",
     "exception": false,
     "start_time": "2023-07-18T10:18:20.943036",
     "status": "completed"
    },
    "tags": []
   },
   "source": [
    "# **II-Data:** \n",
    "The data we have collected are data from September 2022 to June 2023 which  contains the following column: \n",
    "1. Line Number: Identification number for the flight record.\n",
    "2. Immatriculation: Aircraft registration number.\n",
    "3. Avion Type: Type of aircraft used for the flight.\n",
    "4. Turbulence Type (1, 2, 3, 4): Categorization of turbulence intensity.\n",
    "5. Departure Emplacement (ICAO code): ICAO code representing the departure location.\n",
    "6. Destination Emplacement (ICAO code): ICAO code representing the destination location.\n",
    "7. Flight Rule: Flight rules followed, categorized as VFR-VMC (Visual Flight Rules - Visual Meteorological Conditions) or IFR-IMC (Instrument Flight Rules - Instrument Meteorological Conditions).\n",
    "8. Radioborn Maker - Avion Capacity (COMNAV): Manufacturer of the radio equipment installed in the aircraft for communication and navigation purposes.\n",
    "9. Radioborn Maker - Avion Capacity (Surveillance): Manufacturer of the radio equipment installed in the aircraft for surveillance purposes.\n",
    "10. Flight Number Landing (INT): Flight number for the landing.\n",
    "11. Regional or International Flight: Indicates whether the flight is regional or international.\n",
    "12. Date: Date of the flight.\n",
    "13. Entry Point: Point of entry into a specific airspace or region.\n"
   ]
  },
  {
   "cell_type": "code",
   "execution_count": 1,
   "id": "98d79024",
   "metadata": {
    "execution": {
     "iopub.execute_input": "2023-07-18T10:18:20.964246Z",
     "iopub.status.busy": "2023-07-18T10:18:20.963763Z",
     "iopub.status.idle": "2023-07-18T10:18:21.676185Z",
     "shell.execute_reply": "2023-07-18T10:18:21.675136Z"
    },
    "papermill": {
     "duration": 0.723251,
     "end_time": "2023-07-18T10:18:21.678835",
     "exception": false,
     "start_time": "2023-07-18T10:18:20.955584",
     "status": "completed"
    },
    "tags": []
   },
   "outputs": [],
   "source": [
    "#libraries that I used throhought the Analysis\n",
    "import numpy as np\n",
    "import pandas as pd\n",
    "import glob\n",
    "import os\n",
    "import matplotlib.pyplot as plt\n",
    "import calendar\n",
    "import networkx as nx\n",
    "import re\n",
    "import math\n"
   ]
  },
  {
   "cell_type": "code",
   "execution_count": 2,
   "id": "f6b67cc3",
   "metadata": {
    "execution": {
     "iopub.execute_input": "2023-07-18T10:18:21.693770Z",
     "iopub.status.busy": "2023-07-18T10:18:21.693380Z",
     "iopub.status.idle": "2023-07-18T10:18:21.732598Z",
     "shell.execute_reply": "2023-07-18T10:18:21.730286Z"
    },
    "papermill": {
     "duration": 0.05005,
     "end_time": "2023-07-18T10:18:21.735546",
     "exception": false,
     "start_time": "2023-07-18T10:18:21.685496",
     "status": "completed"
    },
    "tags": []
   },
   "outputs": [
    {
     "name": "stdout",
     "output_type": "stream",
     "text": [
      "/kaggle/input/testasec/test1.csv\n",
      "/kaggle/input/asecnasj2223/20221210.csv\n",
      "/kaggle/input/asecnasj2223/20221219.csv\n",
      "/kaggle/input/asecnasj2223/20230122.csv\n",
      "/kaggle/input/asecnasj2223/20230223.csv\n",
      "/kaggle/input/asecnasj2223/20230429.csv\n",
      "/kaggle/input/asecnasj2223/20230419.csv\n",
      "/kaggle/input/asecnasj2223/20221212.csv\n",
      "/kaggle/input/asecnasj2223/20230211.csv\n",
      "/kaggle/input/asecnasj2223/20221022.csv\n",
      "/kaggle/input/asecnasj2223/20230212.csv\n",
      "/kaggle/input/asecnasj2223/20221016.csv\n",
      "/kaggle/input/asecnasj2223/20230409.csv\n",
      "/kaggle/input/asecnasj2223/20221203.csv\n",
      "/kaggle/input/asecnasj2223/20230406.csv\n",
      "/kaggle/input/asecnasj2223/20230307.csv\n",
      "/kaggle/input/asecnasj2223/20230116.csv\n",
      "/kaggle/input/asecnasj2223/20230417.csv\n",
      "/kaggle/input/asecnasj2223/20230110.csv\n",
      "/kaggle/input/asecnasj2223/20230306.csv\n",
      "/kaggle/input/asecnasj2223/20221021.csv\n",
      "/kaggle/input/asecnasj2223/20221012.csv\n",
      "/kaggle/input/asecnasj2223/20221119.csv\n",
      "/kaggle/input/asecnasj2223/20230117.csv\n",
      "/kaggle/input/asecnasj2223/20230115.csv\n",
      "/kaggle/input/asecnasj2223/20230104.csv\n",
      "/kaggle/input/asecnasj2223/20230131.csv\n",
      "/kaggle/input/asecnasj2223/20230210.csv\n",
      "/kaggle/input/asecnasj2223/20230313.csv\n",
      "/kaggle/input/asecnasj2223/20230227.csv\n",
      "/kaggle/input/asecnasj2223/20230220.csv\n",
      "/kaggle/input/asecnasj2223/20230112.csv\n",
      "/kaggle/input/asecnasj2223/20230224.csv\n",
      "/kaggle/input/asecnasj2223/20221120.csv\n",
      "/kaggle/input/asecnasj2223/20230330.csv\n",
      "/kaggle/input/asecnasj2223/20230205.csv\n",
      "/kaggle/input/asecnasj2223/20221202.csv\n",
      "/kaggle/input/asecnasj2223/20221216.csv\n",
      "/kaggle/input/asecnasj2223/20221215.csv\n",
      "/kaggle/input/asecnasj2223/20221020.csv\n",
      "/kaggle/input/asecnasj2223/20230310.csv\n",
      "/kaggle/input/asecnasj2223/20230106.csv\n",
      "/kaggle/input/asecnasj2223/20221127.csv\n",
      "/kaggle/input/asecnasj2223/20230103.csv\n",
      "/kaggle/input/asecnasj2223/20230329.csv\n",
      "/kaggle/input/asecnasj2223/20221010.csv\n",
      "/kaggle/input/asecnasj2223/20230108.csv\n",
      "/kaggle/input/asecnasj2223/20230129.csv\n",
      "/kaggle/input/asecnasj2223/20221217.csv\n",
      "/kaggle/input/asecnasj2223/20230402.csv\n",
      "/kaggle/input/asecnasj2223/20230416.csv\n",
      "/kaggle/input/asecnasj2223/20230405.csv\n",
      "/kaggle/input/asecnasj2223/20220928.csv\n",
      "/kaggle/input/asecnasj2223/20230408.csv\n",
      "/kaggle/input/asecnasj2223/20230323.csv\n",
      "/kaggle/input/asecnasj2223/20221230.csv\n",
      "/kaggle/input/asecnasj2223/20221129.csv\n",
      "/kaggle/input/asecnasj2223/20230216.csv\n",
      "/kaggle/input/asecnasj2223/20230316.csv\n",
      "/kaggle/input/asecnasj2223/20230127.csv\n",
      "/kaggle/input/asecnasj2223/20230207.csv\n",
      "/kaggle/input/asecnasj2223/20230502.csv\n",
      "/kaggle/input/asecnasj2223/20221014.csv\n",
      "/kaggle/input/asecnasj2223/20230421.csv\n",
      "/kaggle/input/asecnasj2223/20230206.csv\n",
      "/kaggle/input/asecnasj2223/20230124.csv\n",
      "/kaggle/input/asecnasj2223/20230403.csv\n",
      "/kaggle/input/asecnasj2223/20230315.csv\n",
      "/kaggle/input/asecnasj2223/20230411.csv\n",
      "/kaggle/input/asecnasj2223/20230331.csv\n",
      "/kaggle/input/asecnasj2223/20230320.csv\n",
      "/kaggle/input/asecnasj2223/20230430.csv\n",
      "/kaggle/input/asecnasj2223/20230418.csv\n",
      "/kaggle/input/asecnasj2223/20230414.csv\n",
      "/kaggle/input/asecnasj2223/20221019.csv\n",
      "/kaggle/input/asecnasj2223/20230407.csv\n",
      "/kaggle/input/asecnasj2223/20221124.csv\n",
      "/kaggle/input/asecnasj2223/20230420.csv\n",
      "/kaggle/input/asecnasj2223/20230102.csv\n",
      "/kaggle/input/asecnasj2223/20230428.csv\n",
      "/kaggle/input/asecnasj2223/20230328.csv\n",
      "/kaggle/input/asecnasj2223/20230503.csv\n",
      "/kaggle/input/asecnasj2223/20230318.csv\n",
      "/kaggle/input/asecnasj2223/20230324.csv\n",
      "/kaggle/input/asecnasj2223/20230226.csv\n",
      "/kaggle/input/asecnasj2223/20230327.csv\n",
      "/kaggle/input/asecnasj2223/20230404.csv\n",
      "/kaggle/input/asecnasj2223/20221213.csv\n",
      "/kaggle/input/asecnasj2223/20230204.csv\n",
      "/kaggle/input/asecnasj2223/20230401.csv\n",
      "/kaggle/input/asecnasj2223/20230118.csv\n",
      "/kaggle/input/asecnasj2223/20221007.csv\n",
      "/kaggle/input/asecnasj2223/20230228.csv\n",
      "/kaggle/input/asecnasj2223/20230427.csv\n",
      "/kaggle/input/asecnasj2223/20230505.csv\n",
      "/kaggle/input/asecnasj2223/20230305.csv\n",
      "/kaggle/input/asecnasj2223/20230203.csv\n",
      "/kaggle/input/asecnasj2223/20230209.csv\n",
      "/kaggle/input/asecnasj2223/20230309.csv\n",
      "/kaggle/input/asecnasj2223/20230424.csv\n",
      "/kaggle/input/asecnasj2223/20230217.csv\n",
      "/kaggle/input/asecnasj2223/20230219.csv\n",
      "/kaggle/input/asecnasj2223/20230208.csv\n",
      "/kaggle/input/asecnasj2223/20230326.csv\n",
      "/kaggle/input/asecnasj2223/20230322.csv\n",
      "/kaggle/input/asecnasj2223/20230201.csv\n",
      "/kaggle/input/asecnasj2223/20221231.csv\n",
      "/kaggle/input/asecnasj2223/20230325.csv\n",
      "/kaggle/input/asecnasj2223/20230312.csv\n",
      "/kaggle/input/asecnasj2223/20221002.csv\n",
      "/kaggle/input/asecnasj2223/20221013.csv\n",
      "/kaggle/input/asecnasj2223/20221001.csv\n",
      "/kaggle/input/asecnasj2223/20220927.csv\n",
      "/kaggle/input/asecnasj2223/20230423.csv\n",
      "/kaggle/input/asecnasj2223/20230218.csv\n",
      "/kaggle/input/asecnasj2223/20230308.csv\n",
      "/kaggle/input/asecnasj2223/20230412.csv\n",
      "/kaggle/input/asecnasj2223/20230303.csv\n",
      "/kaggle/input/asecnasj2223/20221207.csv\n",
      "/kaggle/input/asecnasj2223/20230125.csv\n",
      "/kaggle/input/asecnasj2223/20230101.csv\n",
      "/kaggle/input/asecnasj2223/20221004.csv\n",
      "/kaggle/input/asecnasj2223/20230302.csv\n",
      "/kaggle/input/asecnasj2223/20230221.csv\n",
      "/kaggle/input/asecnasj2223/20230109.csv\n",
      "/kaggle/input/asecnasj2223/20221209.csv\n",
      "/kaggle/input/asecnasj2223/20221201.csv\n",
      "/kaggle/input/asecnasj2223/20221011.csv\n",
      "/kaggle/input/asecnasj2223/20230301.csv\n",
      "/kaggle/input/asecnasj2223/20230425.csv\n",
      "/kaggle/input/asecnasj2223/20221123.csv\n",
      "/kaggle/input/asecnasj2223/20221005.csv\n",
      "/kaggle/input/asecnasj2223/20230126.csv\n",
      "/kaggle/input/asecnasj2223/20230504.csv\n",
      "/kaggle/input/asecnasj2223/20221206.csv\n",
      "/kaggle/input/asecnasj2223/20221017.csv\n",
      "/kaggle/input/asecnasj2223/20230128.csv\n",
      "/kaggle/input/asecnasj2223/20220930.csv\n",
      "/kaggle/input/asecnasj2223/20221229.csv\n",
      "/kaggle/input/asecnasj2223/20221118.csv\n",
      "/kaggle/input/asecnasj2223/20221023.csv\n",
      "/kaggle/input/asecnasj2223/20221113.csv\n",
      "/kaggle/input/asecnasj2223/20230410.csv\n",
      "/kaggle/input/asecnasj2223/20230413.csv\n",
      "/kaggle/input/asecnasj2223/20221018.csv\n",
      "/kaggle/input/asecnasj2223/20221228.csv\n",
      "/kaggle/input/asecnasj2223/20230120.csv\n",
      "/kaggle/input/asecnasj2223/20221115.csv\n",
      "/kaggle/input/asecnasj2223/20230501.csv\n",
      "/kaggle/input/asecnasj2223/20230105.csv\n",
      "/kaggle/input/asecnasj2223/20230319.csv\n",
      "/kaggle/input/asecnasj2223/20230317.csv\n",
      "/kaggle/input/asecnasj2223/20221116.csv\n",
      "/kaggle/input/asecnasj2223/20221025.csv\n",
      "/kaggle/input/asecnasj2223/20230225.csv\n",
      "/kaggle/input/asecnasj2223/20230422.csv\n",
      "/kaggle/input/asecnasj2223/20221015.csv\n",
      "/kaggle/input/asecnasj2223/20221114.csv\n",
      "/kaggle/input/asecnasj2223/20221218.csv\n",
      "/kaggle/input/asecnasj2223/20230123.csv\n",
      "/kaggle/input/asecnasj2223/20230114.csv\n",
      "/kaggle/input/asecnasj2223/20230213.csv\n",
      "/kaggle/input/asecnasj2223/20230304.csv\n",
      "/kaggle/input/asecnasj2223/20230113.csv\n",
      "/kaggle/input/asecnasj2223/20230215.csv\n",
      "/kaggle/input/asecnasj2223/20221125.csv\n",
      "/kaggle/input/asecnasj2223/20230321.csv\n",
      "/kaggle/input/asecnasj2223/20230311.csv\n",
      "/kaggle/input/asecnasj2223/20230314.csv\n",
      "/kaggle/input/asecnasj2223/20221130.csv\n",
      "/kaggle/input/asecnasj2223/20230222.csv\n",
      "/kaggle/input/asecnasj2223/20221208.csv\n",
      "/kaggle/input/asecnasj2223/20221024.csv\n",
      "/kaggle/input/asecnasj2223/20221006.csv\n",
      "/kaggle/input/asecnasj2223/20230426.csv\n",
      "/kaggle/input/asecnasj2223/20221003.csv\n",
      "/kaggle/input/asecnasj2223/20221204.csv\n",
      "/kaggle/input/asecnasj2223/20221211.csv\n",
      "/kaggle/input/asecnasj2223/20221126.csv\n",
      "/kaggle/input/asecnasj2223/20230130.csv\n",
      "/kaggle/input/asecnasj2223/20220929.csv\n",
      "/kaggle/input/asecnasj2223/20221205.csv\n",
      "/kaggle/input/asecnasj2223/20221121.csv\n",
      "/kaggle/input/asecnasj2223/20221117.csv\n",
      "/kaggle/input/asecnasj2223/20230214.csv\n",
      "/kaggle/input/asecnasj2223/20221128.csv\n",
      "/kaggle/input/asecnasj2223/20230121.csv\n",
      "/kaggle/input/asecnasj2223/20221008.csv\n",
      "/kaggle/input/asecnasj2223/20221122.csv\n",
      "/kaggle/input/asecnasj2223/20221214.csv\n",
      "/kaggle/input/asecnasj2223/20230119.csv\n",
      "/kaggle/input/asecnasj2223/20230107.csv\n",
      "/kaggle/input/asecnasj2223/20230111.csv\n",
      "/kaggle/input/asecnasj2223/20230202.csv\n",
      "/kaggle/input/asecnasj2223/20230415.csv\n",
      "/kaggle/input/asecna-preprocessed-dataset/Flight_information.csv\n",
      "/kaggle/input/asecna-preprocessed-dataset/Flight_Graph_Traffic_History.csv\n",
      "/kaggle/input/asecna-preprocessed-dataset/Flight_Position_History.csv\n",
      "/kaggle/input/asecna-preprocessed-dataset/Nodes_Features.csv\n",
      "/kaggle/input/atstest2/atstest.csv\n"
     ]
    }
   ],
   "source": [
    "# This Python 3 environment comes with many helpful analytics libraries installed\n",
    "# It is defined by the kaggle/python Docker image: https://github.com/kaggle/docker-python\n",
    "# For example, here's several helpful packages to load\n",
    "\n",
    "import numpy as np # linear algebra\n",
    "import pandas as pd # data processing, CSV file I/O (e.g. pd.read_csv)\n",
    "\n",
    "# Input data files are available in the read-only \"../input/\" directory\n",
    "# For example, running this (by clicking run or pressing Shift+Enter) will list all files under the input directory\n",
    "\n",
    "import os\n",
    "for dirname, _, filenames in os.walk('/kaggle/input'):\n",
    "    for filename in filenames:\n",
    "        print(os.path.join(dirname, filename))\n",
    "\n",
    "# You can write up to 20GB to the current directory (/kaggle/working/) that gets preserved as output when you create a version using \"Save & Run All\" \n",
    "# You can also write temporary files to /kaggle/temp/, but they won't be saved outside of the current session"
   ]
  },
  {
   "cell_type": "code",
   "execution_count": 3,
   "id": "9dbb053f",
   "metadata": {
    "execution": {
     "iopub.execute_input": "2023-07-18T10:18:21.751884Z",
     "iopub.status.busy": "2023-07-18T10:18:21.751453Z",
     "iopub.status.idle": "2023-07-18T10:18:22.758576Z",
     "shell.execute_reply": "2023-07-18T10:18:22.757396Z"
    },
    "papermill": {
     "duration": 1.017389,
     "end_time": "2023-07-18T10:18:22.761058",
     "exception": false,
     "start_time": "2023-07-18T10:18:21.743669",
     "status": "completed"
    },
    "tags": []
   },
   "outputs": [
    {
     "name": "stdout",
     "output_type": "stream",
     "text": [
      "20220927.csv  20221124.csv  20230110.csv  20230218.csv\t20230329.csv\r\n",
      "20220928.csv  20221125.csv  20230111.csv  20230219.csv\t20230330.csv\r\n",
      "20220929.csv  20221126.csv  20230112.csv  20230220.csv\t20230331.csv\r\n",
      "20220930.csv  20221127.csv  20230113.csv  20230221.csv\t20230401.csv\r\n",
      "20221001.csv  20221128.csv  20230114.csv  20230222.csv\t20230402.csv\r\n",
      "20221002.csv  20221129.csv  20230115.csv  20230223.csv\t20230403.csv\r\n",
      "20221003.csv  20221130.csv  20230116.csv  20230224.csv\t20230404.csv\r\n",
      "20221004.csv  20221201.csv  20230117.csv  20230225.csv\t20230405.csv\r\n",
      "20221005.csv  20221202.csv  20230118.csv  20230226.csv\t20230406.csv\r\n",
      "20221006.csv  20221203.csv  20230119.csv  20230227.csv\t20230407.csv\r\n",
      "20221007.csv  20221204.csv  20230120.csv  20230228.csv\t20230408.csv\r\n",
      "20221008.csv  20221205.csv  20230121.csv  20230301.csv\t20230409.csv\r\n",
      "20221010.csv  20221206.csv  20230122.csv  20230302.csv\t20230410.csv\r\n",
      "20221011.csv  20221207.csv  20230123.csv  20230303.csv\t20230411.csv\r\n",
      "20221012.csv  20221208.csv  20230124.csv  20230304.csv\t20230412.csv\r\n",
      "20221013.csv  20221209.csv  20230125.csv  20230305.csv\t20230413.csv\r\n",
      "20221014.csv  20221210.csv  20230126.csv  20230306.csv\t20230414.csv\r\n",
      "20221015.csv  20221211.csv  20230127.csv  20230307.csv\t20230415.csv\r\n",
      "20221016.csv  20221212.csv  20230128.csv  20230308.csv\t20230416.csv\r\n",
      "20221017.csv  20221213.csv  20230129.csv  20230309.csv\t20230417.csv\r\n",
      "20221018.csv  20221214.csv  20230130.csv  20230310.csv\t20230418.csv\r\n",
      "20221019.csv  20221215.csv  20230131.csv  20230311.csv\t20230419.csv\r\n",
      "20221020.csv  20221216.csv  20230201.csv  20230312.csv\t20230420.csv\r\n",
      "20221021.csv  20221217.csv  20230202.csv  20230313.csv\t20230421.csv\r\n",
      "20221022.csv  20221218.csv  20230203.csv  20230314.csv\t20230422.csv\r\n",
      "20221023.csv  20221219.csv  20230204.csv  20230315.csv\t20230423.csv\r\n",
      "20221024.csv  20221228.csv  20230205.csv  20230316.csv\t20230424.csv\r\n",
      "20221025.csv  20221229.csv  20230206.csv  20230317.csv\t20230425.csv\r\n",
      "20221113.csv  20221230.csv  20230207.csv  20230318.csv\t20230426.csv\r\n",
      "20221114.csv  20221231.csv  20230208.csv  20230319.csv\t20230427.csv\r\n",
      "20221115.csv  20230101.csv  20230209.csv  20230320.csv\t20230428.csv\r\n",
      "20221116.csv  20230102.csv  20230210.csv  20230321.csv\t20230429.csv\r\n",
      "20221117.csv  20230103.csv  20230211.csv  20230322.csv\t20230430.csv\r\n",
      "20221118.csv  20230104.csv  20230212.csv  20230323.csv\t20230501.csv\r\n",
      "20221119.csv  20230105.csv  20230213.csv  20230324.csv\t20230502.csv\r\n",
      "20221120.csv  20230106.csv  20230214.csv  20230325.csv\t20230503.csv\r\n",
      "20221121.csv  20230107.csv  20230215.csv  20230326.csv\t20230504.csv\r\n",
      "20221122.csv  20230108.csv  20230216.csv  20230327.csv\t20230505.csv\r\n",
      "20221123.csv  20230109.csv  20230217.csv  20230328.csv\r\n"
     ]
    }
   ],
   "source": [
    "# See how many files there are in the directory. \n",
    "# \"!\" commands are called \"magic commands\" and allow you to use bash\n",
    "file_dir = '../input/asecnasj2223'\n",
    "!ls $file_dir\n"
   ]
  },
  {
   "cell_type": "code",
   "execution_count": 4,
   "id": "35da95b1",
   "metadata": {
    "execution": {
     "iopub.execute_input": "2023-07-18T10:18:22.776774Z",
     "iopub.status.busy": "2023-07-18T10:18:22.776098Z",
     "iopub.status.idle": "2023-07-18T10:18:23.781791Z",
     "shell.execute_reply": "2023-07-18T10:18:23.780416Z"
    },
    "papermill": {
     "duration": 1.016521,
     "end_time": "2023-07-18T10:18:23.784321",
     "exception": false,
     "start_time": "2023-07-18T10:18:22.767800",
     "status": "completed"
    },
    "tags": []
   },
   "outputs": [
    {
     "name": "stdout",
     "output_type": "stream",
     "text": [
      "194\r\n"
     ]
    }
   ],
   "source": [
    "# Number of files we are dealing with\n",
    "!ls $file_dir | wc -l"
   ]
  },
  {
   "cell_type": "code",
   "execution_count": 5,
   "id": "50e6b0f8",
   "metadata": {
    "execution": {
     "iopub.execute_input": "2023-07-18T10:18:23.800447Z",
     "iopub.status.busy": "2023-07-18T10:18:23.800032Z",
     "iopub.status.idle": "2023-07-18T10:18:23.807290Z",
     "shell.execute_reply": "2023-07-18T10:18:23.806324Z"
    },
    "papermill": {
     "duration": 0.018329,
     "end_time": "2023-07-18T10:18:23.809533",
     "exception": false,
     "start_time": "2023-07-18T10:18:23.791204",
     "status": "completed"
    },
    "tags": []
   },
   "outputs": [],
   "source": [
    "files = glob.glob(os.path.join(file_dir, \"*.csv\"))"
   ]
  },
  {
   "cell_type": "markdown",
   "id": "0638cf1f",
   "metadata": {
    "papermill": {
     "duration": 0.006587,
     "end_time": "2023-07-18T10:18:23.823238",
     "exception": false,
     "start_time": "2023-07-18T10:18:23.816651",
     "status": "completed"
    },
    "tags": []
   },
   "source": [
    "All my file where displayed as one column and not 18, I use this code to make sure it work and then loop over the 196 file"
   ]
  },
  {
   "cell_type": "code",
   "execution_count": 6,
   "id": "e7d3bfc2",
   "metadata": {
    "execution": {
     "iopub.execute_input": "2023-07-18T10:18:23.839312Z",
     "iopub.status.busy": "2023-07-18T10:18:23.838292Z",
     "iopub.status.idle": "2023-07-18T10:18:23.894499Z",
     "shell.execute_reply": "2023-07-18T10:18:23.893383Z"
    },
    "papermill": {
     "duration": 0.0666,
     "end_time": "2023-07-18T10:18:23.896615",
     "exception": false,
     "start_time": "2023-07-18T10:18:23.830015",
     "status": "completed"
    },
    "tags": []
   },
   "outputs": [
    {
     "data": {
      "text/plain": [
       "(107, 18)"
      ]
     },
     "execution_count": 6,
     "metadata": {},
     "output_type": "execute_result"
    }
   ],
   "source": [
    "import pandas as pd\n",
    "\n",
    "data_file = '/kaggle/input/asecnasj2223/20220927.csv'\n",
    "\n",
    "data = pd.read_csv(data_file, header=None)\n",
    "\n",
    "df = pd.DataFrame({'Data': data[0]})\n",
    "df[['Line Number',             # Identification number for the flight record.\n",
    "              'Immatriculation',         # Aircraft registration number.\n",
    "              'Avion Type',               # Type of aircraft used for the flight.\n",
    "              'Turbulence Type ',  # Categorization of turbulence intensity.\n",
    "              'Departure Emplacement (ICAO code)',   # ICAO code representing the departure location.\n",
    "              'Destination Emplacement (ICAO code)',  # ICAO code representing the destination location.\n",
    "              'Flight Rule',              # Flight rules followed: VFR-VMC or IFR-IMC.\n",
    "              'Radioborn Maker - Avion Capacity (COMNAV)',    # Manufacturer of communication and navigation equipment.\n",
    "              'Radioborn Maker - Avion Capacity (Surveillance)',   # Manufacturer of surveillance equipment.\n",
    "              'Flight Number Landing (INT)',  # Flight number for the landing.\n",
    "              'Regional or International Flight',   # Indicates if the flight is regional or international.\n",
    "              'Date',                     # Date of the flight.\n",
    "              'Entry Point',              # Point of entry into a specific airspace or region.\n",
    "              'Hour of Entry',            # Time of entry into the specified airspace or region.\n",
    "              'Flight Level',             # Altitude at which the aircraft is flying.\n",
    "              'Exit Point',               # Point of exit from a specific airspace or region.\n",
    "              'Hour of Exit',             # Time of exit from the specified airspace or region.\n",
    "              'Progression of the Flight'  # Description of the flight's progression or trajectory.\n",
    "   ]] = df['Data'].str.split('\\s+', expand=True, n=17)\n",
    "\n",
    "df = df.drop('Data', axis=1)\n",
    "\n",
    "df.shape\n"
   ]
  },
  {
   "cell_type": "code",
   "execution_count": 7,
   "id": "818de623",
   "metadata": {
    "execution": {
     "iopub.execute_input": "2023-07-18T10:18:23.913450Z",
     "iopub.status.busy": "2023-07-18T10:18:23.912603Z",
     "iopub.status.idle": "2023-07-18T10:18:27.722369Z",
     "shell.execute_reply": "2023-07-18T10:18:27.721432Z"
    },
    "papermill": {
     "duration": 3.821328,
     "end_time": "2023-07-18T10:18:27.724986",
     "exception": false,
     "start_time": "2023-07-18T10:18:23.903658",
     "status": "completed"
    },
    "tags": []
   },
   "outputs": [
    {
     "data": {
      "text/html": [
       "<div>\n",
       "<style scoped>\n",
       "    .dataframe tbody tr th:only-of-type {\n",
       "        vertical-align: middle;\n",
       "    }\n",
       "\n",
       "    .dataframe tbody tr th {\n",
       "        vertical-align: top;\n",
       "    }\n",
       "\n",
       "    .dataframe thead th {\n",
       "        text-align: right;\n",
       "    }\n",
       "</style>\n",
       "<table border=\"1\" class=\"dataframe\">\n",
       "  <thead>\n",
       "    <tr style=\"text-align: right;\">\n",
       "      <th></th>\n",
       "      <th>Line Number</th>\n",
       "      <th>Immatriculation</th>\n",
       "      <th>Avion Type</th>\n",
       "      <th>Turbulence Type</th>\n",
       "      <th>Departure Emplacement (ICAO code)</th>\n",
       "      <th>Destination Emplacement (ICAO code)</th>\n",
       "      <th>Flight Rule</th>\n",
       "      <th>Radioborn Maker - Avion Capacity (COMNAV)</th>\n",
       "      <th>Radioborn Maker - Avion Capacity (Surveillance)</th>\n",
       "      <th>Flight Number Landing (INT)</th>\n",
       "      <th>Regional or International Flight</th>\n",
       "      <th>Date</th>\n",
       "      <th>Entry Point</th>\n",
       "      <th>Hour of Entry</th>\n",
       "      <th>Flight Level</th>\n",
       "      <th>Exit Point</th>\n",
       "      <th>Hour of Exit</th>\n",
       "      <th>Progression of the Flight</th>\n",
       "    </tr>\n",
       "  </thead>\n",
       "  <tbody>\n",
       "    <tr>\n",
       "      <th>0</th>\n",
       "      <td>MAU855</td>\n",
       "      <td>3BNBU</td>\n",
       "      <td>A339</td>\n",
       "      <td>H</td>\n",
       "      <td>FIMP</td>\n",
       "      <td>FAOR</td>\n",
       "      <td>I</td>\n",
       "      <td>SDE3FGHIJ3J4J5M1RWY</td>\n",
       "      <td>LB1D1</td>\n",
       "      <td>OVF</td>\n",
       "      <td>INTERNATIONAL</td>\n",
       "      <td>20221210</td>\n",
       "      <td>GERAG</td>\n",
       "      <td>2117</td>\n",
       "      <td>400</td>\n",
       "      <td>SUNIR</td>\n",
       "      <td>2254</td>\n",
       "      <td>400  /NANTA;2127;400/DUPTO;2154;400/TU;2226;40...</td>\n",
       "    </tr>\n",
       "    <tr>\n",
       "      <th>1</th>\n",
       "      <td>KQA263</td>\n",
       "      <td>5YFFB</td>\n",
       "      <td>E190</td>\n",
       "      <td>M</td>\n",
       "      <td>FMMI</td>\n",
       "      <td>HKJK</td>\n",
       "      <td>I</td>\n",
       "      <td>SCDE2E3FGHIRWYZ</td>\n",
       "      <td>LB1</td>\n",
       "      <td>DEP</td>\n",
       "      <td>INTERNATIONAL</td>\n",
       "      <td>20221210</td>\n",
       "      <td>FMMI</td>\n",
       "      <td>2340</td>\n",
       "      <td>360</td>\n",
       "      <td>KINAN</td>\n",
       "      <td>0107</td>\n",
       "      <td>360  /TNV;2341;58/ZAPR;2343;78/1838S04726E;234...</td>\n",
       "    </tr>\n",
       "    <tr>\n",
       "      <th>2</th>\n",
       "      <td>FBU702</td>\n",
       "      <td>FHMIX</td>\n",
       "      <td>A359</td>\n",
       "      <td>H</td>\n",
       "      <td>LFPO</td>\n",
       "      <td>FMEE</td>\n",
       "      <td>I</td>\n",
       "      <td>ABDE1E2E3GHIJ1J2J3J4J5LM1OP2RVWXYZ</td>\n",
       "      <td>LB1D1</td>\n",
       "      <td>OVF</td>\n",
       "      <td>INTERNATIONAL</td>\n",
       "      <td>20221210</td>\n",
       "      <td>DENLI</td>\n",
       "      <td>2356</td>\n",
       "      <td>390</td>\n",
       "      <td>UVENA</td>\n",
       "      <td>0102</td>\n",
       "      <td>390  /ZCRNA;2356;350/IXEBU;0012;390/1225S05132...</td>\n",
       "    </tr>\n",
       "    <tr>\n",
       "      <th>3</th>\n",
       "      <td>CFG2314</td>\n",
       "      <td>DAIYD</td>\n",
       "      <td>A332</td>\n",
       "      <td>H</td>\n",
       "      <td>EDDF</td>\n",
       "      <td>FIMP</td>\n",
       "      <td>I</td>\n",
       "      <td>SDE1E2E3FGHIJ5LM1OP2RVWXYZ</td>\n",
       "      <td>LB1D1</td>\n",
       "      <td>OVF</td>\n",
       "      <td>INTERNATIONAL</td>\n",
       "      <td>20221210</td>\n",
       "      <td>ATOLA</td>\n",
       "      <td>0036</td>\n",
       "      <td>390</td>\n",
       "      <td>APLEM</td>\n",
       "      <td>0202</td>\n",
       "      <td>390  /ZCRNA;0036;390/BIRAL;0046;390/DO;0103;39...</td>\n",
       "    </tr>\n",
       "    <tr>\n",
       "      <th>4</th>\n",
       "      <td>AFR652</td>\n",
       "      <td>FGSQX</td>\n",
       "      <td>B77W</td>\n",
       "      <td>H</td>\n",
       "      <td>LFPG</td>\n",
       "      <td>FMEE</td>\n",
       "      <td>I</td>\n",
       "      <td>SDE2E3FGHIJ3J5M1P2RWXYZ</td>\n",
       "      <td>LB1D1</td>\n",
       "      <td>OVF</td>\n",
       "      <td>INTERNATIONAL</td>\n",
       "      <td>20221210</td>\n",
       "      <td>DENLI</td>\n",
       "      <td>0104</td>\n",
       "      <td>350</td>\n",
       "      <td>UVENA</td>\n",
       "      <td>0212</td>\n",
       "      <td>350  /ZCRNA;0104;370/IXEBU;0121;370/MIDRI;0131...</td>\n",
       "    </tr>\n",
       "  </tbody>\n",
       "</table>\n",
       "</div>"
      ],
      "text/plain": [
       "  Line Number Immatriculation Avion Type Turbulence Type  \\\n",
       "0      MAU855           3BNBU       A339               H   \n",
       "1      KQA263           5YFFB       E190               M   \n",
       "2      FBU702           FHMIX       A359               H   \n",
       "3     CFG2314           DAIYD       A332               H   \n",
       "4      AFR652           FGSQX       B77W               H   \n",
       "\n",
       "  Departure Emplacement (ICAO code) Destination Emplacement (ICAO code)  \\\n",
       "0                              FIMP                                FAOR   \n",
       "1                              FMMI                                HKJK   \n",
       "2                              LFPO                                FMEE   \n",
       "3                              EDDF                                FIMP   \n",
       "4                              LFPG                                FMEE   \n",
       "\n",
       "  Flight Rule Radioborn Maker - Avion Capacity (COMNAV)  \\\n",
       "0           I                       SDE3FGHIJ3J4J5M1RWY   \n",
       "1           I                           SCDE2E3FGHIRWYZ   \n",
       "2           I        ABDE1E2E3GHIJ1J2J3J4J5LM1OP2RVWXYZ   \n",
       "3           I                SDE1E2E3FGHIJ5LM1OP2RVWXYZ   \n",
       "4           I                   SDE2E3FGHIJ3J5M1P2RWXYZ   \n",
       "\n",
       "  Radioborn Maker - Avion Capacity (Surveillance) Flight Number Landing (INT)  \\\n",
       "0                                           LB1D1                         OVF   \n",
       "1                                             LB1                         DEP   \n",
       "2                                           LB1D1                         OVF   \n",
       "3                                           LB1D1                         OVF   \n",
       "4                                           LB1D1                         OVF   \n",
       "\n",
       "  Regional or International Flight      Date Entry Point Hour of Entry  \\\n",
       "0                    INTERNATIONAL  20221210       GERAG          2117   \n",
       "1                    INTERNATIONAL  20221210        FMMI          2340   \n",
       "2                    INTERNATIONAL  20221210       DENLI          2356   \n",
       "3                    INTERNATIONAL  20221210       ATOLA          0036   \n",
       "4                    INTERNATIONAL  20221210       DENLI          0104   \n",
       "\n",
       "  Flight Level Exit Point Hour of Exit  \\\n",
       "0          400      SUNIR         2254   \n",
       "1          360      KINAN         0107   \n",
       "2          390      UVENA         0102   \n",
       "3          390      APLEM         0202   \n",
       "4          350      UVENA         0212   \n",
       "\n",
       "                           Progression of the Flight  \n",
       "0  400  /NANTA;2127;400/DUPTO;2154;400/TU;2226;40...  \n",
       "1  360  /TNV;2341;58/ZAPR;2343;78/1838S04726E;234...  \n",
       "2  390  /ZCRNA;2356;350/IXEBU;0012;390/1225S05132...  \n",
       "3  390  /ZCRNA;0036;390/BIRAL;0046;390/DO;0103;39...  \n",
       "4  350  /ZCRNA;0104;370/IXEBU;0121;370/MIDRI;0131...  "
      ]
     },
     "execution_count": 7,
     "metadata": {},
     "output_type": "execute_result"
    }
   ],
   "source": [
    "import os\n",
    "\n",
    "# List of file paths matching a specific pattern\n",
    "file_paths = glob.glob('/kaggle/input/asecnasj2223/*.csv')\n",
    "\n",
    "# Empty list to store the DataFrames\n",
    "dfs = []\n",
    "\n",
    "# Iterate over each file path\n",
    "for file_path in file_paths:\n",
    "    # Extract the file name without the extension\n",
    "    file_name = os.path.splitext(os.path.basename(file_path))[0]\n",
    "    \n",
    "    # Read the CSV file into a DataFrame\n",
    "    data = pd.read_csv(file_path, header=None)\n",
    "    df = pd.DataFrame({'Data': data[0]})\n",
    "    df[['Line Number', 'Immatriculation', 'Avion Type', 'Turbulence Type', 'Departure Emplacement (ICAO code)',\n",
    "        'Destination Emplacement (ICAO code)', 'Flight Rule', 'Radioborn Maker - Avion Capacity (COMNAV)',\n",
    "        'Radioborn Maker - Avion Capacity (Surveillance)', 'Flight Number Landing (INT)',\n",
    "        'Regional or International Flight', 'Date', 'Entry Point', 'Hour of Entry', 'Flight Level',\n",
    "        'Exit Point', 'Hour of Exit', 'Progression of the Flight']] = df['Data'].str.split('\\s+', expand=True, n=17)\n",
    "    \n",
    "    # Assign the file name as the value in the 'Date' column\n",
    "    df['Date'] = file_name\n",
    "    \n",
    "    df = df.drop('Data', axis=1)\n",
    "    \n",
    "    # Append the DataFrame to the list\n",
    "    dfs.append(df)\n",
    "\n",
    "# Concatenate the list of DataFrames into a single DataFrame\n",
    "combined_df = pd.concat(dfs)\n",
    "\n",
    "# Reset the index of the combined DataFrame\n",
    "combined_df = combined_df.reset_index(drop=True)\n",
    "\n",
    "combined_df.head()\n"
   ]
  },
  {
   "cell_type": "code",
   "execution_count": 8,
   "id": "93b2df0a",
   "metadata": {
    "execution": {
     "iopub.execute_input": "2023-07-18T10:18:27.742542Z",
     "iopub.status.busy": "2023-07-18T10:18:27.741851Z",
     "iopub.status.idle": "2023-07-18T10:18:28.577356Z",
     "shell.execute_reply": "2023-07-18T10:18:28.576142Z"
    },
    "papermill": {
     "duration": 0.847345,
     "end_time": "2023-07-18T10:18:28.579992",
     "exception": false,
     "start_time": "2023-07-18T10:18:27.732647",
     "status": "completed"
    },
    "tags": []
   },
   "outputs": [],
   "source": [
    "# Export the combined DataFrame to a CSV file\n",
    "combined_df.to_csv('combined_data.csv', index=False)"
   ]
  },
  {
   "cell_type": "markdown",
   "id": "d37eba84",
   "metadata": {
    "papermill": {
     "duration": 0.006966,
     "end_time": "2023-07-18T10:18:28.594311",
     "exception": false,
     "start_time": "2023-07-18T10:18:28.587345",
     "status": "completed"
    },
    "tags": []
   },
   "source": [
    "# **III. Time-Based: Congestion Analysis**\n",
    "\n",
    "With our data prepared for analysis, the primary objective for this week is to ascertain peak congestion periods by examining the monthly, daily, and hourly flight volumes. By identifying these periods, we can gain valuable insights into the patterns of congestion and develop strategies to mitigate its impact.\n"
   ]
  },
  {
   "cell_type": "markdown",
   "id": "508ec0f4",
   "metadata": {
    "papermill": {
     "duration": 0.006889,
     "end_time": "2023-07-18T10:18:28.608640",
     "exception": false,
     "start_time": "2023-07-18T10:18:28.601751",
     "status": "completed"
    },
    "tags": []
   },
   "source": [
    "**1)Peak month**:"
   ]
  },
  {
   "cell_type": "code",
   "execution_count": 9,
   "id": "33b5afa7",
   "metadata": {
    "execution": {
     "iopub.execute_input": "2023-07-18T10:18:28.625306Z",
     "iopub.status.busy": "2023-07-18T10:18:28.624283Z",
     "iopub.status.idle": "2023-07-18T10:18:29.152119Z",
     "shell.execute_reply": "2023-07-18T10:18:29.151135Z"
    },
    "papermill": {
     "duration": 0.539297,
     "end_time": "2023-07-18T10:18:29.155175",
     "exception": false,
     "start_time": "2023-07-18T10:18:28.615878",
     "status": "completed"
    },
    "tags": []
   },
   "outputs": [
    {
     "data": {
      "image/png": "[encoded data removed]",
      "text/plain": [
       "<Figure size 800x500 with 1 Axes>"
      ]
     },
     "metadata": {},
     "output_type": "display_data"
    },
    {
     "name": "stdout",
     "output_type": "stream",
     "text": [
      "Month with the most flights: Apr\n"
     ]
    }
   ],
   "source": [
    "import pandas as pd\n",
    "# Convert 'Date' column to datetime format\n",
    "combined_df['Date'] = pd.to_datetime(combined_df['Date'], format='%Y%m%d')\n",
    "\n",
    "# Extract the month from the 'Date' column and convert to month names\n",
    "combined_df['Month'] = combined_df['Date'].dt.month.apply(lambda x: calendar.month_abbr[x])\n",
    "\n",
    "# Count the number of flights per month\n",
    "flight_counts = combined_df['Month'].value_counts()\n",
    "\n",
    "# Determine the month with the most flights\n",
    "most_flights_month = flight_counts.idxmax()\n",
    "\n",
    "# Visualization\n",
    "plt.figure(figsize=(8, 5))\n",
    "flight_counts.plot(kind='bar', color='skyblue')\n",
    "plt.xlabel('Month')\n",
    "plt.ylabel('Number of Flights')\n",
    "plt.title('Number of Flights per Month')\n",
    "plt.xticks(rotation=0)\n",
    "plt.tight_layout()\n",
    "plt.show()\n",
    "\n",
    "print(\"Month with the most flights:\", most_flights_month)\n"
   ]
  },
  {
   "cell_type": "code",
   "execution_count": 10,
   "id": "2cd84cb4",
   "metadata": {
    "execution": {
     "iopub.execute_input": "2023-07-18T10:18:29.172466Z",
     "iopub.status.busy": "2023-07-18T10:18:29.172079Z",
     "iopub.status.idle": "2023-07-18T10:18:29.178213Z",
     "shell.execute_reply": "2023-07-18T10:18:29.177421Z"
    },
    "papermill": {
     "duration": 0.01714,
     "end_time": "2023-07-18T10:18:29.180229",
     "exception": false,
     "start_time": "2023-07-18T10:18:29.163089",
     "status": "completed"
    },
    "tags": []
   },
   "outputs": [
    {
     "data": {
      "text/plain": [
       "Index(['Line Number', 'Immatriculation', 'Avion Type', 'Turbulence Type',\n",
       "       'Departure Emplacement (ICAO code)',\n",
       "       'Destination Emplacement (ICAO code)', 'Flight Rule',\n",
       "       'Radioborn Maker - Avion Capacity (COMNAV)',\n",
       "       'Radioborn Maker - Avion Capacity (Surveillance)',\n",
       "       'Flight Number Landing (INT)', 'Regional or International Flight',\n",
       "       'Date', 'Entry Point', 'Hour of Entry', 'Flight Level', 'Exit Point',\n",
       "       'Hour of Exit', 'Progression of the Flight', 'Month'],\n",
       "      dtype='object')"
      ]
     },
     "execution_count": 10,
     "metadata": {},
     "output_type": "execute_result"
    }
   ],
   "source": [
    "combined_df.columns\n"
   ]
  },
  {
   "cell_type": "markdown",
   "id": "874f6a56",
   "metadata": {
    "papermill": {
     "duration": 0.007558,
     "end_time": "2023-07-18T10:18:29.195629",
     "exception": false,
     "start_time": "2023-07-18T10:18:29.188071",
     "status": "completed"
    },
    "tags": []
   },
   "source": [
    "Well, we can notice that April is the time where there are a lot of flight data"
   ]
  },
  {
   "cell_type": "markdown",
   "id": "76a176a1",
   "metadata": {
    "papermill": {
     "duration": 0.007583,
     "end_time": "2023-07-18T10:18:29.211269",
     "exception": false,
     "start_time": "2023-07-18T10:18:29.203686",
     "status": "completed"
    },
    "tags": []
   },
   "source": [
    "**2)Peak day of the week:**\n"
   ]
  },
  {
   "cell_type": "code",
   "execution_count": 11,
   "id": "1ce808a6",
   "metadata": {
    "execution": {
     "iopub.execute_input": "2023-07-18T10:18:29.228917Z",
     "iopub.status.busy": "2023-07-18T10:18:29.228521Z",
     "iopub.status.idle": "2023-07-18T10:18:29.588694Z",
     "shell.execute_reply": "2023-07-18T10:18:29.587636Z"
    },
    "papermill": {
     "duration": 0.371902,
     "end_time": "2023-07-18T10:18:29.591096",
     "exception": false,
     "start_time": "2023-07-18T10:18:29.219194",
     "status": "completed"
    },
    "tags": []
   },
   "outputs": [
    {
     "data": {
      "image/png": "[encoded data removed]",
      "text/plain": [
       "<Figure size 800x500 with 1 Axes>"
      ]
     },
     "metadata": {},
     "output_type": "display_data"
    },
    {
     "name": "stdout",
     "output_type": "stream",
     "text": [
      "Most congested day of the week: Wednesday\n"
     ]
    }
   ],
   "source": [
    "import pandas as pd\n",
    "import matplotlib.pyplot as plt\n",
    "\n",
    "\n",
    "# Convert 'Date' column to datetime format\n",
    "combined_df['Date'] = pd.to_datetime(combined_df['Date'], format='%Y%m%d')\n",
    "\n",
    "# Extract the day of the week from the 'Date' column\n",
    "combined_df['DayOfWeek'] = combined_df['Date'].dt.day_name()\n",
    "\n",
    "# Count the number of flights for each day of the week\n",
    "daily_congestion = combined_df['DayOfWeek'].value_counts()\n",
    "\n",
    "# Determine the most congested day\n",
    "most_congested_day = daily_congestion.idxmax()\n",
    "\n",
    "# Visualization\n",
    "plt.figure(figsize=(8, 5))\n",
    "daily_congestion.plot(kind='bar', color='lightgreen')\n",
    "plt.xlabel('Day of the Week')\n",
    "plt.ylabel('Number of Flights')\n",
    "plt.title('Congestion by Day of the Week')\n",
    "plt.xticks(rotation=0)\n",
    "plt.tight_layout()\n",
    "plt.show()\n",
    "\n",
    "print(\"Most congested day of the week:\", most_congested_day)\n"
   ]
  },
  {
   "cell_type": "code",
   "execution_count": 12,
   "id": "611912a1",
   "metadata": {
    "execution": {
     "iopub.execute_input": "2023-07-18T10:18:29.610120Z",
     "iopub.status.busy": "2023-07-18T10:18:29.609686Z",
     "iopub.status.idle": "2023-07-18T10:18:30.146139Z",
     "shell.execute_reply": "2023-07-18T10:18:30.145089Z"
    },
    "papermill": {
     "duration": 0.549607,
     "end_time": "2023-07-18T10:18:30.149341",
     "exception": false,
     "start_time": "2023-07-18T10:18:29.599734",
     "status": "completed"
    },
    "tags": []
   },
   "outputs": [
    {
     "data": {
      "image/png": "[encoded data removed]",
      "text/plain": [
       "<Figure size 1000x600 with 1 Axes>"
      ]
     },
     "metadata": {},
     "output_type": "display_data"
    },
    {
     "name": "stdout",
     "output_type": "stream",
     "text": [
      "Hour with the highest congestion: 9.0\n"
     ]
    }
   ],
   "source": [
    "\n",
    "# Convert 'Hour of Entry' and 'Hour of Exit' columns to datetime format\n",
    "combined_df['Hour of Entry'] = pd.to_datetime(combined_df['Hour of Entry'], format='%H%M', errors='coerce')\n",
    "combined_df['Hour of Exit'] = pd.to_datetime(combined_df['Hour of Exit'], format='%H%M', errors='coerce')\n",
    "\n",
    "# Number of flights for each hour of entry\n",
    "hourly_flight_counts_entry = combined_df['Hour of Entry'].dt.hour.value_counts().sort_index()\n",
    "\n",
    "# Number of flights for each hour of exit\n",
    "hourly_flight_counts_exit = combined_df['Hour of Exit'].dt.hour.value_counts().sort_index()\n",
    "\n",
    "# Merge the entry and exit flight counts\n",
    "hourly_flight_counts = pd.concat([hourly_flight_counts_entry, hourly_flight_counts_exit], axis=1, keys=['Entry', 'Exit'])\n",
    "hourly_flight_counts = hourly_flight_counts.fillna(0)\n",
    "\n",
    "# Total flights for each hour\n",
    "hourly_flight_counts['Total'] = hourly_flight_counts['Entry'] + hourly_flight_counts['Exit']\n",
    "\n",
    "peak_hour = hourly_flight_counts['Total'].idxmax()\n",
    "\n",
    "# Visualization\n",
    "plt.figure(figsize=(10, 6))\n",
    "hourly_flight_counts['Total'].plot(kind='bar', color='orange')\n",
    "plt.xlabel('Hour')\n",
    "plt.ylabel('Number of Flights')\n",
    "plt.title('Congestion by Hour')\n",
    "plt.xticks(rotation=0)\n",
    "plt.tight_layout()\n",
    "plt.show()\n",
    "\n",
    "print(\"Hour with the highest congestion:\", peak_hour)\n"
   ]
  },
  {
   "cell_type": "markdown",
   "id": "d1765f7b",
   "metadata": {
    "papermill": {
     "duration": 0.00857,
     "end_time": "2023-07-18T10:18:30.166749",
     "exception": false,
     "start_time": "2023-07-18T10:18:30.158179",
     "status": "completed"
    },
    "tags": []
   },
   "source": [
    "Peak Month: April, Peak Day: Wednesday, Peak Hour: 9\n",
    "\n",
    "**Summary:**\n",
    "\n",
    "From this analysis, I have determined the peak congestion periods for air travel from September 2022 to June 2023. Through careful examination, I found that the month of April experiences the highest volume of flights, while Wednesdays prove to be the most congested days. Additionally, peak congestion within a given day occurs at 9 o'clock. In the following I will analyze space."
   ]
  },
  {
   "cell_type": "markdown",
   "id": "7239f7e4",
   "metadata": {
    "papermill": {
     "duration": 0.008513,
     "end_time": "2023-07-18T10:18:30.184137",
     "exception": false,
     "start_time": "2023-07-18T10:18:30.175624",
     "status": "completed"
    },
    "tags": []
   },
   "source": [
    "# **IV- AIRSPACE ROUTE OPTIMIZATION:**\n",
    "Learning Networkit to being able to trace every possible directory for a flight, then now the best path for this flight.\n",
    "\n",
    "To start we are going to put a simple data. two routes and test it on different algorithms.\n",
    "\n",
    "* Path 1: Ua400 : Gadno- Tidal- Dobar - Antana- Morama-Ixeni\n",
    "* Path 2: UA401:Kinan -Galba-Mahajanga-Uvgad-Birba-Ankazobe-Antananarivo-Moramanaga-Tigur -Unkik\n",
    "\n"
   ]
  },
  {
   "cell_type": "markdown",
   "id": "3ca33c96",
   "metadata": {
    "papermill": {
     "duration": 0.008387,
     "end_time": "2023-07-18T10:18:30.201314",
     "exception": false,
     "start_time": "2023-07-18T10:18:30.192927",
     "status": "completed"
    },
    "tags": []
   },
   "source": [
    "First we calculate the distance between each pair of points in the network. We use the Haversine formula based on the Earth's radius and latitude/longitude coordinates"
   ]
  },
  {
   "cell_type": "code",
   "execution_count": 13,
   "id": "e3020c71",
   "metadata": {
    "execution": {
     "iopub.execute_input": "2023-07-18T10:18:30.221255Z",
     "iopub.status.busy": "2023-07-18T10:18:30.220859Z",
     "iopub.status.idle": "2023-07-18T10:18:30.649587Z",
     "shell.execute_reply": "2023-07-18T10:18:30.648494Z"
    },
    "papermill": {
     "duration": 0.44318,
     "end_time": "2023-07-18T10:18:30.653403",
     "exception": false,
     "start_time": "2023-07-18T10:18:30.210223",
     "status": "completed"
    },
    "tags": []
   },
   "outputs": [
    {
     "data": {
      "image/png": "[encoded data removed]",
      "text/plain": [
       "<Figure size 1200x800 with 1 Axes>"
      ]
     },
     "metadata": {},
     "output_type": "display_data"
    },
    {
     "name": "stdout",
     "output_type": "stream",
     "text": [
      "Original Shortest Path (UA400): ['GADNO', 'TIDAL', 'DOBAR', 'ANTANANARIVO / IVATO VOR-DME ( TNV )', 'MORAMANGA NDB ( TE )', 'IXENI']\n",
      "Original Shortest Path (UA401): ['KINAN', 'GALBA', 'MAHAJANGA VOR-DME ( MG )', 'UVGAD', 'DIRBA', 'ANKAZOBE NDB ( TN )', 'ANTANANARIVO / IVATO VOR-DME ( TNV )', 'MORAMANGA NDB ( TE )', 'TIGUR', 'UNKIK']\n",
      "New Proposed Path (UA400): ['GADNO', 'TIDAL', 'DOBAR', 'IXENI']\n",
      "New Proposed Path (UA401): ['KINAN', 'GALBA', 'MAHAJANGA VOR-DME ( MG )', 'UVGAD', 'UNKIK']\n"
     ]
    }
   ],
   "source": [
    "\n",
    "# Constants for Haversine formula\n",
    "EARTH_RADIUS = 6371  # Earth's radius in kilometers\n",
    "\n",
    "# Empty directed graph\n",
    "G = nx.DiGraph()\n",
    "\n",
    "# Regular expression pattern for Longitude and Latitude\n",
    "pattern = re.compile(r\"([-+]?\\d+°\\d+'[\\d\\.]+\\\"[NS])\\s+([-+]?\\d+°\\d+'[\\d\\.]+\\\"[EW])\")\n",
    "\n",
    "# Path we gonna use\n",
    "ua400_path = [\"GADNO\", \"TIDAL\", \"DOBAR\", \"ANTANANARIVO / IVATO VOR-DME ( TNV )\", \"MORAMANGA NDB ( TE )\", \"IXENI\"]\n",
    "ua401_path = [\"KINAN\", \"GALBA\", \"MAHAJANGA VOR-DME ( MG )\", \"UVGAD\", \"DIRBA\", \"ANKAZOBE NDB ( TN )\",\n",
    "              \"ANTANANARIVO / IVATO VOR-DME ( TNV )\", \"MORAMANGA NDB ( TE )\", \"TIGUR\", \"UNKIK\"]\n",
    "\n",
    "# Add nodes and edges for the UA400 path\n",
    "for i in range(len(ua400_path) - 1):\n",
    "    point1 = ua400_path[i]\n",
    "    point2 = ua400_path[i + 1]\n",
    "    G.add_edge(point1, point2)\n",
    "\n",
    "# Add nodes and edges for the UA401 path\n",
    "for i in range(len(ua401_path) - 1):\n",
    "    point1 = ua401_path[i]\n",
    "    point2 = ua401_path[i + 1]\n",
    "    G.add_edge(point1, point2)\n",
    "\n",
    "# Convert coordinate string to decimal degrees\n",
    "def convert_to_decimal(coord):\n",
    "    parts = re.findall(r\"([-+]?\\d+)[°](\\d+)'([\\d\\.]+)\\\"([NSWE])\", coord)[0]\n",
    "    degrees = float(parts[0])\n",
    "    minutes = float(parts[1])\n",
    "    seconds = float(parts[2])\n",
    "    direction = 1 if parts[3] in ['N', 'E'] else -1\n",
    "    decimal = degrees + (minutes / 60) + (seconds / 3600)\n",
    "    return decimal * direction\n",
    "\n",
    "# Calculate the geographical distance between two points using the Haversine formula\n",
    "def calculate_distance(lat1, lon1, lat2, lon2):\n",
    "    lat1_rad = math.radians(lat1)\n",
    "    lon1_rad = math.radians(lon1)\n",
    "    lat2_rad = math.radians(lat2)\n",
    "    lon2_rad = math.radians(lon2)\n",
    "\n",
    "    dlon = lon2_rad - lon1_rad\n",
    "    dlat = lat2_rad - lat1_rad\n",
    "\n",
    "    a = math.sin(dlat/2)**2 + math.cos(lat1_rad) * math.cos(lat2_rad) * math.sin(dlon/2)**2\n",
    "    c = 2 * math.atan2(math.sqrt(a), math.sqrt(1-a))\n",
    "\n",
    "    distance = EARTH_RADIUS * c\n",
    "    return distance\n",
    "\n",
    "# Define the latitude and longitude values for the nodes\n",
    "node_coordinates = {\n",
    "    \"GADNO\": (convert_to_decimal(\"17°13'00\\\"S\"), convert_to_decimal(\"041°42'00\\\"E\")),\n",
    "    \"TIDAL\": (convert_to_decimal(\"18°08'13\\\"S\"), convert_to_decimal(\"044°58'58\\\"E\")),\n",
    "    \"DOBAR\": (convert_to_decimal(\"18°32'27\\\"S\"), convert_to_decimal(\"046°30'07\\\"E\")),\n",
    "    \"ANTANANARIVO / IVATO VOR-DME ( TNV )\": (convert_to_decimal(\"18°48'12\\\"S\"), convert_to_decimal(\"047°31'07.20\\\"E\")),\n",
    "    \"MORAMANGA NDB ( TE )\": (convert_to_decimal(\"18°57'08.10\\\"S\"), convert_to_decimal(\"048°13'32.50\\\"E\")),\n",
    "    \"IXENI\": (convert_to_decimal(\"19°17'13\\\"S\"), convert_to_decimal(\"050°06'30\\\"E\")),\n",
    "    \"KINAN\": (convert_to_decimal(\"10°44'34.41\\\"S\"), convert_to_decimal(\"042°26'08.33\\\"E\")),\n",
    "    \"GALBA\": (convert_to_decimal(\"13°22'03\\\"S\"), convert_to_decimal(\"044°29'43\\\"E\")),\n",
    "    \"MAHAJANGA VOR-DME ( MG )\": (convert_to_decimal(\"15°39'27\\\"S\"), convert_to_decimal(\"046°20'26.40\\\"E\")),\n",
    "    \"UVGAD\": (convert_to_decimal(\"16°27'47\\\"S\"), convert_to_decimal(\"046°34'21\\\"E\")),\n",
    "    \"DIRBA\": (convert_to_decimal(\"17°55'48\\\"S\"), convert_to_decimal(\"047°00'00\\\"E\")),\n",
    "    \"ANKAZOBE NDB ( TN )\": (convert_to_decimal(\"18°18'57.80\\\"S\"), convert_to_decimal(\"047°06'49.60\\\"E\")),\n",
    "    \"ANTANANARIVO / IVATO VOR-DME ( TNV )\": (convert_to_decimal(\"18°48'12\\\"S\"), convert_to_decimal(\"047°31'07.20\\\"E\")),\n",
    "    \"MORAMANGA NDB ( TE )\": (convert_to_decimal(\"18°57'08.10\\\"S\"), convert_to_decimal(\"048°13'32.50\\\"E\")),\n",
    "    \"TIGUR\": (convert_to_decimal(\"19°28'21\\\"S\"), convert_to_decimal(\"050°03'49\\\"E\")),\n",
    "    \"UNKIK\": (convert_to_decimal(\"20°14'28.50\\\"S\"), convert_to_decimal(\"052°56'04.70\\\"E\"))\n",
    "}\n",
    "\n",
    "\n",
    "# Draw the graph with custom node positions\n",
    "plt.figure(figsize=(12, 8))\n",
    "pos = {node: (lon, lat) for node, (lat, lon) in node_coordinates.items()}\n",
    "\n",
    "# Draw the UA400 path in green\n",
    "nx.draw_networkx_edges(G, pos, edgelist=[(ua400_path[i], ua400_path[i+1]) for i in range(len(ua400_path)-1)],\n",
    "                       edge_color='green', width=2.0, arrows=True)\n",
    "\n",
    "# Draw the UA401 path in blue\n",
    "nx.draw_networkx_edges(G, pos, edgelist=[(ua401_path[i], ua401_path[i+1]) for i in range(len(ua401_path)-1)],\n",
    "                       edge_color='blue', width=2.0, arrows=True)\n",
    "\n",
    "# Draw the proposed new paths in red\n",
    "new_path_ua400 = [\"GADNO\", \"TIDAL\", \"DOBAR\", \"IXENI\"]\n",
    "new_path_ua401 = [\"KINAN\", \"GALBA\", \"MAHAJANGA VOR-DME ( MG )\", \"UVGAD\", \"UNKIK\"]\n",
    "\n",
    "nx.draw_networkx_edges(G, pos, edgelist=[(new_path_ua400[i], new_path_ua400[i+1]) for i in range(len(new_path_ua400)-1)],\n",
    "                       edge_color='red', width=2.0, arrows=True)\n",
    "nx.draw_networkx_edges(G, pos, edgelist=[(new_path_ua401[i], new_path_ua401[i+1]) for i in range(len(new_path_ua401)-1)],\n",
    "                       edge_color='red', width=2.0, arrows=True)\n",
    "\n",
    "# Draw the nodes with labels\n",
    "nx.draw_networkx_labels(G, pos, font_size=8, font_color='black')\n",
    "\n",
    "# Set the axis limits and remove them\n",
    "plt.xlim(35, 58)\n",
    "plt.ylim(-25, -10)\n",
    "plt.axis('off')\n",
    "\n",
    "# Set the title and display the graph\n",
    "plt.title('Network Graph')\n",
    "plt.show()\n",
    "\n",
    "# Print the original shortest paths\n",
    "print(\"Original Shortest Path (UA400):\", ua400_path)\n",
    "print(\"Original Shortest Path (UA401):\", ua401_path)\n",
    "\n",
    "# Print the new proposed paths\n",
    "print(\"New Proposed Path (UA400):\", new_path_ua400)\n",
    "print(\"New Proposed Path (UA401):\", new_path_ua401)\n"
   ]
  },
  {
   "cell_type": "markdown",
   "id": "640b9e43",
   "metadata": {
    "papermill": {
     "duration": 0.009539,
     "end_time": "2023-07-18T10:18:30.672913",
     "exception": false,
     "start_time": "2023-07-18T10:18:30.663374",
     "status": "completed"
    },
    "tags": []
   },
   "source": [
    "This code alculates the geographical distances between nodes using the Haversine formula, considering their longitude and latitude coordinates. The paths are then drawn accordingly.\n",
    "\n",
    "The graph is displayed with nodes positioned based on latitude and longitude values, and the original paths (UA400 and UA401) are printed. The new proposed paths are also printed in red."
   ]
  },
  {
   "cell_type": "code",
   "execution_count": 14,
   "id": "336f9f06",
   "metadata": {
    "execution": {
     "iopub.execute_input": "2023-07-18T10:18:30.695553Z",
     "iopub.status.busy": "2023-07-18T10:18:30.694378Z",
     "iopub.status.idle": "2023-07-18T10:18:31.483594Z",
     "shell.execute_reply": "2023-07-18T10:18:31.482599Z"
    },
    "papermill": {
     "duration": 0.803166,
     "end_time": "2023-07-18T10:18:31.486058",
     "exception": false,
     "start_time": "2023-07-18T10:18:30.682892",
     "status": "completed"
    },
    "tags": []
   },
   "outputs": [
    {
     "data": {
      "image/png": "[encoded data removed]",
      "text/plain": [
       "<Figure size 1200x800 with 1 Axes>"
      ]
     },
     "metadata": {},
     "output_type": "display_data"
    },
    {
     "name": "stdout",
     "output_type": "stream",
     "text": [
      "Route: UA401\n",
      "Path: ['KINAN', 'GALBA', 'MAHAJANGA VOR-DME ( MG )', 'UVGAD', 'DIRBA', 'ANKAZOBE NDB ( TN )', 'ANTANANARIVO / IVATO VOR-DME ( TNV )', 'MORAMANGA NDB ( TE )', 'TIGUR', 'UNKIK']\n",
      "Route: UA400\n",
      "Path: ['GADNO', 'TIDAL', 'DOBAR', 'ANTANANARIVO / IVATO VOR-DME ( TNV )', 'MORAMANGA NDB ( TE )', 'IXENI']\n"
     ]
    }
   ],
   "source": [
    "import re\n",
    "import math\n",
    "import networkx as nx\n",
    "import matplotlib.pyplot as plt\n",
    "import csv\n",
    "\n",
    "# Constants for Haversine formula\n",
    "EARTH_RADIUS = 6371  # Earth's radius in kilometers\n",
    "\n",
    "# Empty directed graph\n",
    "G = nx.DiGraph()\n",
    "\n",
    "# Regular expression pattern for combined Longitude and Latitude\n",
    "pattern = re.compile(r\"([-+]?\\d+°\\d+'[\\d\\.]+\\\"[NS])\\s+([-+]?\\d+°\\d+'[\\d\\.]+\\\"[EW])\")\n",
    "\n",
    "# Read the dataset from CSV\n",
    "dataset = []\n",
    "with open('/kaggle/input/atstest2/atstest.csv', 'r') as file:\n",
    "    reader = csv.DictReader(file)\n",
    "    for row in reader:\n",
    "        route = row['Routes']\n",
    "        point = row['Point ']\n",
    "        lon_lat = row['Longitude/Latitude']\n",
    "\n",
    "        # Extract longitude and latitude using regular expressions\n",
    "        match = pattern.match(lon_lat)\n",
    "        longitude = match.group(1)\n",
    "        latitude = match.group(2)\n",
    "\n",
    "        dataset.append((route, point, latitude, longitude))\n",
    "\n",
    "# Add nodes and edges for each path in the dataset\n",
    "for route, point, latitude, longitude in dataset:\n",
    "    G.add_node(point)\n",
    "    if len(G) > 1:\n",
    "        prev_point = dataset[-2][1]\n",
    "        G.add_edge(prev_point, point)\n",
    "\n",
    "# Convert coordinate string to decimal degrees\n",
    "def convert_to_decimal(coord):\n",
    "    parts = re.findall(r\"([-+]?\\d+)[°](\\d+)'([\\d\\.]+)\\\"([NSWE])\", coord)[0]\n",
    "    degrees = float(parts[0])\n",
    "    minutes = float(parts[1])\n",
    "    seconds = float(parts[2])\n",
    "    direction = 1 if parts[3] in ['N', 'E'] else -1\n",
    "    decimal = degrees + (minutes / 60) + (seconds / 3600)\n",
    "    return decimal * direction\n",
    "\n",
    "# Define the latitude and longitude values for the nodes\n",
    "node_coordinates = {\n",
    "    point: (convert_to_decimal(longitude), convert_to_decimal(latitude)) for _, point, latitude, longitude in dataset\n",
    "}\n",
    "\n",
    "# Draw the graph with custom node positions\n",
    "plt.figure(figsize=(12, 8))\n",
    "pos = {node: (lon, lat) for node, (lat, lon) in node_coordinates.items()}\n",
    "\n",
    "# Draw the paths\n",
    "for route, point, _, _ in dataset:\n",
    "    path = [p for r, p, _, _ in dataset if r == route]\n",
    "    nx.draw_networkx_edges(G, pos, edgelist=[(path[i], path[i+1]) for i in range(len(path)-1)],\n",
    "                           edge_color='green', width=2.0, arrows=True)\n",
    "\n",
    "# Draw the nodes with labels\n",
    "nx.draw_networkx_labels(G, pos, font_size=8, font_color='black')\n",
    "\n",
    "# Set the axis limits and remove them\n",
    "plt.xlim(35, 58)\n",
    "plt.ylim(-25, -10)\n",
    "plt.axis('off')\n",
    "\n",
    "# Set the title and display the graph\n",
    "plt.title('Network Graph')\n",
    "plt.show()\n",
    "\n",
    "# Print the routes and paths\n",
    "routes = set(route for route, _, _, _ in dataset)\n",
    "for route in routes:\n",
    "    path = [point for r, point, _, _ in dataset if r == route]\n",
    "    print(\"Route:\", route)\n",
    "    print(\"Path:\", path)\n"
   ]
  },
  {
   "cell_type": "code",
   "execution_count": 15,
   "id": "efcf52be",
   "metadata": {
    "execution": {
     "iopub.execute_input": "2023-07-18T10:18:31.510744Z",
     "iopub.status.busy": "2023-07-18T10:18:31.509637Z",
     "iopub.status.idle": "2023-07-18T10:18:31.520915Z",
     "shell.execute_reply": "2023-07-18T10:18:31.519880Z"
    },
    "papermill": {
     "duration": 0.026168,
     "end_time": "2023-07-18T10:18:31.523188",
     "exception": false,
     "start_time": "2023-07-18T10:18:31.497020",
     "status": "completed"
    },
    "tags": []
   },
   "outputs": [
    {
     "name": "stdout",
     "output_type": "stream",
     "text": [
      "Optimization Percentage (UA400): 0.017974404917665988 %\n",
      "Optimization Percentage (UA401): 4.8806511625282125 %\n"
     ]
    }
   ],
   "source": [
    "# Calculate the geographical distance between two points using the Haversine formula\n",
    "def calculate_distance(lat1, lon1, lat2, lon2):\n",
    "    lat1_rad = math.radians(lat1)\n",
    "    lon1_rad = math.radians(lon1)\n",
    "    lat2_rad = math.radians(lat2)\n",
    "    lon2_rad = math.radians(lon2)\n",
    "\n",
    "    dlon = lon2_rad - lon1_rad\n",
    "    dlat = lat2_rad - lat1_rad\n",
    "\n",
    "    a = math.sin(dlat/2)**2 + math.cos(lat1_rad) * math.cos(lat2_rad) * math.sin(dlon/2)**2\n",
    "    c = 2 * math.atan2(math.sqrt(a), math.sqrt(1-a))\n",
    "\n",
    "    distance = EARTH_RADIUS * c\n",
    "    return distance\n",
    "\n",
    "# Calculate the distance of a given path\n",
    "def calculate_path_distance(path):\n",
    "    total_distance = 0\n",
    "    for i in range(len(path) - 1):\n",
    "        point1 = path[i]\n",
    "        point2 = path[i + 1]\n",
    "        lat1, lon1 = node_coordinates[point1]\n",
    "        lat2, lon2 = node_coordinates[point2]\n",
    "        distance = calculate_distance(lat1, lon1, lat2, lon2)\n",
    "        total_distance += distance\n",
    "    return total_distance\n",
    "\n",
    "# Calculate the percentage optimization\n",
    "def calculate_optimization(original_path, new_path):\n",
    "    original_distance = calculate_path_distance(original_path)\n",
    "    new_distance = calculate_path_distance(new_path)\n",
    "    optimization_percentage = (original_distance - new_distance) / original_distance * 100\n",
    "    return optimization_percentage\n",
    "\n",
    "# Calculate the optimization percentage for UA400\n",
    "ua400_optimization = calculate_optimization(ua400_path, new_path_ua400)\n",
    "# Calculate the optimization percentage for UA401\n",
    "ua401_optimization = calculate_optimization(ua401_path, new_path_ua401)\n",
    "\n",
    "# Print the optimization percentages\n",
    "print(\"Optimization Percentage (UA400):\", ua400_optimization, \"%\")\n",
    "print(\"Optimization Percentage (UA401):\", ua401_optimization, \"%\")\n"
   ]
  },
  {
   "cell_type": "code",
   "execution_count": 16,
   "id": "9c6ab0b0",
   "metadata": {
    "execution": {
     "iopub.execute_input": "2023-07-18T10:18:31.546188Z",
     "iopub.status.busy": "2023-07-18T10:18:31.545416Z",
     "iopub.status.idle": "2023-07-18T10:18:33.295199Z",
     "shell.execute_reply": "2023-07-18T10:18:33.293820Z"
    },
    "papermill": {
     "duration": 1.765183,
     "end_time": "2023-07-18T10:18:33.298745",
     "exception": false,
     "start_time": "2023-07-18T10:18:31.533562",
     "status": "completed"
    },
    "tags": []
   },
   "outputs": [
    {
     "name": "stdout",
     "output_type": "stream",
     "text": [
      "Shortest Path: ['GERAG', 'SUNIR']\n"
     ]
    },
    {
     "data": {
      "image/png": "[encoded data removed]",
      "text/plain": [
       "<Figure size 640x480 with 1 Axes>"
      ]
     },
     "metadata": {},
     "output_type": "display_data"
    }
   ],
   "source": [
    "import networkx as nx\n",
    "import pandas as pd\n",
    "import math\n",
    "\n",
    "# Read the data from the CSV files\n",
    "node_data = pd.read_csv(\"/kaggle/input/asecna-preprocessed-dataset/Nodes_Features.csv\")\n",
    "flight_data = pd.read_csv(\"/kaggle/input/asecna-preprocessed-dataset/Flight_information.csv\")\n",
    "selected_rows = node_data.loc[:452]\n",
    "\n",
    "# Iterate over the selected rows and add nodes to the graph\n",
    "G = nx.Graph()\n",
    "for _, row in selected_rows.iterrows():\n",
    "    node = row[\"node\"]\n",
    "    latitude = row[\"Latitude\"]\n",
    "    longitude = row[\"Longitude\"]\n",
    "    \n",
    "    # Add the node with attributes to the graph\n",
    "    G.add_node(node, Latitude=latitude, Longitude=longitude)\n",
    "\n",
    "# Haversine formula to calculate distance between two points on the Earth's surface\n",
    "def haversine(lat1, lon1, lat2, lon2):\n",
    "    R = 6371  # Earth's radius in km\n",
    "    dlat = math.radians(lat2 - lat1)\n",
    "    dlon = math.radians(lon2 - lon1)\n",
    "    a = math.sin(dlat / 2) ** 2 + math.cos(math.radians(lat1)) * math.cos(math.radians(lat2)) * math.sin(dlon / 2) ** 2\n",
    "    c = 2 * math.atan2(math.sqrt(a), math.sqrt(1 - a))\n",
    "    distance = R * c\n",
    "    return distance\n",
    "\n",
    "\n",
    "# Calculate distances and add edges to the graph\n",
    "for i, node1 in enumerate(G.nodes):\n",
    "    for j, node2 in enumerate(G.nodes):\n",
    "        if i < j:\n",
    "            lat1 = G.nodes[node1][\"Latitude\"]\n",
    "            lon1 = G.nodes[node1][\"Longitude\"]\n",
    "            lat2 = G.nodes[node2][\"Latitude\"]\n",
    "            lon2 = G.nodes[node2][\"Longitude\"]\n",
    "            distance = haversine(lat1, lon1, lat2, lon2)\n",
    "            \n",
    "            # Add edge with distance as weight\n",
    "            G.add_edge(node1, node2, weight=distance)\n",
    "\n",
    "\n",
    "# Extract flight entry and exit points from the flight dataset\n",
    "entry_point = flight_data[\"Entry Point\"].values[0]\n",
    "exit_point = flight_data[\"Exit Point\"].values[0]\n",
    "\n",
    "# Find the shortest path including all nodes between entry and exit points\n",
    "shortest_path = nx.shortest_path(G, source=entry_point, target=exit_point, weight=\"weight\")\n",
    "\n",
    "# Print the shortest path\n",
    "print(\"Shortest Path:\", shortest_path)\n",
    "\n",
    "\n",
    "# Create a subgraph of the shortest path\n",
    "subgraph = G.subgraph(shortest_path)\n",
    "\n",
    "# Plot the subgraph\n",
    "pos = nx.spring_layout(subgraph)\n",
    "nx.draw(subgraph, pos, with_labels=True, node_color='lightblue', node_size=500, font_size=8, edge_color='gray', width=1.5)\n",
    "\n",
    "# Show the plot\n",
    "plt.show()\n"
   ]
  },
  {
   "cell_type": "code",
   "execution_count": null,
   "id": "bc532896",
   "metadata": {
    "papermill": {
     "duration": 0.010687,
     "end_time": "2023-07-18T10:18:33.322794",
     "exception": false,
     "start_time": "2023-07-18T10:18:33.312107",
     "status": "completed"
    },
    "tags": []
   },
   "outputs": [],
   "source": []
  }
 ],
 "metadata": {
  "kernelspec": {
   "display_name": "Python 3",
   "language": "python",
   "name": "python3"
  },
  "language_info": {
   "codemirror_mode": {
    "name": "ipython",
    "version": 3
   },
   "file_extension": ".py",
   "mimetype": "text/x-python",
   "name": "python",
   "nbconvert_exporter": "python",
   "pygments_lexer": "ipython3",
   "version": "3.10.10"
  },
  "papermill": {
   "default_parameters": {},
   "duration": 25.214048,
   "end_time": "2023-07-18T10:18:34.357202",
   "environment_variables": {},
   "exception": null,
   "input_path": "__notebook__.ipynb",
   "output_path": "__notebook__.ipynb",
   "parameters": {},
   "start_time": "2023-07-18T10:18:09.143154",
   "version": "2.4.0"
  }
 },
 "nbformat": 4,
 "nbformat_minor": 5
}
