{
 "cells": [
  {
   "cell_type": "markdown",
   "id": "f49cd811",
   "metadata": {
    "papermill": {
     "duration": 0.006872,
     "end_time": "2023-07-10T12:48:30.307435",
     "exception": false,
     "start_time": "2023-07-10T12:48:30.300563",
     "status": "completed"
    },
    "tags": []
   },
   "source": [
    "# **Summary of the project**\n",
    "\n",
    "The project aims to analyze data to determine the locations in Madagascar airspace that experience the highest congestion. It will also identify the times within a 24-hour period that are more prone to congestion and investigate potential causes by examining the correlation between turbulence and flight rules."
   ]
  },
  {
   "cell_type": "markdown",
   "id": "6e983416",
   "metadata": {
    "papermill": {
     "duration": 0.005941,
     "end_time": "2023-07-10T12:48:30.319891",
     "exception": false,
     "start_time": "2023-07-10T12:48:30.313950",
     "status": "completed"
    },
    "tags": []
   },
   "source": [
    "# **II-Data:** \n",
    "The data we have collected are data from September 2022 to June 2023 which  contains the following column: \n",
    "1. Line Number: Identification number for the flight record.\n",
    "2. Immatriculation: Aircraft registration number.\n",
    "3. Avion Type: Type of aircraft used for the flight.\n",
    "4. Turbulence Type (1, 2, 3, 4): Categorization of turbulence intensity.\n",
    "5. Departure Emplacement (ICAO code): ICAO code representing the departure location.\n",
    "6. Destination Emplacement (ICAO code): ICAO code representing the destination location.\n",
    "7. Flight Rule: Flight rules followed, categorized as VFR-VMC (Visual Flight Rules - Visual Meteorological Conditions) or IFR-IMC (Instrument Flight Rules - Instrument Meteorological Conditions).\n",
    "8. Radioborn Maker - Avion Capacity (COMNAV): Manufacturer of the radio equipment installed in the aircraft for communication and navigation purposes.\n",
    "9. Radioborn Maker - Avion Capacity (Surveillance): Manufacturer of the radio equipment installed in the aircraft for surveillance purposes.\n",
    "10. Flight Number Landing (INT): Flight number for the landing.\n",
    "11. Regional or International Flight: Indicates whether the flight is regional or international.\n",
    "12. Date: Date of the flight.\n",
    "13. Entry Point: Point of entry into a specific airspace or region.\n"
   ]
  },
  {
   "cell_type": "code",
   "execution_count": 1,
   "id": "504c747e",
   "metadata": {
    "execution": {
     "iopub.execute_input": "2023-07-10T12:48:30.334489Z",
     "iopub.status.busy": "2023-07-10T12:48:30.333809Z",
     "iopub.status.idle": "2023-07-10T12:48:30.346204Z",
     "shell.execute_reply": "2023-07-10T12:48:30.344463Z"
    },
    "papermill": {
     "duration": 0.022451,
     "end_time": "2023-07-10T12:48:30.348590",
     "exception": false,
     "start_time": "2023-07-10T12:48:30.326139",
     "status": "completed"
    },
    "tags": []
   },
   "outputs": [],
   "source": [
    "#libraries that I used throhought the Analysis\n",
    "import numpy as np\n",
    "import pandas as pd\n",
    "import glob\n",
    "import os\n",
    "import matplotlib.pyplot as plt\n",
    "import calendar"
   ]
  },
  {
   "cell_type": "code",
   "execution_count": 2,
   "id": "3e281e04",
   "metadata": {
    "execution": {
     "iopub.execute_input": "2023-07-10T12:48:30.363952Z",
     "iopub.status.busy": "2023-07-10T12:48:30.362952Z",
     "iopub.status.idle": "2023-07-10T12:48:31.526978Z",
     "shell.execute_reply": "2023-07-10T12:48:31.525322Z"
    },
    "papermill": {
     "duration": 1.175011,
     "end_time": "2023-07-10T12:48:31.530079",
     "exception": false,
     "start_time": "2023-07-10T12:48:30.355068",
     "status": "completed"
    },
    "tags": []
   },
   "outputs": [
    {
     "name": "stdout",
     "output_type": "stream",
     "text": [
      "20220927.csv  20221124.csv  20230110.csv  20230218.csv\t20230329.csv\r\n",
      "20220928.csv  20221125.csv  20230111.csv  20230219.csv\t20230330.csv\r\n",
      "20220929.csv  20221126.csv  20230112.csv  20230220.csv\t20230331.csv\r\n",
      "20220930.csv  20221127.csv  20230113.csv  20230221.csv\t20230401.csv\r\n",
      "20221001.csv  20221128.csv  20230114.csv  20230222.csv\t20230402.csv\r\n",
      "20221002.csv  20221129.csv  20230115.csv  20230223.csv\t20230403.csv\r\n",
      "20221003.csv  20221130.csv  20230116.csv  20230224.csv\t20230404.csv\r\n",
      "20221004.csv  20221201.csv  20230117.csv  20230225.csv\t20230405.csv\r\n",
      "20221005.csv  20221202.csv  20230118.csv  20230226.csv\t20230406.csv\r\n",
      "20221006.csv  20221203.csv  20230119.csv  20230227.csv\t20230407.csv\r\n",
      "20221007.csv  20221204.csv  20230120.csv  20230228.csv\t20230408.csv\r\n",
      "20221008.csv  20221205.csv  20230121.csv  20230301.csv\t20230409.csv\r\n",
      "20221010.csv  20221206.csv  20230122.csv  20230302.csv\t20230410.csv\r\n",
      "20221011.csv  20221207.csv  20230123.csv  20230303.csv\t20230411.csv\r\n",
      "20221012.csv  20221208.csv  20230124.csv  20230304.csv\t20230412.csv\r\n",
      "20221013.csv  20221209.csv  20230125.csv  20230305.csv\t20230413.csv\r\n",
      "20221014.csv  20221210.csv  20230126.csv  20230306.csv\t20230414.csv\r\n",
      "20221015.csv  20221211.csv  20230127.csv  20230307.csv\t20230415.csv\r\n",
      "20221016.csv  20221212.csv  20230128.csv  20230308.csv\t20230416.csv\r\n",
      "20221017.csv  20221213.csv  20230129.csv  20230309.csv\t20230417.csv\r\n",
      "20221018.csv  20221214.csv  20230130.csv  20230310.csv\t20230418.csv\r\n",
      "20221019.csv  20221215.csv  20230131.csv  20230311.csv\t20230419.csv\r\n",
      "20221020.csv  20221216.csv  20230201.csv  20230312.csv\t20230420.csv\r\n",
      "20221021.csv  20221217.csv  20230202.csv  20230313.csv\t20230421.csv\r\n",
      "20221022.csv  20221218.csv  20230203.csv  20230314.csv\t20230422.csv\r\n",
      "20221023.csv  20221219.csv  20230204.csv  20230315.csv\t20230423.csv\r\n",
      "20221024.csv  20221228.csv  20230205.csv  20230316.csv\t20230424.csv\r\n",
      "20221025.csv  20221229.csv  20230206.csv  20230317.csv\t20230425.csv\r\n",
      "20221113.csv  20221230.csv  20230207.csv  20230318.csv\t20230426.csv\r\n",
      "20221114.csv  20221231.csv  20230208.csv  20230319.csv\t20230427.csv\r\n",
      "20221115.csv  20230101.csv  20230209.csv  20230320.csv\t20230428.csv\r\n",
      "20221116.csv  20230102.csv  20230210.csv  20230321.csv\t20230429.csv\r\n",
      "20221117.csv  20230103.csv  20230211.csv  20230322.csv\t20230430.csv\r\n",
      "20221118.csv  20230104.csv  20230212.csv  20230323.csv\t20230501.csv\r\n",
      "20221119.csv  20230105.csv  20230213.csv  20230324.csv\t20230502.csv\r\n",
      "20221120.csv  20230106.csv  20230214.csv  20230325.csv\t20230503.csv\r\n",
      "20221121.csv  20230107.csv  20230215.csv  20230326.csv\t20230504.csv\r\n",
      "20221122.csv  20230108.csv  20230216.csv  20230327.csv\t20230505.csv\r\n",
      "20221123.csv  20230109.csv  20230217.csv  20230328.csv\r\n"
     ]
    }
   ],
   "source": [
    "# See how many files there are in the directory. \n",
    "# \"!\" commands are called \"magic commands\" and allow you to use bash\n",
    "file_dir = '../input/asecnasj2223'\n",
    "!ls $file_dir\n"
   ]
  },
  {
   "cell_type": "code",
   "execution_count": 3,
   "id": "242f1ce7",
   "metadata": {
    "execution": {
     "iopub.execute_input": "2023-07-10T12:48:31.546068Z",
     "iopub.status.busy": "2023-07-10T12:48:31.545580Z",
     "iopub.status.idle": "2023-07-10T12:48:32.651998Z",
     "shell.execute_reply": "2023-07-10T12:48:32.650654Z"
    },
    "papermill": {
     "duration": 1.117747,
     "end_time": "2023-07-10T12:48:32.654839",
     "exception": false,
     "start_time": "2023-07-10T12:48:31.537092",
     "status": "completed"
    },
    "tags": []
   },
   "outputs": [
    {
     "name": "stdout",
     "output_type": "stream",
     "text": [
      "194\r\n"
     ]
    }
   ],
   "source": [
    "# Number of files we are dealing with\n",
    "!ls $file_dir | wc -l"
   ]
  },
  {
   "cell_type": "code",
   "execution_count": 4,
   "id": "ebd84bc6",
   "metadata": {
    "execution": {
     "iopub.execute_input": "2023-07-10T12:48:32.671003Z",
     "iopub.status.busy": "2023-07-10T12:48:32.670557Z",
     "iopub.status.idle": "2023-07-10T12:48:32.681583Z",
     "shell.execute_reply": "2023-07-10T12:48:32.680569Z"
    },
    "papermill": {
     "duration": 0.022336,
     "end_time": "2023-07-10T12:48:32.684241",
     "exception": false,
     "start_time": "2023-07-10T12:48:32.661905",
     "status": "completed"
    },
    "tags": []
   },
   "outputs": [],
   "source": [
    "files = glob.glob(os.path.join(file_dir, \"*.csv\"))"
   ]
  },
  {
   "cell_type": "markdown",
   "id": "e3c0b588",
   "metadata": {
    "papermill": {
     "duration": 0.006974,
     "end_time": "2023-07-10T12:48:32.699612",
     "exception": false,
     "start_time": "2023-07-10T12:48:32.692638",
     "status": "completed"
    },
    "tags": []
   },
   "source": [
    "All my file where displayed as one column and not 18, I use this code to make sure it work and then loop over the 196 file"
   ]
  },
  {
   "cell_type": "code",
   "execution_count": 5,
   "id": "568f00a3",
   "metadata": {
    "execution": {
     "iopub.execute_input": "2023-07-10T12:48:32.715828Z",
     "iopub.status.busy": "2023-07-10T12:48:32.715454Z",
     "iopub.status.idle": "2023-07-10T12:48:32.816675Z",
     "shell.execute_reply": "2023-07-10T12:48:32.815306Z"
    },
    "papermill": {
     "duration": 0.112945,
     "end_time": "2023-07-10T12:48:32.819438",
     "exception": false,
     "start_time": "2023-07-10T12:48:32.706493",
     "status": "completed"
    },
    "tags": []
   },
   "outputs": [
    {
     "data": {
      "text/plain": [
       "(107, 18)"
      ]
     },
     "execution_count": 5,
     "metadata": {},
     "output_type": "execute_result"
    }
   ],
   "source": [
    "import pandas as pd\n",
    "\n",
    "data_file = '/kaggle/input/asecnasj2223/20220927.csv'\n",
    "\n",
    "data = pd.read_csv(data_file, header=None)\n",
    "\n",
    "df = pd.DataFrame({'Data': data[0]})\n",
    "df[['Line Number',             # Identification number for the flight record.\n",
    "              'Immatriculation',         # Aircraft registration number.\n",
    "              'Avion Type',               # Type of aircraft used for the flight.\n",
    "              'Turbulence Type ',  # Categorization of turbulence intensity.\n",
    "              'Departure Emplacement (ICAO code)',   # ICAO code representing the departure location.\n",
    "              'Destination Emplacement (ICAO code)',  # ICAO code representing the destination location.\n",
    "              'Flight Rule',              # Flight rules followed: VFR-VMC or IFR-IMC.\n",
    "              'Radioborn Maker - Avion Capacity (COMNAV)',    # Manufacturer of communication and navigation equipment.\n",
    "              'Radioborn Maker - Avion Capacity (Surveillance)',   # Manufacturer of surveillance equipment.\n",
    "              'Flight Number Landing (INT)',  # Flight number for the landing.\n",
    "              'Regional or International Flight',   # Indicates if the flight is regional or international.\n",
    "              'Date',                     # Date of the flight.\n",
    "              'Entry Point',              # Point of entry into a specific airspace or region.\n",
    "              'Hour of Entry',            # Time of entry into the specified airspace or region.\n",
    "              'Flight Level',             # Altitude at which the aircraft is flying.\n",
    "              'Exit Point',               # Point of exit from a specific airspace or region.\n",
    "              'Hour of Exit',             # Time of exit from the specified airspace or region.\n",
    "              'Progression of the Flight'  # Description of the flight's progression or trajectory.\n",
    "   ]] = df['Data'].str.split('\\s+', expand=True, n=17)\n",
    "\n",
    "df = df.drop('Data', axis=1)\n",
    "\n",
    "df.shape\n"
   ]
  },
  {
   "cell_type": "code",
   "execution_count": 6,
   "id": "fcc26e8a",
   "metadata": {
    "execution": {
     "iopub.execute_input": "2023-07-10T12:48:32.835376Z",
     "iopub.status.busy": "2023-07-10T12:48:32.834987Z",
     "iopub.status.idle": "2023-07-10T12:48:37.804798Z",
     "shell.execute_reply": "2023-07-10T12:48:37.803675Z"
    },
    "papermill": {
     "duration": 4.980695,
     "end_time": "2023-07-10T12:48:37.807217",
     "exception": false,
     "start_time": "2023-07-10T12:48:32.826522",
     "status": "completed"
    },
    "tags": []
   },
   "outputs": [
    {
     "data": {
      "text/html": [
       "<div>\n",
       "<style scoped>\n",
       "    .dataframe tbody tr th:only-of-type {\n",
       "        vertical-align: middle;\n",
       "    }\n",
       "\n",
       "    .dataframe tbody tr th {\n",
       "        vertical-align: top;\n",
       "    }\n",
       "\n",
       "    .dataframe thead th {\n",
       "        text-align: right;\n",
       "    }\n",
       "</style>\n",
       "<table border=\"1\" class=\"dataframe\">\n",
       "  <thead>\n",
       "    <tr style=\"text-align: right;\">\n",
       "      <th></th>\n",
       "      <th>Line Number</th>\n",
       "      <th>Immatriculation</th>\n",
       "      <th>Avion Type</th>\n",
       "      <th>Turbulence Type</th>\n",
       "      <th>Departure Emplacement (ICAO code)</th>\n",
       "      <th>Destination Emplacement (ICAO code)</th>\n",
       "      <th>Flight Rule</th>\n",
       "      <th>Radioborn Maker - Avion Capacity (COMNAV)</th>\n",
       "      <th>Radioborn Maker - Avion Capacity (Surveillance)</th>\n",
       "      <th>Flight Number Landing (INT)</th>\n",
       "      <th>Regional or International Flight</th>\n",
       "      <th>Date</th>\n",
       "      <th>Entry Point</th>\n",
       "      <th>Hour of Entry</th>\n",
       "      <th>Flight Level</th>\n",
       "      <th>Exit Point</th>\n",
       "      <th>Hour of Exit</th>\n",
       "      <th>Progression of the Flight</th>\n",
       "    </tr>\n",
       "  </thead>\n",
       "  <tbody>\n",
       "    <tr>\n",
       "      <th>0</th>\n",
       "      <td>MAU855</td>\n",
       "      <td>3BNBU</td>\n",
       "      <td>A339</td>\n",
       "      <td>H</td>\n",
       "      <td>FIMP</td>\n",
       "      <td>FAOR</td>\n",
       "      <td>I</td>\n",
       "      <td>SDE3FGHIJ3J4J5M1RWY</td>\n",
       "      <td>LB1D1</td>\n",
       "      <td>OVF</td>\n",
       "      <td>INTERNATIONAL</td>\n",
       "      <td>20221210</td>\n",
       "      <td>GERAG</td>\n",
       "      <td>2117</td>\n",
       "      <td>400</td>\n",
       "      <td>SUNIR</td>\n",
       "      <td>2254</td>\n",
       "      <td>400  /NANTA;2127;400/DUPTO;2154;400/TU;2226;40...</td>\n",
       "    </tr>\n",
       "    <tr>\n",
       "      <th>1</th>\n",
       "      <td>KQA263</td>\n",
       "      <td>5YFFB</td>\n",
       "      <td>E190</td>\n",
       "      <td>M</td>\n",
       "      <td>FMMI</td>\n",
       "      <td>HKJK</td>\n",
       "      <td>I</td>\n",
       "      <td>SCDE2E3FGHIRWYZ</td>\n",
       "      <td>LB1</td>\n",
       "      <td>DEP</td>\n",
       "      <td>INTERNATIONAL</td>\n",
       "      <td>20221210</td>\n",
       "      <td>FMMI</td>\n",
       "      <td>2340</td>\n",
       "      <td>360</td>\n",
       "      <td>KINAN</td>\n",
       "      <td>0107</td>\n",
       "      <td>360  /TNV;2341;58/ZAPR;2343;78/1838S04726E;234...</td>\n",
       "    </tr>\n",
       "    <tr>\n",
       "      <th>2</th>\n",
       "      <td>FBU702</td>\n",
       "      <td>FHMIX</td>\n",
       "      <td>A359</td>\n",
       "      <td>H</td>\n",
       "      <td>LFPO</td>\n",
       "      <td>FMEE</td>\n",
       "      <td>I</td>\n",
       "      <td>ABDE1E2E3GHIJ1J2J3J4J5LM1OP2RVWXYZ</td>\n",
       "      <td>LB1D1</td>\n",
       "      <td>OVF</td>\n",
       "      <td>INTERNATIONAL</td>\n",
       "      <td>20221210</td>\n",
       "      <td>DENLI</td>\n",
       "      <td>2356</td>\n",
       "      <td>390</td>\n",
       "      <td>UVENA</td>\n",
       "      <td>0102</td>\n",
       "      <td>390  /ZCRNA;2356;350/IXEBU;0012;390/1225S05132...</td>\n",
       "    </tr>\n",
       "    <tr>\n",
       "      <th>3</th>\n",
       "      <td>CFG2314</td>\n",
       "      <td>DAIYD</td>\n",
       "      <td>A332</td>\n",
       "      <td>H</td>\n",
       "      <td>EDDF</td>\n",
       "      <td>FIMP</td>\n",
       "      <td>I</td>\n",
       "      <td>SDE1E2E3FGHIJ5LM1OP2RVWXYZ</td>\n",
       "      <td>LB1D1</td>\n",
       "      <td>OVF</td>\n",
       "      <td>INTERNATIONAL</td>\n",
       "      <td>20221210</td>\n",
       "      <td>ATOLA</td>\n",
       "      <td>0036</td>\n",
       "      <td>390</td>\n",
       "      <td>APLEM</td>\n",
       "      <td>0202</td>\n",
       "      <td>390  /ZCRNA;0036;390/BIRAL;0046;390/DO;0103;39...</td>\n",
       "    </tr>\n",
       "    <tr>\n",
       "      <th>4</th>\n",
       "      <td>AFR652</td>\n",
       "      <td>FGSQX</td>\n",
       "      <td>B77W</td>\n",
       "      <td>H</td>\n",
       "      <td>LFPG</td>\n",
       "      <td>FMEE</td>\n",
       "      <td>I</td>\n",
       "      <td>SDE2E3FGHIJ3J5M1P2RWXYZ</td>\n",
       "      <td>LB1D1</td>\n",
       "      <td>OVF</td>\n",
       "      <td>INTERNATIONAL</td>\n",
       "      <td>20221210</td>\n",
       "      <td>DENLI</td>\n",
       "      <td>0104</td>\n",
       "      <td>350</td>\n",
       "      <td>UVENA</td>\n",
       "      <td>0212</td>\n",
       "      <td>350  /ZCRNA;0104;370/IXEBU;0121;370/MIDRI;0131...</td>\n",
       "    </tr>\n",
       "  </tbody>\n",
       "</table>\n",
       "</div>"
      ],
      "text/plain": [
       "  Line Number Immatriculation Avion Type Turbulence Type  \\\n",
       "0      MAU855           3BNBU       A339               H   \n",
       "1      KQA263           5YFFB       E190               M   \n",
       "2      FBU702           FHMIX       A359               H   \n",
       "3     CFG2314           DAIYD       A332               H   \n",
       "4      AFR652           FGSQX       B77W               H   \n",
       "\n",
       "  Departure Emplacement (ICAO code) Destination Emplacement (ICAO code)  \\\n",
       "0                              FIMP                                FAOR   \n",
       "1                              FMMI                                HKJK   \n",
       "2                              LFPO                                FMEE   \n",
       "3                              EDDF                                FIMP   \n",
       "4                              LFPG                                FMEE   \n",
       "\n",
       "  Flight Rule Radioborn Maker - Avion Capacity (COMNAV)  \\\n",
       "0           I                       SDE3FGHIJ3J4J5M1RWY   \n",
       "1           I                           SCDE2E3FGHIRWYZ   \n",
       "2           I        ABDE1E2E3GHIJ1J2J3J4J5LM1OP2RVWXYZ   \n",
       "3           I                SDE1E2E3FGHIJ5LM1OP2RVWXYZ   \n",
       "4           I                   SDE2E3FGHIJ3J5M1P2RWXYZ   \n",
       "\n",
       "  Radioborn Maker - Avion Capacity (Surveillance) Flight Number Landing (INT)  \\\n",
       "0                                           LB1D1                         OVF   \n",
       "1                                             LB1                         DEP   \n",
       "2                                           LB1D1                         OVF   \n",
       "3                                           LB1D1                         OVF   \n",
       "4                                           LB1D1                         OVF   \n",
       "\n",
       "  Regional or International Flight      Date Entry Point Hour of Entry  \\\n",
       "0                    INTERNATIONAL  20221210       GERAG          2117   \n",
       "1                    INTERNATIONAL  20221210        FMMI          2340   \n",
       "2                    INTERNATIONAL  20221210       DENLI          2356   \n",
       "3                    INTERNATIONAL  20221210       ATOLA          0036   \n",
       "4                    INTERNATIONAL  20221210       DENLI          0104   \n",
       "\n",
       "  Flight Level Exit Point Hour of Exit  \\\n",
       "0          400      SUNIR         2254   \n",
       "1          360      KINAN         0107   \n",
       "2          390      UVENA         0102   \n",
       "3          390      APLEM         0202   \n",
       "4          350      UVENA         0212   \n",
       "\n",
       "                           Progression of the Flight  \n",
       "0  400  /NANTA;2127;400/DUPTO;2154;400/TU;2226;40...  \n",
       "1  360  /TNV;2341;58/ZAPR;2343;78/1838S04726E;234...  \n",
       "2  390  /ZCRNA;2356;350/IXEBU;0012;390/1225S05132...  \n",
       "3  390  /ZCRNA;0036;390/BIRAL;0046;390/DO;0103;39...  \n",
       "4  350  /ZCRNA;0104;370/IXEBU;0121;370/MIDRI;0131...  "
      ]
     },
     "execution_count": 6,
     "metadata": {},
     "output_type": "execute_result"
    }
   ],
   "source": [
    "import os\n",
    "\n",
    "# List of file paths matching a specific pattern\n",
    "file_paths = glob.glob('/kaggle/input/asecnasj2223/*.csv')\n",
    "\n",
    "# Empty list to store the DataFrames\n",
    "dfs = []\n",
    "\n",
    "# Iterate over each file path\n",
    "for file_path in file_paths:\n",
    "    # Extract the file name without the extension\n",
    "    file_name = os.path.splitext(os.path.basename(file_path))[0]\n",
    "    \n",
    "    # Read the CSV file into a DataFrame\n",
    "    data = pd.read_csv(file_path, header=None)\n",
    "    df = pd.DataFrame({'Data': data[0]})\n",
    "    df[['Line Number', 'Immatriculation', 'Avion Type', 'Turbulence Type', 'Departure Emplacement (ICAO code)',\n",
    "        'Destination Emplacement (ICAO code)', 'Flight Rule', 'Radioborn Maker - Avion Capacity (COMNAV)',\n",
    "        'Radioborn Maker - Avion Capacity (Surveillance)', 'Flight Number Landing (INT)',\n",
    "        'Regional or International Flight', 'Date', 'Entry Point', 'Hour of Entry', 'Flight Level',\n",
    "        'Exit Point', 'Hour of Exit', 'Progression of the Flight']] = df['Data'].str.split('\\s+', expand=True, n=17)\n",
    "    \n",
    "    # Assign the file name as the value in the 'Date' column\n",
    "    df['Date'] = file_name\n",
    "    \n",
    "    df = df.drop('Data', axis=1)\n",
    "    \n",
    "    # Append the DataFrame to the list\n",
    "    dfs.append(df)\n",
    "\n",
    "# Concatenate the list of DataFrames into a single DataFrame\n",
    "combined_df = pd.concat(dfs)\n",
    "\n",
    "# Reset the index of the combined DataFrame\n",
    "combined_df = combined_df.reset_index(drop=True)\n",
    "\n",
    "combined_df.head()\n"
   ]
  },
  {
   "cell_type": "code",
   "execution_count": 7,
   "id": "4f165697",
   "metadata": {
    "execution": {
     "iopub.execute_input": "2023-07-10T12:48:37.824330Z",
     "iopub.status.busy": "2023-07-10T12:48:37.823882Z",
     "iopub.status.idle": "2023-07-10T12:48:39.326478Z",
     "shell.execute_reply": "2023-07-10T12:48:39.325473Z"
    },
    "papermill": {
     "duration": 1.514303,
     "end_time": "2023-07-10T12:48:39.329138",
     "exception": false,
     "start_time": "2023-07-10T12:48:37.814835",
     "status": "completed"
    },
    "tags": []
   },
   "outputs": [],
   "source": [
    "# Export the combined DataFrame to a CSV file\n",
    "combined_df.to_csv('combined_data.csv', index=False)"
   ]
  },
  {
   "cell_type": "markdown",
   "id": "118b8494",
   "metadata": {
    "papermill": {
     "duration": 0.006995,
     "end_time": "2023-07-10T12:48:39.343560",
     "exception": false,
     "start_time": "2023-07-10T12:48:39.336565",
     "status": "completed"
    },
    "tags": []
   },
   "source": [
    "# **III. Time-Based: Congestion Analysis**\n",
    "\n",
    "With our data prepared for analysis, the primary objective for this week is to ascertain peak congestion periods by examining the monthly, daily, and hourly flight volumes. By identifying these periods, we can gain valuable insights into the patterns of congestion and develop strategies to mitigate its impact.\n"
   ]
  },
  {
   "cell_type": "markdown",
   "id": "045ea2d5",
   "metadata": {
    "papermill": {
     "duration": 0.007087,
     "end_time": "2023-07-10T12:48:39.357932",
     "exception": false,
     "start_time": "2023-07-10T12:48:39.350845",
     "status": "completed"
    },
    "tags": []
   },
   "source": [
    "**1)Peak month**:"
   ]
  },
  {
   "cell_type": "code",
   "execution_count": 8,
   "id": "b6539aa1",
   "metadata": {
    "execution": {
     "iopub.execute_input": "2023-07-10T12:48:39.375410Z",
     "iopub.status.busy": "2023-07-10T12:48:39.374431Z",
     "iopub.status.idle": "2023-07-10T12:48:40.017804Z",
     "shell.execute_reply": "2023-07-10T12:48:40.016704Z"
    },
    "papermill": {
     "duration": 0.656536,
     "end_time": "2023-07-10T12:48:40.021809",
     "exception": false,
     "start_time": "2023-07-10T12:48:39.365273",
     "status": "completed"
    },
    "tags": []
   },
   "outputs": [
    {
     "data": {
      "image/png": "[encoded data removed]",
      "text/plain": [
       "<Figure size 800x500 with 1 Axes>"
      ]
     },
     "metadata": {},
     "output_type": "display_data"
    },
    {
     "name": "stdout",
     "output_type": "stream",
     "text": [
      "Month with the most flights: Apr\n"
     ]
    }
   ],
   "source": [
    "import pandas as pd\n",
    "# Convert 'Date' column to datetime format\n",
    "combined_df['Date'] = pd.to_datetime(combined_df['Date'], format='%Y%m%d')\n",
    "\n",
    "# Extract the month from the 'Date' column and convert to month names\n",
    "combined_df['Month'] = combined_df['Date'].dt.month.apply(lambda x: calendar.month_abbr[x])\n",
    "\n",
    "# Count the number of flights per month\n",
    "flight_counts = combined_df['Month'].value_counts()\n",
    "\n",
    "# Determine the month with the most flights\n",
    "most_flights_month = flight_counts.idxmax()\n",
    "\n",
    "# Visualization\n",
    "plt.figure(figsize=(8, 5))\n",
    "flight_counts.plot(kind='bar', color='skyblue')\n",
    "plt.xlabel('Month')\n",
    "plt.ylabel('Number of Flights')\n",
    "plt.title('Number of Flights per Month')\n",
    "plt.xticks(rotation=0)\n",
    "plt.tight_layout()\n",
    "plt.show()\n",
    "\n",
    "print(\"Month with the most flights:\", most_flights_month)\n"
   ]
  },
  {
   "cell_type": "code",
   "execution_count": 9,
   "id": "23bb6d91",
   "metadata": {
    "execution": {
     "iopub.execute_input": "2023-07-10T12:48:40.039766Z",
     "iopub.status.busy": "2023-07-10T12:48:40.039338Z",
     "iopub.status.idle": "2023-07-10T12:48:40.047455Z",
     "shell.execute_reply": "2023-07-10T12:48:40.046349Z"
    },
    "papermill": {
     "duration": 0.019919,
     "end_time": "2023-07-10T12:48:40.049696",
     "exception": false,
     "start_time": "2023-07-10T12:48:40.029777",
     "status": "completed"
    },
    "tags": []
   },
   "outputs": [
    {
     "data": {
      "text/plain": [
       "Index(['Line Number', 'Immatriculation', 'Avion Type', 'Turbulence Type',\n",
       "       'Departure Emplacement (ICAO code)',\n",
       "       'Destination Emplacement (ICAO code)', 'Flight Rule',\n",
       "       'Radioborn Maker - Avion Capacity (COMNAV)',\n",
       "       'Radioborn Maker - Avion Capacity (Surveillance)',\n",
       "       'Flight Number Landing (INT)', 'Regional or International Flight',\n",
       "       'Date', 'Entry Point', 'Hour of Entry', 'Flight Level', 'Exit Point',\n",
       "       'Hour of Exit', 'Progression of the Flight', 'Month'],\n",
       "      dtype='object')"
      ]
     },
     "execution_count": 9,
     "metadata": {},
     "output_type": "execute_result"
    }
   ],
   "source": [
    "combined_df.columns\n"
   ]
  },
  {
   "cell_type": "markdown",
   "id": "725cd068",
   "metadata": {
    "papermill": {
     "duration": 0.008628,
     "end_time": "2023-07-10T12:48:40.066477",
     "exception": false,
     "start_time": "2023-07-10T12:48:40.057849",
     "status": "completed"
    },
    "tags": []
   },
   "source": [
    "Well, we can notice that April is the time where there are a lot of flight data"
   ]
  },
  {
   "cell_type": "markdown",
   "id": "b65c1028",
   "metadata": {
    "papermill": {
     "duration": 0.008309,
     "end_time": "2023-07-10T12:48:40.082886",
     "exception": false,
     "start_time": "2023-07-10T12:48:40.074577",
     "status": "completed"
    },
    "tags": []
   },
   "source": [
    "**2)Peak day of the week:**\n"
   ]
  },
  {
   "cell_type": "code",
   "execution_count": 10,
   "id": "c144738d",
   "metadata": {
    "execution": {
     "iopub.execute_input": "2023-07-10T12:48:40.102994Z",
     "iopub.status.busy": "2023-07-10T12:48:40.102292Z",
     "iopub.status.idle": "2023-07-10T12:48:40.551081Z",
     "shell.execute_reply": "2023-07-10T12:48:40.549917Z"
    },
    "papermill": {
     "duration": 0.46306,
     "end_time": "2023-07-10T12:48:40.555006",
     "exception": false,
     "start_time": "2023-07-10T12:48:40.091946",
     "status": "completed"
    },
    "tags": []
   },
   "outputs": [
    {
     "data": {
      "image/png": "[encoded data removed]",
      "text/plain": [
       "<Figure size 800x500 with 1 Axes>"
      ]
     },
     "metadata": {},
     "output_type": "display_data"
    },
    {
     "name": "stdout",
     "output_type": "stream",
     "text": [
      "Most congested day of the week: Wednesday\n"
     ]
    }
   ],
   "source": [
    "import pandas as pd\n",
    "import matplotlib.pyplot as plt\n",
    "\n",
    "\n",
    "# Convert 'Date' column to datetime format\n",
    "combined_df['Date'] = pd.to_datetime(combined_df['Date'], format='%Y%m%d')\n",
    "\n",
    "# Extract the day of the week from the 'Date' column\n",
    "combined_df['DayOfWeek'] = combined_df['Date'].dt.day_name()\n",
    "\n",
    "# Count the number of flights for each day of the week\n",
    "daily_congestion = combined_df['DayOfWeek'].value_counts()\n",
    "\n",
    "# Determine the most congested day\n",
    "most_congested_day = daily_congestion.idxmax()\n",
    "\n",
    "# Visualization\n",
    "plt.figure(figsize=(8, 5))\n",
    "daily_congestion.plot(kind='bar', color='lightgreen')\n",
    "plt.xlabel('Day of the Week')\n",
    "plt.ylabel('Number of Flights')\n",
    "plt.title('Congestion by Day of the Week')\n",
    "plt.xticks(rotation=0)\n",
    "plt.tight_layout()\n",
    "plt.show()\n",
    "\n",
    "print(\"Most congested day of the week:\", most_congested_day)\n"
   ]
  },
  {
   "cell_type": "code",
   "execution_count": 11,
   "id": "511e736e",
   "metadata": {
    "execution": {
     "iopub.execute_input": "2023-07-10T12:48:40.575037Z",
     "iopub.status.busy": "2023-07-10T12:48:40.574587Z",
     "iopub.status.idle": "2023-07-10T12:48:41.212411Z",
     "shell.execute_reply": "2023-07-10T12:48:41.211274Z"
    },
    "papermill": {
     "duration": 0.651394,
     "end_time": "2023-07-10T12:48:41.215753",
     "exception": false,
     "start_time": "2023-07-10T12:48:40.564359",
     "status": "completed"
    },
    "tags": []
   },
   "outputs": [
    {
     "data": {
      "image/png": "[encoded data removed]",
      "text/plain": [
       "<Figure size 1000x600 with 1 Axes>"
      ]
     },
     "metadata": {},
     "output_type": "display_data"
    },
    {
     "name": "stdout",
     "output_type": "stream",
     "text": [
      "Hour with the highest congestion: 9.0\n"
     ]
    }
   ],
   "source": [
    "\n",
    "# Convert 'Hour of Entry' and 'Hour of Exit' columns to datetime format\n",
    "combined_df['Hour of Entry'] = pd.to_datetime(combined_df['Hour of Entry'], format='%H%M', errors='coerce')\n",
    "combined_df['Hour of Exit'] = pd.to_datetime(combined_df['Hour of Exit'], format='%H%M', errors='coerce')\n",
    "\n",
    "# Number of flights for each hour of entry\n",
    "hourly_flight_counts_entry = combined_df['Hour of Entry'].dt.hour.value_counts().sort_index()\n",
    "\n",
    "# Number of flights for each hour of exit\n",
    "hourly_flight_counts_exit = combined_df['Hour of Exit'].dt.hour.value_counts().sort_index()\n",
    "\n",
    "# Merge the entry and exit flight counts\n",
    "hourly_flight_counts = pd.concat([hourly_flight_counts_entry, hourly_flight_counts_exit], axis=1, keys=['Entry', 'Exit'])\n",
    "hourly_flight_counts = hourly_flight_counts.fillna(0)\n",
    "\n",
    "# Total flights for each hour\n",
    "hourly_flight_counts['Total'] = hourly_flight_counts['Entry'] + hourly_flight_counts['Exit']\n",
    "\n",
    "peak_hour = hourly_flight_counts['Total'].idxmax()\n",
    "\n",
    "# Visualization\n",
    "plt.figure(figsize=(10, 6))\n",
    "hourly_flight_counts['Total'].plot(kind='bar', color='orange')\n",
    "plt.xlabel('Hour')\n",
    "plt.ylabel('Number of Flights')\n",
    "plt.title('Congestion by Hour')\n",
    "plt.xticks(rotation=0)\n",
    "plt.tight_layout()\n",
    "plt.show()\n",
    "\n",
    "print(\"Hour with the highest congestion:\", peak_hour)\n"
   ]
  },
  {
   "cell_type": "markdown",
   "id": "1edcabbd",
   "metadata": {
    "papermill": {
     "duration": 0.009312,
     "end_time": "2023-07-10T12:48:41.234900",
     "exception": false,
     "start_time": "2023-07-10T12:48:41.225588",
     "status": "completed"
    },
    "tags": []
   },
   "source": [
    "Peak Month: April, Peak Day: Wednesday, Peak Hour: 9\n",
    "\n",
    "**Summary:**\n",
    "\n",
    "From this analysis, I have determined the peak congestion periods for air travel from September 2022 to June 2023. Through careful examination, I found that the month of April experiences the highest volume of flights, while Wednesdays prove to be the most congested days. Additionally, peak congestion within a given day occurs at 9 o'clock. In the following I will analyze space."
   ]
  },
  {
   "cell_type": "code",
   "execution_count": null,
   "id": "7e4daa47",
   "metadata": {
    "papermill": {
     "duration": 0.009477,
     "end_time": "2023-07-10T12:48:41.253754",
     "exception": false,
     "start_time": "2023-07-10T12:48:41.244277",
     "status": "completed"
    },
    "tags": []
   },
   "outputs": [],
   "source": []
  }
 ],
 "metadata": {
  "kernelspec": {
   "display_name": "Python 3",
   "language": "python",
   "name": "python3"
  },
  "language_info": {
   "codemirror_mode": {
    "name": "ipython",
    "version": 3
   },
   "file_extension": ".py",
   "mimetype": "text/x-python",
   "name": "python",
   "nbconvert_exporter": "python",
   "pygments_lexer": "ipython3",
   "version": "3.10.10"
  },
  "papermill": {
   "default_parameters": {},
   "duration": 24.941457,
   "end_time": "2023-07-10T12:48:42.286440",
   "environment_variables": {},
   "exception": null,
   "input_path": "__notebook__.ipynb",
   "output_path": "__notebook__.ipynb",
   "parameters": {},
   "start_time": "2023-07-10T12:48:17.344983",
   "version": "2.4.0"
  }
 },
 "nbformat": 4,
 "nbformat_minor": 5
}
